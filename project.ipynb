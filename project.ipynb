{
 "cells": [
  {
   "cell_type": "markdown",
   "metadata": {},
   "source": [
    "### imports"
   ]
  },
  {
   "cell_type": "code",
   "execution_count": 52,
   "metadata": {},
   "outputs": [],
   "source": [
    "import pandas as pd\n",
    "import numpy as np\n",
    "import warnings\n",
    "#warnings.filterwarnings('ignore')\n",
    "import seaborn as sns\n",
    "import matplotlib.pyplot as plt\n",
    "from sklearn.model_selection import train_test_split\n",
    "from sklearn.metrics import recall_score"
   ]
  },
  {
   "cell_type": "code",
   "execution_count": 53,
   "metadata": {},
   "outputs": [],
   "source": [
    "df = pd.read_csv('data/kickstarter_projects.csv')"
   ]
  },
  {
   "cell_type": "code",
   "execution_count": 54,
   "metadata": {},
   "outputs": [],
   "source": [
    "df_original = df.copy"
   ]
  },
  {
   "cell_type": "markdown",
   "metadata": {},
   "source": [
    "### first look / quick EDA"
   ]
  },
  {
   "cell_type": "code",
   "execution_count": 55,
   "metadata": {},
   "outputs": [
    {
     "data": {
      "text/html": [
       "<div>\n",
       "<style scoped>\n",
       "    .dataframe tbody tr th:only-of-type {\n",
       "        vertical-align: middle;\n",
       "    }\n",
       "\n",
       "    .dataframe tbody tr th {\n",
       "        vertical-align: top;\n",
       "    }\n",
       "\n",
       "    .dataframe thead th {\n",
       "        text-align: right;\n",
       "    }\n",
       "</style>\n",
       "<table border=\"1\" class=\"dataframe\">\n",
       "  <thead>\n",
       "    <tr style=\"text-align: right;\">\n",
       "      <th></th>\n",
       "      <th>ID</th>\n",
       "      <th>Name</th>\n",
       "      <th>Category</th>\n",
       "      <th>Subcategory</th>\n",
       "      <th>Country</th>\n",
       "      <th>Launched</th>\n",
       "      <th>Deadline</th>\n",
       "      <th>Goal</th>\n",
       "      <th>Pledged</th>\n",
       "      <th>Backers</th>\n",
       "      <th>State</th>\n",
       "    </tr>\n",
       "  </thead>\n",
       "  <tbody>\n",
       "    <tr>\n",
       "      <th>0</th>\n",
       "      <td>1860890148</td>\n",
       "      <td>Grace Jones Does Not Give A F$#% T-Shirt (limi...</td>\n",
       "      <td>Fashion</td>\n",
       "      <td>Fashion</td>\n",
       "      <td>United States</td>\n",
       "      <td>2009-04-21 21:02:48</td>\n",
       "      <td>2009-05-31</td>\n",
       "      <td>1000</td>\n",
       "      <td>625</td>\n",
       "      <td>30</td>\n",
       "      <td>Failed</td>\n",
       "    </tr>\n",
       "    <tr>\n",
       "      <th>1</th>\n",
       "      <td>709707365</td>\n",
       "      <td>CRYSTAL ANTLERS UNTITLED MOVIE</td>\n",
       "      <td>Film &amp; Video</td>\n",
       "      <td>Shorts</td>\n",
       "      <td>United States</td>\n",
       "      <td>2009-04-23 00:07:53</td>\n",
       "      <td>2009-07-20</td>\n",
       "      <td>80000</td>\n",
       "      <td>22</td>\n",
       "      <td>3</td>\n",
       "      <td>Failed</td>\n",
       "    </tr>\n",
       "    <tr>\n",
       "      <th>2</th>\n",
       "      <td>1703704063</td>\n",
       "      <td>drawing for dollars</td>\n",
       "      <td>Art</td>\n",
       "      <td>Illustration</td>\n",
       "      <td>United States</td>\n",
       "      <td>2009-04-24 21:52:03</td>\n",
       "      <td>2009-05-03</td>\n",
       "      <td>20</td>\n",
       "      <td>35</td>\n",
       "      <td>3</td>\n",
       "      <td>Successful</td>\n",
       "    </tr>\n",
       "    <tr>\n",
       "      <th>3</th>\n",
       "      <td>727286</td>\n",
       "      <td>Offline Wikipedia iPhone app</td>\n",
       "      <td>Technology</td>\n",
       "      <td>Software</td>\n",
       "      <td>United States</td>\n",
       "      <td>2009-04-25 17:36:21</td>\n",
       "      <td>2009-07-14</td>\n",
       "      <td>99</td>\n",
       "      <td>145</td>\n",
       "      <td>25</td>\n",
       "      <td>Successful</td>\n",
       "    </tr>\n",
       "    <tr>\n",
       "      <th>4</th>\n",
       "      <td>1622952265</td>\n",
       "      <td>Pantshirts</td>\n",
       "      <td>Fashion</td>\n",
       "      <td>Fashion</td>\n",
       "      <td>United States</td>\n",
       "      <td>2009-04-27 14:10:39</td>\n",
       "      <td>2009-05-26</td>\n",
       "      <td>1900</td>\n",
       "      <td>387</td>\n",
       "      <td>10</td>\n",
       "      <td>Failed</td>\n",
       "    </tr>\n",
       "  </tbody>\n",
       "</table>\n",
       "</div>"
      ],
      "text/plain": [
       "           ID                                               Name   \n",
       "0  1860890148  Grace Jones Does Not Give A F$#% T-Shirt (limi...  \\\n",
       "1   709707365                     CRYSTAL ANTLERS UNTITLED MOVIE   \n",
       "2  1703704063                                drawing for dollars   \n",
       "3      727286                       Offline Wikipedia iPhone app   \n",
       "4  1622952265                                         Pantshirts   \n",
       "\n",
       "       Category   Subcategory        Country             Launched    Deadline   \n",
       "0       Fashion       Fashion  United States  2009-04-21 21:02:48  2009-05-31  \\\n",
       "1  Film & Video        Shorts  United States  2009-04-23 00:07:53  2009-07-20   \n",
       "2           Art  Illustration  United States  2009-04-24 21:52:03  2009-05-03   \n",
       "3    Technology      Software  United States  2009-04-25 17:36:21  2009-07-14   \n",
       "4       Fashion       Fashion  United States  2009-04-27 14:10:39  2009-05-26   \n",
       "\n",
       "    Goal  Pledged  Backers       State  \n",
       "0   1000      625       30      Failed  \n",
       "1  80000       22        3      Failed  \n",
       "2     20       35        3  Successful  \n",
       "3     99      145       25  Successful  \n",
       "4   1900      387       10      Failed  "
      ]
     },
     "execution_count": 55,
     "metadata": {},
     "output_type": "execute_result"
    }
   ],
   "source": [
    "df.head()"
   ]
  },
  {
   "cell_type": "code",
   "execution_count": 56,
   "metadata": {},
   "outputs": [
    {
     "data": {
      "text/html": [
       "<div>\n",
       "<style scoped>\n",
       "    .dataframe tbody tr th:only-of-type {\n",
       "        vertical-align: middle;\n",
       "    }\n",
       "\n",
       "    .dataframe tbody tr th {\n",
       "        vertical-align: top;\n",
       "    }\n",
       "\n",
       "    .dataframe thead th {\n",
       "        text-align: right;\n",
       "    }\n",
       "</style>\n",
       "<table border=\"1\" class=\"dataframe\">\n",
       "  <thead>\n",
       "    <tr style=\"text-align: right;\">\n",
       "      <th></th>\n",
       "      <th>ID</th>\n",
       "      <th>Name</th>\n",
       "      <th>Category</th>\n",
       "      <th>Subcategory</th>\n",
       "      <th>Country</th>\n",
       "      <th>Launched</th>\n",
       "      <th>Deadline</th>\n",
       "      <th>Goal</th>\n",
       "      <th>Pledged</th>\n",
       "      <th>Backers</th>\n",
       "      <th>State</th>\n",
       "    </tr>\n",
       "  </thead>\n",
       "  <tbody>\n",
       "    <tr>\n",
       "      <th>374848</th>\n",
       "      <td>1486845240</td>\n",
       "      <td>Americas Got Talent - Serious MAK</td>\n",
       "      <td>Music</td>\n",
       "      <td>Hip-Hop</td>\n",
       "      <td>United States</td>\n",
       "      <td>2018-01-02 14:13:09</td>\n",
       "      <td>2018-01-16</td>\n",
       "      <td>500</td>\n",
       "      <td>0</td>\n",
       "      <td>0</td>\n",
       "      <td>Live</td>\n",
       "    </tr>\n",
       "    <tr>\n",
       "      <th>374849</th>\n",
       "      <td>974738310</td>\n",
       "      <td>EVO Planner: The World's First Personalized Fl...</td>\n",
       "      <td>Design</td>\n",
       "      <td>Product Design</td>\n",
       "      <td>United States</td>\n",
       "      <td>2018-01-02 14:15:38</td>\n",
       "      <td>2018-02-09</td>\n",
       "      <td>15000</td>\n",
       "      <td>269</td>\n",
       "      <td>8</td>\n",
       "      <td>Live</td>\n",
       "    </tr>\n",
       "    <tr>\n",
       "      <th>374850</th>\n",
       "      <td>2106246194</td>\n",
       "      <td>Help save La Gattara, Arizona's first Cat Cafe!</td>\n",
       "      <td>Food</td>\n",
       "      <td>Food</td>\n",
       "      <td>United States</td>\n",
       "      <td>2018-01-02 14:17:46</td>\n",
       "      <td>2018-01-16</td>\n",
       "      <td>10000</td>\n",
       "      <td>165</td>\n",
       "      <td>3</td>\n",
       "      <td>Live</td>\n",
       "    </tr>\n",
       "    <tr>\n",
       "      <th>374851</th>\n",
       "      <td>1830173355</td>\n",
       "      <td>Digital Dagger Coin</td>\n",
       "      <td>Art</td>\n",
       "      <td>Art</td>\n",
       "      <td>United States</td>\n",
       "      <td>2018-01-02 14:38:17</td>\n",
       "      <td>2018-02-01</td>\n",
       "      <td>650</td>\n",
       "      <td>7</td>\n",
       "      <td>1</td>\n",
       "      <td>Live</td>\n",
       "    </tr>\n",
       "    <tr>\n",
       "      <th>374852</th>\n",
       "      <td>1339173863</td>\n",
       "      <td>Spirits of the Forest</td>\n",
       "      <td>Games</td>\n",
       "      <td>Tabletop Games</td>\n",
       "      <td>Spain</td>\n",
       "      <td>2018-01-02 15:02:31</td>\n",
       "      <td>2018-01-26</td>\n",
       "      <td>24274</td>\n",
       "      <td>4483</td>\n",
       "      <td>82</td>\n",
       "      <td>Live</td>\n",
       "    </tr>\n",
       "  </tbody>\n",
       "</table>\n",
       "</div>"
      ],
      "text/plain": [
       "                ID                                               Name   \n",
       "374848  1486845240                  Americas Got Talent - Serious MAK  \\\n",
       "374849   974738310  EVO Planner: The World's First Personalized Fl...   \n",
       "374850  2106246194    Help save La Gattara, Arizona's first Cat Cafe!   \n",
       "374851  1830173355                                Digital Dagger Coin   \n",
       "374852  1339173863                              Spirits of the Forest   \n",
       "\n",
       "       Category     Subcategory        Country             Launched   \n",
       "374848    Music         Hip-Hop  United States  2018-01-02 14:13:09  \\\n",
       "374849   Design  Product Design  United States  2018-01-02 14:15:38   \n",
       "374850     Food            Food  United States  2018-01-02 14:17:46   \n",
       "374851      Art             Art  United States  2018-01-02 14:38:17   \n",
       "374852    Games  Tabletop Games          Spain  2018-01-02 15:02:31   \n",
       "\n",
       "          Deadline   Goal  Pledged  Backers State  \n",
       "374848  2018-01-16    500        0        0  Live  \n",
       "374849  2018-02-09  15000      269        8  Live  \n",
       "374850  2018-01-16  10000      165        3  Live  \n",
       "374851  2018-02-01    650        7        1  Live  \n",
       "374852  2018-01-26  24274     4483       82  Live  "
      ]
     },
     "execution_count": 56,
     "metadata": {},
     "output_type": "execute_result"
    }
   ],
   "source": [
    "df.tail()"
   ]
  },
  {
   "cell_type": "code",
   "execution_count": 57,
   "metadata": {},
   "outputs": [
    {
     "name": "stdout",
     "output_type": "stream",
     "text": [
      "<class 'pandas.core.frame.DataFrame'>\n",
      "RangeIndex: 374853 entries, 0 to 374852\n",
      "Data columns (total 11 columns):\n",
      " #   Column       Non-Null Count   Dtype \n",
      "---  ------       --------------   ----- \n",
      " 0   ID           374853 non-null  int64 \n",
      " 1   Name         374853 non-null  object\n",
      " 2   Category     374853 non-null  object\n",
      " 3   Subcategory  374853 non-null  object\n",
      " 4   Country      374853 non-null  object\n",
      " 5   Launched     374853 non-null  object\n",
      " 6   Deadline     374853 non-null  object\n",
      " 7   Goal         374853 non-null  int64 \n",
      " 8   Pledged      374853 non-null  int64 \n",
      " 9   Backers      374853 non-null  int64 \n",
      " 10  State        374853 non-null  object\n",
      "dtypes: int64(4), object(7)\n",
      "memory usage: 31.5+ MB\n"
     ]
    }
   ],
   "source": [
    "df.info()"
   ]
  },
  {
   "cell_type": "code",
   "execution_count": 58,
   "metadata": {},
   "outputs": [
    {
     "data": {
      "text/plain": [
       "State\n",
       "Failed        197611\n",
       "Successful    133851\n",
       "Canceled       38751\n",
       "Live            2798\n",
       "Suspended       1842\n",
       "Name: count, dtype: int64"
      ]
     },
     "execution_count": 58,
     "metadata": {},
     "output_type": "execute_result"
    }
   ],
   "source": [
    "df.State.value_counts()\n"
   ]
  },
  {
   "cell_type": "code",
   "execution_count": 59,
   "metadata": {},
   "outputs": [
    {
     "data": {
      "text/html": [
       "<div>\n",
       "<style scoped>\n",
       "    .dataframe tbody tr th:only-of-type {\n",
       "        vertical-align: middle;\n",
       "    }\n",
       "\n",
       "    .dataframe tbody tr th {\n",
       "        vertical-align: top;\n",
       "    }\n",
       "\n",
       "    .dataframe thead th {\n",
       "        text-align: right;\n",
       "    }\n",
       "</style>\n",
       "<table border=\"1\" class=\"dataframe\">\n",
       "  <thead>\n",
       "    <tr style=\"text-align: right;\">\n",
       "      <th></th>\n",
       "      <th>ID</th>\n",
       "      <th>Name</th>\n",
       "      <th>Category</th>\n",
       "      <th>Subcategory</th>\n",
       "      <th>Country</th>\n",
       "      <th>Launched</th>\n",
       "      <th>Deadline</th>\n",
       "      <th>Goal</th>\n",
       "      <th>Pledged</th>\n",
       "      <th>Backers</th>\n",
       "      <th>State</th>\n",
       "    </tr>\n",
       "  </thead>\n",
       "  <tbody>\n",
       "    <tr>\n",
       "      <th>0</th>\n",
       "      <td>1860890148</td>\n",
       "      <td>Grace Jones Does Not Give A F$#% T-Shirt (limi...</td>\n",
       "      <td>Fashion</td>\n",
       "      <td>Fashion</td>\n",
       "      <td>United States</td>\n",
       "      <td>2009-04-21 21:02:48</td>\n",
       "      <td>2009-05-31</td>\n",
       "      <td>1000</td>\n",
       "      <td>625</td>\n",
       "      <td>30</td>\n",
       "      <td>Failed</td>\n",
       "    </tr>\n",
       "    <tr>\n",
       "      <th>1</th>\n",
       "      <td>709707365</td>\n",
       "      <td>CRYSTAL ANTLERS UNTITLED MOVIE</td>\n",
       "      <td>Film &amp; Video</td>\n",
       "      <td>Shorts</td>\n",
       "      <td>United States</td>\n",
       "      <td>2009-04-23 00:07:53</td>\n",
       "      <td>2009-07-20</td>\n",
       "      <td>80000</td>\n",
       "      <td>22</td>\n",
       "      <td>3</td>\n",
       "      <td>Failed</td>\n",
       "    </tr>\n",
       "    <tr>\n",
       "      <th>2</th>\n",
       "      <td>1703704063</td>\n",
       "      <td>drawing for dollars</td>\n",
       "      <td>Art</td>\n",
       "      <td>Illustration</td>\n",
       "      <td>United States</td>\n",
       "      <td>2009-04-24 21:52:03</td>\n",
       "      <td>2009-05-03</td>\n",
       "      <td>20</td>\n",
       "      <td>35</td>\n",
       "      <td>3</td>\n",
       "      <td>Successful</td>\n",
       "    </tr>\n",
       "    <tr>\n",
       "      <th>3</th>\n",
       "      <td>727286</td>\n",
       "      <td>Offline Wikipedia iPhone app</td>\n",
       "      <td>Technology</td>\n",
       "      <td>Software</td>\n",
       "      <td>United States</td>\n",
       "      <td>2009-04-25 17:36:21</td>\n",
       "      <td>2009-07-14</td>\n",
       "      <td>99</td>\n",
       "      <td>145</td>\n",
       "      <td>25</td>\n",
       "      <td>Successful</td>\n",
       "    </tr>\n",
       "    <tr>\n",
       "      <th>4</th>\n",
       "      <td>1622952265</td>\n",
       "      <td>Pantshirts</td>\n",
       "      <td>Fashion</td>\n",
       "      <td>Fashion</td>\n",
       "      <td>United States</td>\n",
       "      <td>2009-04-27 14:10:39</td>\n",
       "      <td>2009-05-26</td>\n",
       "      <td>1900</td>\n",
       "      <td>387</td>\n",
       "      <td>10</td>\n",
       "      <td>Failed</td>\n",
       "    </tr>\n",
       "    <tr>\n",
       "      <th>...</th>\n",
       "      <td>...</td>\n",
       "      <td>...</td>\n",
       "      <td>...</td>\n",
       "      <td>...</td>\n",
       "      <td>...</td>\n",
       "      <td>...</td>\n",
       "      <td>...</td>\n",
       "      <td>...</td>\n",
       "      <td>...</td>\n",
       "      <td>...</td>\n",
       "      <td>...</td>\n",
       "    </tr>\n",
       "    <tr>\n",
       "      <th>374310</th>\n",
       "      <td>749399445</td>\n",
       "      <td>Propeller Spring 2.0</td>\n",
       "      <td>Games</td>\n",
       "      <td>Games</td>\n",
       "      <td>Austria</td>\n",
       "      <td>2017-12-23 10:14:21</td>\n",
       "      <td>2017-12-26</td>\n",
       "      <td>36</td>\n",
       "      <td>270</td>\n",
       "      <td>36</td>\n",
       "      <td>Successful</td>\n",
       "    </tr>\n",
       "    <tr>\n",
       "      <th>374400</th>\n",
       "      <td>1223058036</td>\n",
       "      <td>The Cowboy and The Spaceman: Android Collective+</td>\n",
       "      <td>Games</td>\n",
       "      <td>Tabletop Games</td>\n",
       "      <td>United Kingdom</td>\n",
       "      <td>2017-12-26 13:00:24</td>\n",
       "      <td>2017-12-31</td>\n",
       "      <td>271</td>\n",
       "      <td>545</td>\n",
       "      <td>25</td>\n",
       "      <td>Successful</td>\n",
       "    </tr>\n",
       "    <tr>\n",
       "      <th>374458</th>\n",
       "      <td>1411606124</td>\n",
       "      <td>The CHAMPS Are Here!</td>\n",
       "      <td>Fashion</td>\n",
       "      <td>Apparel</td>\n",
       "      <td>United States</td>\n",
       "      <td>2017-12-27 03:52:38</td>\n",
       "      <td>2017-12-31</td>\n",
       "      <td>200</td>\n",
       "      <td>202</td>\n",
       "      <td>6</td>\n",
       "      <td>Successful</td>\n",
       "    </tr>\n",
       "    <tr>\n",
       "      <th>374530</th>\n",
       "      <td>156799983</td>\n",
       "      <td>Kill Them All!</td>\n",
       "      <td>Games</td>\n",
       "      <td>Tabletop Games</td>\n",
       "      <td>United States</td>\n",
       "      <td>2017-12-28 01:48:58</td>\n",
       "      <td>2017-12-30</td>\n",
       "      <td>250</td>\n",
       "      <td>265</td>\n",
       "      <td>7</td>\n",
       "      <td>Successful</td>\n",
       "    </tr>\n",
       "    <tr>\n",
       "      <th>374605</th>\n",
       "      <td>801423615</td>\n",
       "      <td>Collaboration with Snoop Dogg</td>\n",
       "      <td>Music</td>\n",
       "      <td>Hip-Hop</td>\n",
       "      <td>Australia</td>\n",
       "      <td>2017-12-29 03:22:32</td>\n",
       "      <td>2018-01-01</td>\n",
       "      <td>392</td>\n",
       "      <td>514</td>\n",
       "      <td>6</td>\n",
       "      <td>Successful</td>\n",
       "    </tr>\n",
       "  </tbody>\n",
       "</table>\n",
       "<p>331462 rows × 11 columns</p>\n",
       "</div>"
      ],
      "text/plain": [
       "                ID                                               Name   \n",
       "0       1860890148  Grace Jones Does Not Give A F$#% T-Shirt (limi...  \\\n",
       "1        709707365                     CRYSTAL ANTLERS UNTITLED MOVIE   \n",
       "2       1703704063                                drawing for dollars   \n",
       "3           727286                       Offline Wikipedia iPhone app   \n",
       "4       1622952265                                         Pantshirts   \n",
       "...            ...                                                ...   \n",
       "374310   749399445                               Propeller Spring 2.0   \n",
       "374400  1223058036   The Cowboy and The Spaceman: Android Collective+   \n",
       "374458  1411606124                               The CHAMPS Are Here!   \n",
       "374530   156799983                                     Kill Them All!   \n",
       "374605   801423615                      Collaboration with Snoop Dogg   \n",
       "\n",
       "            Category     Subcategory         Country             Launched   \n",
       "0            Fashion         Fashion   United States  2009-04-21 21:02:48  \\\n",
       "1       Film & Video          Shorts   United States  2009-04-23 00:07:53   \n",
       "2                Art    Illustration   United States  2009-04-24 21:52:03   \n",
       "3         Technology        Software   United States  2009-04-25 17:36:21   \n",
       "4            Fashion         Fashion   United States  2009-04-27 14:10:39   \n",
       "...              ...             ...             ...                  ...   \n",
       "374310         Games           Games         Austria  2017-12-23 10:14:21   \n",
       "374400         Games  Tabletop Games  United Kingdom  2017-12-26 13:00:24   \n",
       "374458       Fashion         Apparel   United States  2017-12-27 03:52:38   \n",
       "374530         Games  Tabletop Games   United States  2017-12-28 01:48:58   \n",
       "374605         Music         Hip-Hop       Australia  2017-12-29 03:22:32   \n",
       "\n",
       "          Deadline   Goal  Pledged  Backers       State  \n",
       "0       2009-05-31   1000      625       30      Failed  \n",
       "1       2009-07-20  80000       22        3      Failed  \n",
       "2       2009-05-03     20       35        3  Successful  \n",
       "3       2009-07-14     99      145       25  Successful  \n",
       "4       2009-05-26   1900      387       10      Failed  \n",
       "...            ...    ...      ...      ...         ...  \n",
       "374310  2017-12-26     36      270       36  Successful  \n",
       "374400  2017-12-31    271      545       25  Successful  \n",
       "374458  2017-12-31    200      202        6  Successful  \n",
       "374530  2017-12-30    250      265        7  Successful  \n",
       "374605  2018-01-01    392      514        6  Successful  \n",
       "\n",
       "[331462 rows x 11 columns]"
      ]
     },
     "execution_count": 59,
     "metadata": {},
     "output_type": "execute_result"
    }
   ],
   "source": [
    "df[df.State.isin([\"Failed\",\"Successful\"])]"
   ]
  },
  {
   "cell_type": "markdown",
   "metadata": {},
   "source": [
    "### first pre-processing / feature engineering"
   ]
  },
  {
   "cell_type": "markdown",
   "metadata": {},
   "source": [
    "#### Datetime"
   ]
  },
  {
   "cell_type": "code",
   "execution_count": 60,
   "metadata": {},
   "outputs": [],
   "source": [
    "df[\"Launched\"] = pd.to_datetime(df[\"Launched\"])\n",
    "df[\"Deadline\"] = pd.to_datetime(df[\"Deadline\"])"
   ]
  },
  {
   "cell_type": "code",
   "execution_count": 61,
   "metadata": {},
   "outputs": [],
   "source": [
    "df[\"lon_launched\"] = df[\"Launched\"].dt.date\n",
    "df[\"time_launched\"] = df[\"Launched\"].dt.time\n",
    "df[\"day_launched\"] = df[\"Launched\"].dt.weekday\n",
    "df[\"hour\"] = df[\"Launched\"].dt.hour "
   ]
  },
  {
   "cell_type": "markdown",
   "metadata": {},
   "source": [
    "#### Feature: time of the day"
   ]
  },
  {
   "cell_type": "code",
   "execution_count": 62,
   "metadata": {},
   "outputs": [],
   "source": [
    "# Transform hour into sine and cosine components\n",
    "# idea: we want to capture the idea that hour = 23 is close to hour = 1 (next day): both are \"around midnight\"\n",
    "# this would not be the case if we treated hours as a standard numerical (or categorical) variable\n",
    "df[\"hour_sin\"] = np.sin(2 * np.pi * df[\"hour\"] / 24)\n",
    "df[\"hour_cos\"] = np.cos(2 * np.pi * df[\"hour\"] / 24)"
   ]
  },
  {
   "cell_type": "markdown",
   "metadata": {},
   "source": [
    "#### Feature: day of the week"
   ]
  },
  {
   "cell_type": "code",
   "execution_count": 63,
   "metadata": {},
   "outputs": [],
   "source": [
    "df[\"weekday\"] = df[\"day_launched\"].astype(\"category\")"
   ]
  },
  {
   "cell_type": "markdown",
   "metadata": {},
   "source": [
    "#### Feature: duration (number of days)"
   ]
  },
  {
   "cell_type": "code",
   "execution_count": 64,
   "metadata": {},
   "outputs": [],
   "source": [
    "df[\"duration\"] = (df[\"Deadline\"] - df[\"Launched\"]).dt.days"
   ]
  },
  {
   "cell_type": "markdown",
   "metadata": {},
   "source": [
    "### Data cleaning"
   ]
  },
  {
   "cell_type": "markdown",
   "metadata": {},
   "source": [
    "#### clean by state"
   ]
  },
  {
   "cell_type": "code",
   "execution_count": 65,
   "metadata": {},
   "outputs": [
    {
     "data": {
      "text/plain": [
       "<bound method NDFrame._add_numeric_operations.<locals>.sum of State\n",
       "Failed        197611\n",
       "Successful    133851\n",
       "Canceled       38751\n",
       "Live            2798\n",
       "Suspended       1842\n",
       "Name: count, dtype: int64>"
      ]
     },
     "execution_count": 65,
     "metadata": {},
     "output_type": "execute_result"
    }
   ],
   "source": [
    "df.State.value_counts().sum"
   ]
  },
  {
   "cell_type": "markdown",
   "metadata": {},
   "source": [
    "We decide to drop projects that are still live (outcome unclear), suspended or canceled (reasons unclear, hypothetical outcome in case of continuation unclear)."
   ]
  },
  {
   "cell_type": "code",
   "execution_count": 66,
   "metadata": {},
   "outputs": [],
   "source": [
    "df = df[df.State.isin([\"Failed\",\"Successful\"])]\n",
    "df.replace({\"Failed\":0, \"Successful\":1}, inplace=True)     "
   ]
  },
  {
   "cell_type": "markdown",
   "metadata": {},
   "source": [
    "#### clean by duration"
   ]
  },
  {
   "cell_type": "markdown",
   "metadata": {},
   "source": [
    "Note: Kickstarter reduced the upper duration limit from 90 to 60 days at some point _during_ the data collection phase (~2011). We throw out projects with a duration >60 days because this parameter choice became unavailable to projects after the change by the platform"
   ]
  },
  {
   "cell_type": "code",
   "execution_count": 67,
   "metadata": {},
   "outputs": [
    {
     "data": {
      "text/plain": [
       "(4136, 19)"
      ]
     },
     "execution_count": 67,
     "metadata": {},
     "output_type": "execute_result"
    }
   ],
   "source": [
    "df.query(\"duration >60\").shape"
   ]
  },
  {
   "cell_type": "code",
   "execution_count": 68,
   "metadata": {},
   "outputs": [
    {
     "data": {
      "text/plain": [
       "array([39, 87,  8, 79, 28, 17, 29, 16, 48, 61, 65, 46, 36, 19, 35, 75, 30,\n",
       "       34, 60, 27, 31, 25, 22, 55, 23, 52, 49, 80, 62,  9, 89, 72, 88, 59,\n",
       "       58, 84, 32, 74, 41, 71, 51, 69, 73, 15, 21, 40, 43, 42, 57, 38, 37,\n",
       "       86,  3, 20, 13, 10, 24, 66, 85, 64, 78, 54, 63, 47,  5, 83, 45, 50,\n",
       "       44, 76,  7,  2,  4, 70,  6, 68, 67, 33, 56, 53, 82, 26, 77, 81, 12,\n",
       "       18, 14,  1,  0, 11, 90, 91])"
      ]
     },
     "execution_count": 68,
     "metadata": {},
     "output_type": "execute_result"
    }
   ],
   "source": [
    "df[\"duration\"].unique()"
   ]
  },
  {
   "cell_type": "code",
   "execution_count": 69,
   "metadata": {},
   "outputs": [],
   "source": [
    "df = df.query(\"duration <= 60 \")\n",
    "# we lose about 1% of the data"
   ]
  },
  {
   "cell_type": "code",
   "execution_count": 70,
   "metadata": {},
   "outputs": [
    {
     "data": {
      "text/plain": [
       "Launched\n",
       "2015    65266\n",
       "2014    59303\n",
       "2016    49092\n",
       "2017    43419\n",
       "2013    41084\n",
       "2012    38478\n",
       "2011    22465\n",
       "2010     7597\n",
       "2009      622\n",
       "Name: count, dtype: int64"
      ]
     },
     "execution_count": 70,
     "metadata": {},
     "output_type": "execute_result"
    }
   ],
   "source": [
    "df.Launched.dt.year.value_counts()"
   ]
  },
  {
   "cell_type": "markdown",
   "metadata": {},
   "source": [
    "## More pre-processing / feature engineering"
   ]
  },
  {
   "cell_type": "markdown",
   "metadata": {},
   "source": [
    "### Feature: goal - log scaling"
   ]
  },
  {
   "cell_type": "markdown",
   "metadata": {},
   "source": [
    "Idea: account for the distribution of goal levels by applying logarithm.\n",
    "To do this, we need to remove projects with a goal = 0 (also, they are not informative and there are just 3 of them)\n",
    "\n",
    "apply log to \"goal\" target, turning it into a normally distributed variable\n",
    "then cut off outliers (above & maybe also below)\n",
    "this should cause us not to need scaling any more"
   ]
  },
  {
   "cell_type": "code",
   "execution_count": 71,
   "metadata": {},
   "outputs": [],
   "source": [
    "df = df.query(\"Goal > 0\")"
   ]
  },
  {
   "cell_type": "code",
   "execution_count": 72,
   "metadata": {},
   "outputs": [],
   "source": [
    "df[\"goal_log\"] = np.log(df['Goal'])"
   ]
  },
  {
   "cell_type": "markdown",
   "metadata": {},
   "source": [
    "### Feature: goal - outlier identification"
   ]
  },
  {
   "cell_type": "markdown",
   "metadata": {},
   "source": [
    "Here, we only identify the outliers. _Removal_ of the outliers comes _after_ the train-test-split."
   ]
  },
  {
   "cell_type": "markdown",
   "metadata": {},
   "source": [
    "Wikipedia on outliers:\n",
    "> The interquartile range is often used to find outliers in data. Outliers here are defined as observations that fall below Q1 − 1.5 IQR or above Q3 + 1.5 IQR."
   ]
  },
  {
   "cell_type": "code",
   "execution_count": 73,
   "metadata": {},
   "outputs": [],
   "source": [
    "categories = df.Category.unique()"
   ]
  },
  {
   "cell_type": "code",
   "execution_count": 74,
   "metadata": {},
   "outputs": [],
   "source": [
    "outliers = {}\n",
    "outliers_log_above = {}\n",
    "outliers_log_below = {}\n",
    "for category in categories:\n",
    "    df_temp = df.query(\"Category == @category\")\n",
    "    outliers[category] = df_temp.Goal.quantile(.75) + 1.5 * (df_temp.Goal.quantile(.75) - df_temp.Goal.quantile(.25))\n",
    "    outliers_log_above[category] = df_temp.goal_log.quantile(.75) + 1.5 * (df_temp.goal_log.quantile(.75) - df_temp.goal_log.quantile(.25))\n",
    "    outliers_log_below[category] = df_temp.goal_log.quantile(.25) - 1.5 * (df_temp.goal_log.quantile(.75) - df_temp.goal_log.quantile(.25))\n",
    "    #print(f\"cutoff for {category}: {outliers[category]}\")"
   ]
  },
  {
   "cell_type": "markdown",
   "metadata": {},
   "source": [
    "### A closer look / more EDA"
   ]
  },
  {
   "cell_type": "markdown",
   "metadata": {},
   "source": [
    "how to success rates differ across (sub)categories?"
   ]
  },
  {
   "cell_type": "code",
   "execution_count": 75,
   "metadata": {},
   "outputs": [
    {
     "data": {
      "text/plain": [
       "Category\n",
       "Technology      0.237885\n",
       "Journalism      0.241860\n",
       "Crafts          0.270419\n",
       "Food            0.275484\n",
       "Fashion         0.283134\n",
       "Photography     0.340090\n",
       "Publishing      0.347689\n",
       "Design          0.416248\n",
       "Film & Video    0.420434\n",
       "Games           0.439187\n",
       "Art             0.448796\n",
       "Music           0.527511\n",
       "Comics          0.593990\n",
       "Theater         0.641687\n",
       "Dance           0.655603\n",
       "Name: State, dtype: float64"
      ]
     },
     "execution_count": 75,
     "metadata": {},
     "output_type": "execute_result"
    }
   ],
   "source": [
    "df.groupby(\"Category\").State.mean().sort_values()"
   ]
  },
  {
   "cell_type": "code",
   "execution_count": 76,
   "metadata": {},
   "outputs": [
    {
     "data": {
      "text/plain": [
       "Subcategory\n",
       "Apps            0.071496\n",
       "Web             0.102808\n",
       "Mobile Games    0.106029\n",
       "Video           0.132468\n",
       "Food Trucks     0.137865\n",
       "                  ...   \n",
       "Indie Rock      0.685501\n",
       "Dance           0.698157\n",
       "Anthologies     0.706920\n",
       "Residencies     0.735294\n",
       "Chiptune        0.818182\n",
       "Name: State, Length: 159, dtype: float64"
      ]
     },
     "execution_count": 76,
     "metadata": {},
     "output_type": "execute_result"
    }
   ],
   "source": [
    "df.groupby(\"Subcategory\").State.mean().sort_values()"
   ]
  },
  {
   "cell_type": "code",
   "execution_count": 77,
   "metadata": {},
   "outputs": [
    {
     "data": {
      "text/html": [
       "<div>\n",
       "<style scoped>\n",
       "    .dataframe tbody tr th:only-of-type {\n",
       "        vertical-align: middle;\n",
       "    }\n",
       "\n",
       "    .dataframe tbody tr th {\n",
       "        vertical-align: top;\n",
       "    }\n",
       "\n",
       "    .dataframe thead th {\n",
       "        text-align: right;\n",
       "    }\n",
       "</style>\n",
       "<table border=\"1\" class=\"dataframe\">\n",
       "  <thead>\n",
       "    <tr style=\"text-align: right;\">\n",
       "      <th></th>\n",
       "      <th>State</th>\n",
       "      <th>Goal</th>\n",
       "      <th>duration</th>\n",
       "    </tr>\n",
       "  </thead>\n",
       "  <tbody>\n",
       "    <tr>\n",
       "      <th>State</th>\n",
       "      <td>1.000000</td>\n",
       "      <td>-0.023722</td>\n",
       "      <td>-0.126241</td>\n",
       "    </tr>\n",
       "    <tr>\n",
       "      <th>Goal</th>\n",
       "      <td>-0.023722</td>\n",
       "      <td>1.000000</td>\n",
       "      <td>0.024495</td>\n",
       "    </tr>\n",
       "    <tr>\n",
       "      <th>duration</th>\n",
       "      <td>-0.126241</td>\n",
       "      <td>0.024495</td>\n",
       "      <td>1.000000</td>\n",
       "    </tr>\n",
       "  </tbody>\n",
       "</table>\n",
       "</div>"
      ],
      "text/plain": [
       "             State      Goal  duration\n",
       "State     1.000000 -0.023722 -0.126241\n",
       "Goal     -0.023722  1.000000  0.024495\n",
       "duration -0.126241  0.024495  1.000000"
      ]
     },
     "execution_count": 77,
     "metadata": {},
     "output_type": "execute_result"
    }
   ],
   "source": [
    "df[['State', 'Goal', 'duration']].corr()"
   ]
  },
  {
   "cell_type": "markdown",
   "metadata": {},
   "source": [
    "#### Plotting"
   ]
  },
  {
   "cell_type": "code",
   "execution_count": 78,
   "metadata": {},
   "outputs": [
    {
     "data": {
      "text/plain": [
       "<Axes: xlabel='count', ylabel='Country'>"
      ]
     },
     "execution_count": 78,
     "metadata": {},
     "output_type": "execute_result"
    },
    {
     "data": {
      "image/png": "[encoded data removed]",
      "text/plain": [
       "<Figure size 1700x1000 with 1 Axes>"
      ]
     },
     "metadata": {},
     "output_type": "display_data"
    }
   ],
   "source": [
    "# by country\n",
    "plt.figure(figsize=(17,10))\n",
    "sns.countplot(y= df.Country , hue=df.State)"
   ]
  },
  {
   "cell_type": "code",
   "execution_count": 79,
   "metadata": {},
   "outputs": [
    {
     "data": {
      "text/plain": [
       "<Axes: xlabel='duration', ylabel='Count'>"
      ]
     },
     "execution_count": 79,
     "metadata": {},
     "output_type": "execute_result"
    },
    {
     "data": {
      "image/png": "[encoded data removed]",
      "text/plain": [
       "<Figure size 640x480 with 1 Axes>"
      ]
     },
     "metadata": {},
     "output_type": "display_data"
    }
   ],
   "source": [
    "# by duration\n",
    "sns.histplot(data = df, x=\"duration\", hue=\"State\", multiple=\"dodge\", bins = 12)\n"
   ]
  },
  {
   "cell_type": "code",
   "execution_count": 80,
   "metadata": {},
   "outputs": [
    {
     "data": {
      "text/plain": [
       "<Axes: xlabel='Category', ylabel='count'>"
      ]
     },
     "execution_count": 80,
     "metadata": {},
     "output_type": "execute_result"
    },
    {
     "data": {
      "image/png": "[encoded data removed]",
      "text/plain": [
       "<Figure size 1800x1000 with 1 Axes>"
      ]
     },
     "metadata": {},
     "output_type": "display_data"
    }
   ],
   "source": [
    "# by category\n",
    "plt.figure(figsize=(18,10))\n",
    "sns.countplot(x = df.Category , hue=df.State)"
   ]
  },
  {
   "cell_type": "code",
   "execution_count": 81,
   "metadata": {},
   "outputs": [
    {
     "data": {
      "text/plain": [
       "<Axes: xlabel='day_launched', ylabel='Count'>"
      ]
     },
     "execution_count": 81,
     "metadata": {},
     "output_type": "execute_result"
    },
    {
     "data": {
      "image/png": "[encoded data removed]",
      "text/plain": [
       "<Figure size 640x480 with 1 Axes>"
      ]
     },
     "metadata": {},
     "output_type": "display_data"
    }
   ],
   "source": [
    "sns.histplot(data=df, x=\"day_launched\", hue=\"State\", multiple=\"dodge\")"
   ]
  },
  {
   "cell_type": "code",
   "execution_count": 82,
   "metadata": {},
   "outputs": [
    {
     "data": {
      "text/plain": [
       "<Axes: title={'center': 'success rates per category'}, ylabel='Category'>"
      ]
     },
     "execution_count": 82,
     "metadata": {},
     "output_type": "execute_result"
    },
    {
     "data": {
      "image/png": "[encoded data removed]",
      "text/plain": [
       "<Figure size 640x480 with 1 Axes>"
      ]
     },
     "metadata": {},
     "output_type": "display_data"
    }
   ],
   "source": [
    "df.groupby(\"Category\").State.mean().sort_values().plot(kind = \"barh\", xlim=[0,1], title=\"success rates per category\")"
   ]
  },
  {
   "cell_type": "code",
   "execution_count": 83,
   "metadata": {},
   "outputs": [
    {
     "data": {
      "image/png": "[encoded data removed]",
      "text/plain": [
       "<Figure size 640x480 with 1 Axes>"
      ]
     },
     "metadata": {},
     "output_type": "display_data"
    }
   ],
   "source": [
    "# by goal, with an upper limit\n",
    "sns.histplot(data = df[df[\"Goal\"] < 1000], x=\"Goal\" , hue=\"State\", bins=13);"
   ]
  },
  {
   "cell_type": "code",
   "execution_count": 84,
   "metadata": {},
   "outputs": [
    {
     "data": {
      "text/plain": [
       "<Axes: xlabel='Goal'>"
      ]
     },
     "execution_count": 84,
     "metadata": {},
     "output_type": "execute_result"
    },
    {
     "data": {
      "image/png": "[encoded data removed]",
      "text/plain": [
       "<Figure size 640x480 with 1 Axes>"
      ]
     },
     "metadata": {},
     "output_type": "display_data"
    }
   ],
   "source": [
    "sns.boxplot(data = df, x = \"Goal\")"
   ]
  },
  {
   "cell_type": "code",
   "execution_count": 85,
   "metadata": {},
   "outputs": [
    {
     "data": {
      "image/png": "[encoded data removed]",
      "text/plain": [
       "<Figure size 640x480 with 1 Axes>"
      ]
     },
     "metadata": {},
     "output_type": "display_data"
    }
   ],
   "source": [
    "sns.boxplot(data = df, x = \"Goal\")\n",
    "plt.xscale('log')"
   ]
  },
  {
   "cell_type": "markdown",
   "metadata": {},
   "source": [
    "#### distribution of goals, original and log-scaled"
   ]
  },
  {
   "cell_type": "code",
   "execution_count": 86,
   "metadata": {},
   "outputs": [
    {
     "data": {
      "text/plain": [
       "<Axes: xlabel='Goal', ylabel='Count'>"
      ]
     },
     "execution_count": 86,
     "metadata": {},
     "output_type": "execute_result"
    },
    {
     "data": {
      "image/png": "[encoded data removed]",
      "text/plain": [
       "<Figure size 640x480 with 1 Axes>"
      ]
     },
     "metadata": {},
     "output_type": "display_data"
    }
   ],
   "source": [
    "# log version of goal distribution for a given category \n",
    "sns.histplot(data = df.query(\"Category == 'Art'\"), x = \"Goal\", log_scale = True)"
   ]
  },
  {
   "cell_type": "code",
   "execution_count": 87,
   "metadata": {},
   "outputs": [
    {
     "data": {
      "text/plain": [
       "<Axes: xlabel='goal_log', ylabel='Count'>"
      ]
     },
     "execution_count": 87,
     "metadata": {},
     "output_type": "execute_result"
    },
    {
     "data": {
      "image/png": "[encoded data removed]",
      "text/plain": [
       "<Figure size 640x480 with 1 Axes>"
      ]
     },
     "metadata": {},
     "output_type": "display_data"
    }
   ],
   "source": [
    "sns.histplot(data = df.query(\"Category == 'Art'\"), x = \"goal_log\")"
   ]
  },
  {
   "cell_type": "code",
   "execution_count": 88,
   "metadata": {},
   "outputs": [
    {
     "data": {
      "text/plain": [
       "<Axes: ylabel='Frequency'>"
      ]
     },
     "execution_count": 88,
     "metadata": {},
     "output_type": "execute_result"
    },
    {
     "data": {
      "image/png": "[encoded data removed]",
      "text/plain": [
       "<Figure size 640x480 with 1 Axes>"
      ]
     },
     "metadata": {},
     "output_type": "display_data"
    }
   ],
   "source": [
    "# non-log version of goal distribution\n",
    "df.query(\"Category == 'Art'\").Goal.plot(kind=\"hist\")"
   ]
  },
  {
   "cell_type": "markdown",
   "metadata": {},
   "source": [
    "#### EDA: outlier plotting"
   ]
  },
  {
   "cell_type": "code",
   "execution_count": 89,
   "metadata": {},
   "outputs": [
    {
     "data": {
      "image/png": "[encoded data removed]",
      "text/plain": [
       "<Figure size 640x480 with 1 Axes>"
      ]
     },
     "metadata": {},
     "output_type": "display_data"
    },
    {
     "data": {
      "image/png": "[encoded data removed]",
      "text/plain": [
       "<Figure size 640x480 with 1 Axes>"
      ]
     },
     "metadata": {},
     "output_type": "display_data"
    },
    {
     "data": {
      "image/png": "[encoded data removed]",
      "text/plain": [
       "<Figure size 640x480 with 1 Axes>"
      ]
     },
     "metadata": {},
     "output_type": "display_data"
    },
    {
     "data": {
      "image/png": "[encoded data removed]",
      "text/plain": [
       "<Figure size 640x480 with 1 Axes>"
      ]
     },
     "metadata": {},
     "output_type": "display_data"
    },
    {
     "data": {
      "image/png": "[encoded data removed]",
      "text/plain": [
       "<Figure size 640x480 with 1 Axes>"
      ]
     },
     "metadata": {},
     "output_type": "display_data"
    },
    {
     "data": {
      "image/png": "[encoded data removed]",
      "text/plain": [
       "<Figure size 640x480 with 1 Axes>"
      ]
     },
     "metadata": {},
     "output_type": "display_data"
    },
    {
     "data": {
      "image/png": "[encoded data removed]",
      "text/plain": [
       "<Figure size 640x480 with 1 Axes>"
      ]
     },
     "metadata": {},
     "output_type": "display_data"
    },
    {
     "data": {
      "image/png": "[encoded data removed]",
      "text/plain": [
       "<Figure size 640x480 with 1 Axes>"
      ]
     },
     "metadata": {},
     "output_type": "display_data"
    },
    {
     "data": {
      "image/png": "[encoded data removed]",
      "text/plain": [
       "<Figure size 640x480 with 1 Axes>"
      ]
     },
     "metadata": {},
     "output_type": "display_data"
    },
    {
     "data": {
      "image/png": "[encoded data removed]",
      "text/plain": [
       "<Figure size 640x480 with 1 Axes>"
      ]
     },
     "metadata": {},
     "output_type": "display_data"
    },
    {
     "data": {
      "image/png": "[encoded data removed]",
      "text/plain": [
       "<Figure size 640x480 with 1 Axes>"
      ]
     },
     "metadata": {},
     "output_type": "display_data"
    },
    {
     "data": {
      "image/png": "[encoded data removed]",
      "text/plain": [
       "<Figure size 640x480 with 1 Axes>"
      ]
     },
     "metadata": {},
     "output_type": "display_data"
    },
    {
     "data": {
      "image/png": "[encoded data removed]",
      "text/plain": [
       "<Figure size 640x480 with 1 Axes>"
      ]
     },
     "metadata": {},
     "output_type": "display_data"
    },
    {
     "data": {
      "image/png": "[encoded data removed]",
      "text/plain": [
       "<Figure size 640x480 with 1 Axes>"
      ]
     },
     "metadata": {},
     "output_type": "display_data"
    },
    {
     "data": {
      "image/png": "[encoded data removed]",
      "text/plain": [
       "<Figure size 640x480 with 1 Axes>"
      ]
     },
     "metadata": {},
     "output_type": "display_data"
    }
   ],
   "source": [
    "for category in categories:\n",
    "    sns.boxplot(data = df.query('Category == @category'), x = 'goal_log')\n",
    "    plt.title(category)\n",
    "    plt.show()"
   ]
  },
  {
   "cell_type": "markdown",
   "metadata": {},
   "source": [
    "## Creating a baseline model"
   ]
  },
  {
   "cell_type": "markdown",
   "metadata": {},
   "source": [
    "### Metric\n",
    "Recall, as to avoid false negatives"
   ]
  },
  {
   "cell_type": "markdown",
   "metadata": {},
   "source": [
    "### Baseline Model (LOOK INTO THIS LATER- manual approach)"
   ]
  },
  {
   "cell_type": "code",
   "execution_count": 90,
   "metadata": {},
   "outputs": [],
   "source": [
    "#create data frames for categories\n",
    "df_film = df[df.Category.isin([\"Film & Video\"])]\n",
    "df_music = df[df.Category.isin([\"Music\"])]\n",
    "df_publishing = df[df.Category.isin([\"Publishing\"])]"
   ]
  },
  {
   "cell_type": "code",
   "execution_count": 91,
   "metadata": {},
   "outputs": [
    {
     "data": {
      "text/plain": [
       "<Axes: xlabel='duration', ylabel='Count'>"
      ]
     },
     "execution_count": 91,
     "metadata": {},
     "output_type": "execute_result"
    },
    {
     "data": {
      "image/png": "[encoded data removed]",
      "text/plain": [
       "<Figure size 640x480 with 1 Axes>"
      ]
     },
     "metadata": {},
     "output_type": "display_data"
    }
   ],
   "source": [
    "# plot data\n",
    "sns.histplot(data=df_film,x='duration', hue='State',multiple='dodge', bins=30)  #cutoff: ~29 "
   ]
  },
  {
   "cell_type": "markdown",
   "metadata": {},
   "source": []
  },
  {
   "cell_type": "code",
   "execution_count": 92,
   "metadata": {},
   "outputs": [
    {
     "data": {
      "text/plain": [
       "<Axes: xlabel='duration', ylabel='Count'>"
      ]
     },
     "execution_count": 92,
     "metadata": {},
     "output_type": "execute_result"
    },
    {
     "data": {
      "image/png": "[encoded data removed]",
      "text/plain": [
       "<Figure size 640x480 with 1 Axes>"
      ]
     },
     "metadata": {},
     "output_type": "display_data"
    }
   ],
   "source": [
    "# plot data\n",
    "sns.histplot(data=df_music,x='duration', hue='State',multiple='dodge', bins=30)  #cutoff: ~29 "
   ]
  },
  {
   "cell_type": "code",
   "execution_count": 93,
   "metadata": {},
   "outputs": [
    {
     "data": {
      "text/plain": [
       "<Axes: xlabel='duration', ylabel='Count'>"
      ]
     },
     "execution_count": 93,
     "metadata": {},
     "output_type": "execute_result"
    },
    {
     "data": {
      "image/png": "[encoded data removed]",
      "text/plain": [
       "<Figure size 640x480 with 1 Axes>"
      ]
     },
     "metadata": {},
     "output_type": "display_data"
    }
   ],
   "source": [
    "# plot data\n",
    "sns.histplot(data=df_publishing,x='duration', hue='State',multiple='dodge', bins=30)  #cutoff: ~29 "
   ]
  },
  {
   "cell_type": "code",
   "execution_count": 94,
   "metadata": {},
   "outputs": [
    {
     "data": {
      "text/plain": [
       "<Axes: xlabel='Goal', ylabel='Count'>"
      ]
     },
     "execution_count": 94,
     "metadata": {},
     "output_type": "execute_result"
    },
    {
     "data": {
      "image/png": "[encoded data removed]",
      "text/plain": [
       "<Figure size 640x480 with 1 Axes>"
      ]
     },
     "metadata": {},
     "output_type": "display_data"
    }
   ],
   "source": [
    "# plot data\n",
    "sns.histplot(data=df_publishing,x='Goal', hue='State',multiple='dodge', bins=30)  #cutoff: ~29 "
   ]
  },
  {
   "cell_type": "markdown",
   "metadata": {},
   "source": [
    "Set Cutoff for baseline model to 29 for all three models"
   ]
  },
  {
   "cell_type": "markdown",
   "metadata": {},
   "source": [
    "## Final cleaning and feature selection"
   ]
  },
  {
   "cell_type": "code",
   "execution_count": 95,
   "metadata": {},
   "outputs": [
    {
     "data": {
      "text/plain": [
       "Index(['ID', 'Name', 'Category', 'Subcategory', 'Country', 'Launched',\n",
       "       'Deadline', 'Goal', 'Pledged', 'Backers', 'State', 'lon_launched',\n",
       "       'time_launched', 'day_launched', 'hour', 'hour_sin', 'hour_cos',\n",
       "       'weekday', 'duration', 'goal_log'],\n",
       "      dtype='object')"
      ]
     },
     "execution_count": 95,
     "metadata": {},
     "output_type": "execute_result"
    }
   ],
   "source": [
    "df.columns"
   ]
  },
  {
   "cell_type": "code",
   "execution_count": 96,
   "metadata": {},
   "outputs": [],
   "source": [
    "feature_list = [\"goal_log\", \"duration\", \"weekday\", \"hour_sin\", \"hour_cos\"]\n",
    "feature_list_reduced = [\"goal_log\", \"duration\"]#, \"weekday\", \"hour_sin\", \"hour_cos\"]"
   ]
  },
  {
   "cell_type": "code",
   "execution_count": 97,
   "metadata": {},
   "outputs": [
    {
     "data": {
      "text/html": [
       "<div>\n",
       "<style scoped>\n",
       "    .dataframe tbody tr th:only-of-type {\n",
       "        vertical-align: middle;\n",
       "    }\n",
       "\n",
       "    .dataframe tbody tr th {\n",
       "        vertical-align: top;\n",
       "    }\n",
       "\n",
       "    .dataframe thead th {\n",
       "        text-align: right;\n",
       "    }\n",
       "</style>\n",
       "<table border=\"1\" class=\"dataframe\">\n",
       "  <thead>\n",
       "    <tr style=\"text-align: right;\">\n",
       "      <th></th>\n",
       "      <th>goal_log</th>\n",
       "      <th>duration</th>\n",
       "      <th>weekday</th>\n",
       "      <th>hour_sin</th>\n",
       "      <th>hour_cos</th>\n",
       "    </tr>\n",
       "  </thead>\n",
       "  <tbody>\n",
       "    <tr>\n",
       "      <th>0</th>\n",
       "      <td>6.907755</td>\n",
       "      <td>39</td>\n",
       "      <td>1</td>\n",
       "      <td>-0.707107</td>\n",
       "      <td>0.707107</td>\n",
       "    </tr>\n",
       "    <tr>\n",
       "      <th>2</th>\n",
       "      <td>2.995732</td>\n",
       "      <td>8</td>\n",
       "      <td>4</td>\n",
       "      <td>-0.707107</td>\n",
       "      <td>0.707107</td>\n",
       "    </tr>\n",
       "    <tr>\n",
       "      <th>4</th>\n",
       "      <td>7.549609</td>\n",
       "      <td>28</td>\n",
       "      <td>0</td>\n",
       "      <td>-0.500000</td>\n",
       "      <td>-0.866025</td>\n",
       "    </tr>\n",
       "    <tr>\n",
       "      <th>5</th>\n",
       "      <td>8.006368</td>\n",
       "      <td>17</td>\n",
       "      <td>1</td>\n",
       "      <td>-0.258819</td>\n",
       "      <td>-0.965926</td>\n",
       "    </tr>\n",
       "    <tr>\n",
       "      <th>6</th>\n",
       "      <td>5.298317</td>\n",
       "      <td>29</td>\n",
       "      <td>2</td>\n",
       "      <td>0.500000</td>\n",
       "      <td>0.866025</td>\n",
       "    </tr>\n",
       "    <tr>\n",
       "      <th>...</th>\n",
       "      <td>...</td>\n",
       "      <td>...</td>\n",
       "      <td>...</td>\n",
       "      <td>...</td>\n",
       "      <td>...</td>\n",
       "    </tr>\n",
       "    <tr>\n",
       "      <th>374310</th>\n",
       "      <td>3.583519</td>\n",
       "      <td>2</td>\n",
       "      <td>5</td>\n",
       "      <td>0.500000</td>\n",
       "      <td>-0.866025</td>\n",
       "    </tr>\n",
       "    <tr>\n",
       "      <th>374400</th>\n",
       "      <td>5.602119</td>\n",
       "      <td>4</td>\n",
       "      <td>1</td>\n",
       "      <td>-0.258819</td>\n",
       "      <td>-0.965926</td>\n",
       "    </tr>\n",
       "    <tr>\n",
       "      <th>374458</th>\n",
       "      <td>5.298317</td>\n",
       "      <td>3</td>\n",
       "      <td>2</td>\n",
       "      <td>0.707107</td>\n",
       "      <td>0.707107</td>\n",
       "    </tr>\n",
       "    <tr>\n",
       "      <th>374530</th>\n",
       "      <td>5.521461</td>\n",
       "      <td>1</td>\n",
       "      <td>3</td>\n",
       "      <td>0.258819</td>\n",
       "      <td>0.965926</td>\n",
       "    </tr>\n",
       "    <tr>\n",
       "      <th>374605</th>\n",
       "      <td>5.971262</td>\n",
       "      <td>2</td>\n",
       "      <td>4</td>\n",
       "      <td>0.707107</td>\n",
       "      <td>0.707107</td>\n",
       "    </tr>\n",
       "  </tbody>\n",
       "</table>\n",
       "<p>327323 rows × 5 columns</p>\n",
       "</div>"
      ],
      "text/plain": [
       "        goal_log  duration weekday  hour_sin  hour_cos\n",
       "0       6.907755        39       1 -0.707107  0.707107\n",
       "2       2.995732         8       4 -0.707107  0.707107\n",
       "4       7.549609        28       0 -0.500000 -0.866025\n",
       "5       8.006368        17       1 -0.258819 -0.965926\n",
       "6       5.298317        29       2  0.500000  0.866025\n",
       "...          ...       ...     ...       ...       ...\n",
       "374310  3.583519         2       5  0.500000 -0.866025\n",
       "374400  5.602119         4       1 -0.258819 -0.965926\n",
       "374458  5.298317         3       2  0.707107  0.707107\n",
       "374530  5.521461         1       3  0.258819  0.965926\n",
       "374605  5.971262         2       4  0.707107  0.707107\n",
       "\n",
       "[327323 rows x 5 columns]"
      ]
     },
     "execution_count": 97,
     "metadata": {},
     "output_type": "execute_result"
    }
   ],
   "source": [
    "df[feature_list]"
   ]
  },
  {
   "cell_type": "markdown",
   "metadata": {},
   "source": [
    "## Splitting the data"
   ]
  },
  {
   "cell_type": "code",
   "execution_count": 98,
   "metadata": {},
   "outputs": [],
   "source": [
    "X = {}\n",
    "Y = {}\n",
    "for category in categories:\n",
    "    df_temp = df[df.Category.isin([category])]\n",
    "    X[category] = df_temp[feature_list]\n",
    "    #X[category] = df_temp[.drop(columns='State')]\n",
    "    Y[category] = df_temp.State"
   ]
  },
  {
   "cell_type": "code",
   "execution_count": 99,
   "metadata": {},
   "outputs": [],
   "source": [
    "X_train = {}\n",
    "X_test = {}\n",
    "y_train = {}\n",
    "y_test = {} \n",
    "for category in categories:\n",
    "    X_train[category], X_test[category], y_train[category], y_test[category] = train_test_split(X[category], Y[category], test_size=0.20, random_state=42, shuffle=True, stratify=Y[category])\n",
    "    # note: added shuffling (to account for ordered date within categories) and stratification (so that successful and failed projects have same share across test, train, and full data)"
   ]
  },
  {
   "cell_type": "markdown",
   "metadata": {},
   "source": [
    "## Baseline model"
   ]
  },
  {
   "cell_type": "code",
   "execution_count": 100,
   "metadata": {},
   "outputs": [],
   "source": [
    "y_baseline = {}\n",
    "for category in categories:\n",
    "    y_baseline[category] = X_test[category].duration.apply(lambda x:0 if x  > 29 else 1).values"
   ]
  },
  {
   "cell_type": "code",
   "execution_count": 101,
   "metadata": {},
   "outputs": [
    {
     "name": "stdout",
     "output_type": "stream",
     "text": [
      "recall for category Fashion: 0.6684587813620072\n",
      "recall for category Art: 0.7392260334212841\n",
      "recall for category Journalism: 0.702020202020202\n",
      "recall for category Film & Video: 0.657167530224525\n",
      "recall for category Publishing: 0.6709016393442623\n",
      "recall for category Music: 0.6313227513227513\n",
      "recall for category Photography: 0.6466049382716049\n",
      "recall for category Technology: 0.5518316445830086\n",
      "recall for category Theater: 0.6926070038910506\n",
      "recall for category Crafts: 0.7772511848341233\n",
      "recall for category Games: 0.6924309171005206\n",
      "recall for category Comics: 0.6773080241587576\n",
      "recall for category Food: 0.6867768595041323\n",
      "recall for category Design: 0.5515439429928741\n",
      "recall for category Dance: 0.6645021645021645\n"
     ]
    }
   ],
   "source": [
    "recall_baseline = {}\n",
    "for category in categories:\n",
    "    recall_baseline[category] = recall_score(y_test[category], y_baseline[category], average='binary')  # Adjust 'average' as needed\n",
    "    print(f\"recall for category {category}: {recall_baseline[category]}\")"
   ]
  },
  {
   "cell_type": "markdown",
   "metadata": {},
   "source": [
    "## Final cleaning + exploration: Outlier removal"
   ]
  },
  {
   "cell_type": "markdown",
   "metadata": {},
   "source": [
    "We have identified the outliers BEFORE the split but do the removal AFTER the split.\n",
    "Removing AFTER splitting is essential; we are not sure whether the identification should be before or after splitting or whether it doesn't matter. We leave it as it is."
   ]
  },
  {
   "cell_type": "code",
   "execution_count": 102,
   "metadata": {},
   "outputs": [],
   "source": [
    "df_train_wo_outlier = {}\n",
    "y_train_wo_outlier = {}\n",
    "X_train_wo_outlier = {}\n",
    "for category in categories:\n",
    "    df_train_wo_outlier[category] = X_train[category][(outliers_log_below[category] <= X_train[category].goal_log) & (X_train[category].goal_log <= outliers_log_above[category])]\n",
    "    df_train_wo_outlier[category] = pd.merge(df_train_wo_outlier[category], y_train[category], left_index=True, right_index=True)\n",
    "    y_train_wo_outlier[category] = df_train_wo_outlier[category]['State']\n",
    "    X_train_wo_outlier[category] = df_train_wo_outlier[category].drop('State', axis=1)"
   ]
  },
  {
   "cell_type": "markdown",
   "metadata": {},
   "source": [
    "#### data exploration AFTER outlier removal"
   ]
  },
  {
   "cell_type": "code",
   "execution_count": 103,
   "metadata": {},
   "outputs": [
    {
     "data": {
      "text/plain": [
       "<Axes: xlabel='goal_log', ylabel='Count'>"
      ]
     },
     "execution_count": 103,
     "metadata": {},
     "output_type": "execute_result"
    },
    {
     "data": {
      "image/png": "[encoded data removed]",
      "text/plain": [
       "<Figure size 640x480 with 1 Axes>"
      ]
     },
     "metadata": {},
     "output_type": "display_data"
    }
   ],
   "source": [
    "# BEFORE removal\n",
    "sns.histplot(data = X_train[\"Art\"], x = \"goal_log\")"
   ]
  },
  {
   "cell_type": "code",
   "execution_count": 104,
   "metadata": {},
   "outputs": [
    {
     "data": {
      "text/plain": [
       "<Axes: xlabel='goal_log', ylabel='Count'>"
      ]
     },
     "execution_count": 104,
     "metadata": {},
     "output_type": "execute_result"
    },
    {
     "data": {
      "image/png": "[encoded data removed]",
      "text/plain": [
       "<Figure size 640x480 with 1 Axes>"
      ]
     },
     "metadata": {},
     "output_type": "display_data"
    }
   ],
   "source": [
    "# AFTER removal\n",
    "sns.histplot(data = X_train_wo_outlier[\"Art\"], x = \"goal_log\")"
   ]
  },
  {
   "cell_type": "markdown",
   "metadata": {},
   "source": [
    "## NEW"
   ]
  },
  {
   "cell_type": "markdown",
   "metadata": {},
   "source": [
    "NOTE: additional changes _above_ this point: modified the train test split:\n",
    "- added shuffling (to account for ordered date within categories) \n",
    "- added stratification (so that successful and failed projects have same share across test, train, and full data)"
   ]
  },
  {
   "cell_type": "code",
   "execution_count": 131,
   "metadata": {},
   "outputs": [],
   "source": [
    "from sklearn.preprocessing import PolynomialFeatures, MinMaxScaler, StandardScaler\n",
    "from sklearn.linear_model import LogisticRegression\n",
    "from sklearn.linear_model import LogisticRegression\n",
    "from sklearn.model_selection import train_test_split\n",
    "from sklearn.model_selection import cross_val_score, cross_validate\n",
    "from sklearn.metrics import confusion_matrix, classification_report, recall_score, f1_score, make_scorer\n",
    "#from imblearn.under_sampling import RandomUnderSampler\n"
   ]
  },
  {
   "cell_type": "code",
   "execution_count": 110,
   "metadata": {},
   "outputs": [],
   "source": [
    "# we create dictionaries OF DICTIONARIES:\n",
    "# goal: have e.g. y_pred for each model (level 1 of the dict) and within each model, for each category (level 2)\n",
    "# we can then access e.g. y_pred[level 1: model = logistic with polynomial][level 2: category = Art]\n",
    "#\n",
    "# TRANSFORMERS & MODELS\n",
    "models = {}\n",
    "polynomial_features = {}\n",
    "scalers = {}\n",
    "#\n",
    "# DATA\n",
    "x_train_poly = {}\n",
    "x_test_poly = {}\n",
    "x_train_scaled = {}\n",
    "x_test_scaled = {}\n",
    "x_train_transformed = {} # for data transformation with scaling AND polynomials\n",
    "x_test_transformed = {} # for data transformation with scaling AND polynomials\n",
    "y_pred_train = {}\n",
    "y_pred_test = {}\n",
    "#\n",
    "# METRICS\n",
    "recalls_train = {}\n",
    "recalls_test = {}\n",
    "df_recalls = {}\n",
    "f1_train = {}\n",
    "f1_test = {}\n",
    "df_f1 = {}"
   ]
  },
  {
   "cell_type": "code",
   "execution_count": 107,
   "metadata": {},
   "outputs": [],
   "source": [
    "features_to_scale = [\"goal_log\", \"duration\"]"
   ]
  },
  {
   "cell_type": "markdown",
   "metadata": {},
   "source": [
    "### Logistic base: no polynomials, no scaling"
   ]
  },
  {
   "cell_type": "code",
   "execution_count": 163,
   "metadata": {},
   "outputs": [
    {
     "name": "stdout",
     "output_type": "stream",
     "text": [
      "Cross-validated Recall for Fashion: 0.009992260860592302\n",
      "Cross-validated Recall for Fashion: 0.019517750097084893\n",
      "Confusion Matrix for Fashion:\n",
      "[[11162    55]\n",
      " [ 4364    40]]\n",
      "Cross-validated Recall for Art: 0.41608784297137263\n",
      "Cross-validated Recall for Art: 0.4786024703922669\n",
      "Confusion Matrix for Art:\n",
      "[[7976 2876]\n",
      " [5200 3714]]\n",
      "Cross-validated Recall for Journalism: 0.010281224152191893\n",
      "Cross-validated Recall for Journalism: 0.01998820223046012\n",
      "Confusion Matrix for Journalism:\n",
      "[[2432   10]\n",
      " [ 769    8]]\n",
      "Cross-validated Recall for Film & Video: 0.36564775573497393\n",
      "Cross-validated Recall for Film & Video: 0.4420160805278493\n",
      "Confusion Matrix for Film & Video:\n",
      "[[19628  5254]\n",
      " [11574  6684]]\n",
      "Cross-validated Recall for Publishing: 0.1684841507922503\n",
      "Cross-validated Recall for Publishing: 0.2565248737268898\n",
      "Confusion Matrix for Publishing:\n",
      "[[16549  1371]\n",
      " [ 7847  1602]]\n",
      "Cross-validated Recall for Music: 0.7105950607048561\n",
      "Cross-validated Recall for Music: 0.6418495936985372\n",
      "Confusion Matrix for Music:\n",
      "[[ 7185  9390]\n",
      " [ 5382 13277]]\n",
      "Cross-validated Recall for Photography: 0.07746391720681281\n",
      "Cross-validated Recall for Photography: 0.1363410648296738\n",
      "Confusion Matrix for Photography:\n",
      "[[4818  137]\n",
      " [2345  198]]\n",
      "Cross-validated Recall for Technology: 0.019591808191808193\n",
      "Cross-validated Recall for Technology: 0.03759433355010116\n",
      "Confusion Matrix for Technology:\n",
      "[[16133   110]\n",
      " [ 4906    96]]\n",
      "Cross-validated Recall for Theater: 0.9321408109384558\n",
      "Cross-validated Recall for Theater: 0.797173736814015\n",
      "Confusion Matrix for Theater:\n",
      "[[ 622 2070]\n",
      " [ 337 4747]]\n",
      "Cross-validated Recall for Crafts: 0.14516890964020873\n",
      "Cross-validated Recall for Crafts: 0.2306809856316435\n",
      "Confusion Matrix for Crafts:\n",
      "[[4327  181]\n",
      " [1411  242]]\n",
      "Cross-validated Recall for Games: 0.45524410165595813\n",
      "Cross-validated Recall for Games: 0.5173903271217453\n",
      "Confusion Matrix for Games:\n",
      "[[9576 2909]\n",
      " [5235 4384]]\n",
      "Cross-validated Recall for Comics: 0.8284558565746684\n",
      "Cross-validated Recall for Comics: 0.7351933059296094\n",
      "Confusion Matrix for Comics:\n",
      "[[1207 1928]\n",
      " [ 767 3780]]\n",
      "Cross-validated Recall for Food: 0.048372925204608376\n",
      "Cross-validated Recall for Food: 0.0869839272540904\n",
      "Confusion Matrix for Food:\n",
      "[[11676   287]\n",
      " [ 4333   215]]\n",
      "Cross-validated Recall for Design: 0.32005303194239076\n",
      "Cross-validated Recall for Design: 0.4054436755120804\n",
      "Confusion Matrix for Design:\n",
      "[[9482 2107]\n",
      " [5551 2607]]\n",
      "Cross-validated Recall for Dance: 0.986932827863997\n",
      "Cross-validated Recall for Dance: 0.8048846597985898\n",
      "Confusion Matrix for Dance:\n",
      "[[  64  853]\n",
      " [  21 1816]]\n"
     ]
    },
    {
     "data": {
      "text/html": [
       "<div>\n",
       "<style scoped>\n",
       "    .dataframe tbody tr th:only-of-type {\n",
       "        vertical-align: middle;\n",
       "    }\n",
       "\n",
       "    .dataframe tbody tr th {\n",
       "        vertical-align: top;\n",
       "    }\n",
       "\n",
       "    .dataframe thead th {\n",
       "        text-align: right;\n",
       "    }\n",
       "</style>\n",
       "<table border=\"1\" class=\"dataframe\">\n",
       "  <thead>\n",
       "    <tr style=\"text-align: right;\">\n",
       "      <th></th>\n",
       "      <th>category</th>\n",
       "      <th>Recall train</th>\n",
       "      <th>Recall test</th>\n",
       "      <th>F1 train</th>\n",
       "      <th>F1 test</th>\n",
       "    </tr>\n",
       "  </thead>\n",
       "  <tbody>\n",
       "    <tr>\n",
       "      <th>0</th>\n",
       "      <td>Fashion</td>\n",
       "      <td>0.0091</td>\n",
       "      <td>0.0224</td>\n",
       "      <td>0.0178</td>\n",
       "      <td>0.0224</td>\n",
       "    </tr>\n",
       "    <tr>\n",
       "      <th>1</th>\n",
       "      <td>Art</td>\n",
       "      <td>0.4166</td>\n",
       "      <td>0.4389</td>\n",
       "      <td>0.4791</td>\n",
       "      <td>0.4389</td>\n",
       "    </tr>\n",
       "    <tr>\n",
       "      <th>2</th>\n",
       "      <td>Journalism</td>\n",
       "      <td>0.0103</td>\n",
       "      <td>0.0455</td>\n",
       "      <td>0.0201</td>\n",
       "      <td>0.0455</td>\n",
       "    </tr>\n",
       "    <tr>\n",
       "      <th>3</th>\n",
       "      <td>Film &amp; Video</td>\n",
       "      <td>0.3661</td>\n",
       "      <td>0.3789</td>\n",
       "      <td>0.4427</td>\n",
       "      <td>0.3789</td>\n",
       "    </tr>\n",
       "    <tr>\n",
       "      <th>4</th>\n",
       "      <td>Publishing</td>\n",
       "      <td>0.1695</td>\n",
       "      <td>0.1783</td>\n",
       "      <td>0.2579</td>\n",
       "      <td>0.1783</td>\n",
       "    </tr>\n",
       "    <tr>\n",
       "      <th>5</th>\n",
       "      <td>Music</td>\n",
       "      <td>0.7116</td>\n",
       "      <td>0.7297</td>\n",
       "      <td>0.6425</td>\n",
       "      <td>0.7297</td>\n",
       "    </tr>\n",
       "    <tr>\n",
       "      <th>6</th>\n",
       "      <td>Photography</td>\n",
       "      <td>0.0779</td>\n",
       "      <td>0.1049</td>\n",
       "      <td>0.1376</td>\n",
       "      <td>0.1049</td>\n",
       "    </tr>\n",
       "    <tr>\n",
       "      <th>7</th>\n",
       "      <td>Technology</td>\n",
       "      <td>0.0192</td>\n",
       "      <td>0.0460</td>\n",
       "      <td>0.0369</td>\n",
       "      <td>0.0460</td>\n",
       "    </tr>\n",
       "    <tr>\n",
       "      <th>8</th>\n",
       "      <td>Theater</td>\n",
       "      <td>0.9337</td>\n",
       "      <td>0.9339</td>\n",
       "      <td>0.7977</td>\n",
       "      <td>0.9339</td>\n",
       "    </tr>\n",
       "    <tr>\n",
       "      <th>9</th>\n",
       "      <td>Crafts</td>\n",
       "      <td>0.1464</td>\n",
       "      <td>0.1706</td>\n",
       "      <td>0.2331</td>\n",
       "      <td>0.1706</td>\n",
       "    </tr>\n",
       "    <tr>\n",
       "      <th>10</th>\n",
       "      <td>Games</td>\n",
       "      <td>0.4558</td>\n",
       "      <td>0.4806</td>\n",
       "      <td>0.5184</td>\n",
       "      <td>0.4806</td>\n",
       "    </tr>\n",
       "    <tr>\n",
       "      <th>11</th>\n",
       "      <td>Comics</td>\n",
       "      <td>0.8313</td>\n",
       "      <td>0.8343</td>\n",
       "      <td>0.7372</td>\n",
       "      <td>0.8343</td>\n",
       "    </tr>\n",
       "    <tr>\n",
       "      <th>12</th>\n",
       "      <td>Food</td>\n",
       "      <td>0.0473</td>\n",
       "      <td>0.1066</td>\n",
       "      <td>0.0851</td>\n",
       "      <td>0.1066</td>\n",
       "    </tr>\n",
       "    <tr>\n",
       "      <th>13</th>\n",
       "      <td>Design</td>\n",
       "      <td>0.3196</td>\n",
       "      <td>0.3544</td>\n",
       "      <td>0.4051</td>\n",
       "      <td>0.3544</td>\n",
       "    </tr>\n",
       "    <tr>\n",
       "      <th>14</th>\n",
       "      <td>Dance</td>\n",
       "      <td>0.9886</td>\n",
       "      <td>0.9892</td>\n",
       "      <td>0.8060</td>\n",
       "      <td>0.9892</td>\n",
       "    </tr>\n",
       "  </tbody>\n",
       "</table>\n",
       "</div>"
      ],
      "text/plain": [
       "        category  Recall train  Recall test  F1 train  F1 test\n",
       "0        Fashion        0.0091       0.0224    0.0178   0.0224\n",
       "1            Art        0.4166       0.4389    0.4791   0.4389\n",
       "2     Journalism        0.0103       0.0455    0.0201   0.0455\n",
       "3   Film & Video        0.3661       0.3789    0.4427   0.3789\n",
       "4     Publishing        0.1695       0.1783    0.2579   0.1783\n",
       "5          Music        0.7116       0.7297    0.6425   0.7297\n",
       "6    Photography        0.0779       0.1049    0.1376   0.1049\n",
       "7     Technology        0.0192       0.0460    0.0369   0.0460\n",
       "8        Theater        0.9337       0.9339    0.7977   0.9339\n",
       "9         Crafts        0.1464       0.1706    0.2331   0.1706\n",
       "10         Games        0.4558       0.4806    0.5184   0.4806\n",
       "11        Comics        0.8313       0.8343    0.7372   0.8343\n",
       "12          Food        0.0473       0.1066    0.0851   0.1066\n",
       "13        Design        0.3196       0.3544    0.4051   0.3544\n",
       "14         Dance        0.9886       0.9892    0.8060   0.9892"
      ]
     },
     "execution_count": 163,
     "metadata": {},
     "output_type": "execute_result"
    }
   ],
   "source": [
    "model = \"log_noPoly_noScale\"\n",
    "#\n",
    "models[model] = {}\n",
    "y_pred_train[model] = {}\n",
    "y_pred_test[model] = {}\n",
    "#\n",
    "recalls_train[model] = {}\n",
    "recalls_test[model] = {}\n",
    "\n",
    "f1_train[model] = {}\n",
    "f1_test[model] = {}\n",
    "\n",
    "recall_scorer = make_scorer(recall_score)\n",
    "f1_scorer = make_scorer(f1_score)\n",
    "\n",
    "#\n",
    "for category in categories:\n",
    "    models[model][category] = LogisticRegression()\n",
    "    models[model][category].fit(X_train_wo_outlier[category], y_train_wo_outlier[category])\n",
    "\n",
    "     # Perform cross-validation\n",
    "    cv_recall_scores = cross_val_score(\n",
    "        models[model][category],\n",
    "        X_train_wo_outlier[category],\n",
    "        y_train_wo_outlier[category],\n",
    "        scoring=recall_scorer,\n",
    "        cv=5  # 5-fold cross-validation\n",
    "    )\n",
    "\n",
    "    print(f\"Cross-validated Recall for {category}: {cv_recall_scores.mean()}\")\n",
    "# Perform cross-validation for F1 score\n",
    "    cv_f1_scores = cross_val_score(\n",
    "        models[model][category],\n",
    "        X_train_wo_outlier[category],\n",
    "        y_train_wo_outlier[category],\n",
    "        scoring=f1_scorer,\n",
    "        cv=5  # 5-fold cross-validation\n",
    "    )\n",
    "    print(f\"Cross-validated Recall for {category}: {cv_f1_scores.mean()}\")\n",
    "\n",
    "    #\n",
    "    y_pred_train[model][category] = models[model][category].predict(X_train_wo_outlier[category])\n",
    "    y_pred_test[model][category] = models[model][category].predict(X_test[category])\n",
    "    #\n",
    "    recalls_train[model][category] = recall_score(y_train_wo_outlier[category], y_pred_train[model][category]).round(4)\n",
    "    recalls_test[model][category] = recall_score(y_test[category], y_pred_test[model][category]).round(4)\n",
    "\n",
    "    f1_train[model][category] = f1_score(y_train_wo_outlier[category], y_pred_train[model][category]).round(4)\n",
    "    f1_test[model][category] = recall_score(y_test[category], y_pred_test[model][category]).round(4)\n",
    "\n",
    "    # Confusion matrix for the current category\n",
    "    cm = confusion_matrix(y_train_wo_outlier[category], y_pred_train[model][category])\n",
    "    print(f\"Confusion Matrix for {category}:\\n{cm}\")\n",
    "\n",
    "#\n",
    "df_recalls[model] = pd.DataFrame({\n",
    "    \"category\": categories,\n",
    "    \"Recall train\": recalls_train[model].values(),\n",
    "    \"Recall test\": recalls_test[model].values(),\n",
    "    \"F1 train\": f1_train[model].values(),\n",
    "    \"F1 test\": f1_test[model].values()\n",
    "})\n",
    "df_recalls[model]\n"
   ]
  },
  {
   "cell_type": "code",
   "execution_count": 164,
   "metadata": {},
   "outputs": [
    {
     "data": {
      "text/plain": [
       "State\n",
       "1    1837\n",
       "0     917\n",
       "Name: count, dtype: int64"
      ]
     },
     "execution_count": 164,
     "metadata": {},
     "output_type": "execute_result"
    }
   ],
   "source": [
    "y_train_wo_outlier[\"Dance\"].value_counts()"
   ]
  },
  {
   "cell_type": "code",
   "execution_count": 165,
   "metadata": {},
   "outputs": [
    {
     "data": {
      "text/plain": [
       "2808"
      ]
     },
     "execution_count": 165,
     "metadata": {},
     "output_type": "execute_result"
    }
   ],
   "source": [
    "1837+971"
   ]
  },
  {
   "cell_type": "code",
   "execution_count": 167,
   "metadata": {},
   "outputs": [
    {
     "data": {
      "text/plain": [
       "2754"
      ]
     },
     "execution_count": 167,
     "metadata": {},
     "output_type": "execute_result"
    }
   ],
   "source": [
    "64 + 853 +21 + 1816\n"
   ]
  },
  {
   "cell_type": "markdown",
   "metadata": {},
   "source": [
    "(TN + FP + FN + TP)"
   ]
  },
  {
   "cell_type": "code",
   "execution_count": null,
   "metadata": {},
   "outputs": [
    {
     "data": {
      "text/plain": [
       "2754"
      ]
     },
     "execution_count": 169,
     "metadata": {},
     "output_type": "execute_result"
    }
   ],
   "source": [
    "483  + 434 +612 + 1225  "
   ]
  },
  {
   "cell_type": "code",
   "execution_count": null,
   "metadata": {},
   "outputs": [],
   "source": [
    "..."
   ]
  },
  {
   "cell_type": "markdown",
   "metadata": {},
   "source": [
    "Note: the confusion matrices show that some of the minority class are being skipped"
   ]
  },
  {
   "cell_type": "code",
   "execution_count": null,
   "metadata": {},
   "outputs": [
    {
     "ename": "KeyError",
     "evalue": "'Dance'",
     "output_type": "error",
     "traceback": [
      "\u001b[0;31m---------------------------------------------------------------------------\u001b[0m",
      "\u001b[0;31mKeyError\u001b[0m                                  Traceback (most recent call last)",
      "Cell \u001b[0;32mIn[160], line 1\u001b[0m\n\u001b[0;32m----> 1\u001b[0m cm \u001b[38;5;241m=\u001b[39m confusion_matrix(y_train_wo_outlier[\u001b[38;5;124m\"\u001b[39m\u001b[38;5;124mDance\u001b[39m\u001b[38;5;124m\"\u001b[39m],\u001b[43my_pred_train\u001b[49m\u001b[43m[\u001b[49m\u001b[38;5;124;43m\"\u001b[39;49m\u001b[38;5;124;43mDance\u001b[39;49m\u001b[38;5;124;43m\"\u001b[39;49m\u001b[43m]\u001b[49m)\n",
      "\u001b[0;31mKeyError\u001b[0m: 'Dance'"
     ]
    }
   ],
   "source": [
    "cm = confusion_matrix(y_train_wo_outlier[category],y_pred_train[category])"
   ]
  },
  {
   "cell_type": "markdown",
   "metadata": {},
   "source": [
    "Note: the models perform very well on the categories where success is very likely but very bad for categories with low success."
   ]
  },
  {
   "cell_type": "code",
   "execution_count": null,
   "metadata": {},
   "outputs": [
    {
     "name": "stdout",
     "output_type": "stream",
     "text": [
      "Cross-validated Recall for Fashion: 0.5742469817356309\n",
      "Cross-validated F1 for Fashion: 0.43427643230565405\n",
      "Cross-validated Recall for Art: 0.5864939669015198\n",
      "Cross-validated F1 for Art: 0.5666559855102835\n",
      "Cross-validated Recall for Journalism: 0.5817700578990902\n",
      "Cross-validated F1 for Journalism: 0.402791350047757\n",
      "Cross-validated Recall for Film & Video: 0.6143065426717703\n",
      "Cross-validated F1 for Film & Video: 0.5696792062949554\n",
      "Cross-validated Recall for Publishing: 0.5907500679231754\n",
      "Cross-validated F1 for Publishing: 0.5058521810792761\n",
      "Cross-validated Recall for Music: 0.5669649266896541\n",
      "Cross-validated F1 for Music: 0.5790258276986456\n",
      "Cross-validated Recall for Photography: 0.5540661788592731\n",
      "Cross-validated F1 for Photography: 0.466622952227699\n",
      "Cross-validated Recall for Technology: 0.6091542457542457\n",
      "Cross-validated F1 for Technology: 0.41887430574391005\n",
      "Cross-validated Recall for Theater: 0.6170353982300885\n",
      "Cross-validated F1 for Theater: 0.6760058511792089\n",
      "Cross-validated Recall for Crafts: 0.6321486771033599\n",
      "Cross-validated F1 for Crafts: 0.48022667724010343\n",
      "Cross-validated Recall for Games: 0.6309370212646344\n",
      "Cross-validated F1 for Games: 0.5943511085420571\n",
      "Cross-validated Recall for Comics: 0.6228242604480229\n",
      "Cross-validated F1 for Comics: 0.6600552491260123\n",
      "Cross-validated Recall for Food: 0.5857478934706658\n",
      "Cross-validated F1 for Food: 0.4480676950662749\n",
      "Cross-validated Recall for Design: 0.6048048833267213\n",
      "Cross-validated F1 for Design: 0.5589287671772888\n",
      "Cross-validated Recall for Dance: 0.5835757019310508\n",
      "Cross-validated F1 for Dance: 0.646083815850225\n"
     ]
    },
    {
     "data": {
      "text/html": [
       "<div>\n",
       "<style scoped>\n",
       "    .dataframe tbody tr th:only-of-type {\n",
       "        vertical-align: middle;\n",
       "    }\n",
       "\n",
       "    .dataframe tbody tr th {\n",
       "        vertical-align: top;\n",
       "    }\n",
       "\n",
       "    .dataframe thead th {\n",
       "        text-align: right;\n",
       "    }\n",
       "</style>\n",
       "<table border=\"1\" class=\"dataframe\">\n",
       "  <thead>\n",
       "    <tr style=\"text-align: right;\">\n",
       "      <th></th>\n",
       "      <th>category</th>\n",
       "      <th>Recall train</th>\n",
       "      <th>Recall test</th>\n",
       "      <th>F1 train</th>\n",
       "      <th>F1 test</th>\n",
       "    </tr>\n",
       "  </thead>\n",
       "  <tbody>\n",
       "    <tr>\n",
       "      <th>0</th>\n",
       "      <td>Fashion</td>\n",
       "      <td>0.5754</td>\n",
       "      <td>0.5896</td>\n",
       "      <td>0.4346</td>\n",
       "      <td>0.5896</td>\n",
       "    </tr>\n",
       "    <tr>\n",
       "      <th>1</th>\n",
       "      <td>Art</td>\n",
       "      <td>0.5877</td>\n",
       "      <td>0.6069</td>\n",
       "      <td>0.5679</td>\n",
       "      <td>0.6069</td>\n",
       "    </tr>\n",
       "    <tr>\n",
       "      <th>2</th>\n",
       "      <td>Journalism</td>\n",
       "      <td>0.5869</td>\n",
       "      <td>0.6162</td>\n",
       "      <td>0.4070</td>\n",
       "      <td>0.6162</td>\n",
       "    </tr>\n",
       "    <tr>\n",
       "      <th>3</th>\n",
       "      <td>Film &amp; Video</td>\n",
       "      <td>0.6140</td>\n",
       "      <td>0.6159</td>\n",
       "      <td>0.5698</td>\n",
       "      <td>0.6159</td>\n",
       "    </tr>\n",
       "    <tr>\n",
       "      <th>4</th>\n",
       "      <td>Publishing</td>\n",
       "      <td>0.5919</td>\n",
       "      <td>0.5885</td>\n",
       "      <td>0.5068</td>\n",
       "      <td>0.5885</td>\n",
       "    </tr>\n",
       "    <tr>\n",
       "      <th>5</th>\n",
       "      <td>Music</td>\n",
       "      <td>0.5675</td>\n",
       "      <td>0.5939</td>\n",
       "      <td>0.5796</td>\n",
       "      <td>0.5939</td>\n",
       "    </tr>\n",
       "    <tr>\n",
       "      <th>6</th>\n",
       "      <td>Photography</td>\n",
       "      <td>0.5552</td>\n",
       "      <td>0.5463</td>\n",
       "      <td>0.4672</td>\n",
       "      <td>0.5463</td>\n",
       "    </tr>\n",
       "    <tr>\n",
       "      <th>7</th>\n",
       "      <td>Technology</td>\n",
       "      <td>0.6078</td>\n",
       "      <td>0.6033</td>\n",
       "      <td>0.4176</td>\n",
       "      <td>0.6033</td>\n",
       "    </tr>\n",
       "    <tr>\n",
       "      <th>8</th>\n",
       "      <td>Theater</td>\n",
       "      <td>0.6192</td>\n",
       "      <td>0.6156</td>\n",
       "      <td>0.6774</td>\n",
       "      <td>0.6156</td>\n",
       "    </tr>\n",
       "    <tr>\n",
       "      <th>9</th>\n",
       "      <td>Crafts</td>\n",
       "      <td>0.6364</td>\n",
       "      <td>0.6280</td>\n",
       "      <td>0.4829</td>\n",
       "      <td>0.6280</td>\n",
       "    </tr>\n",
       "    <tr>\n",
       "      <th>10</th>\n",
       "      <td>Games</td>\n",
       "      <td>0.6299</td>\n",
       "      <td>0.6360</td>\n",
       "      <td>0.5938</td>\n",
       "      <td>0.6360</td>\n",
       "    </tr>\n",
       "    <tr>\n",
       "      <th>11</th>\n",
       "      <td>Comics</td>\n",
       "      <td>0.6246</td>\n",
       "      <td>0.6462</td>\n",
       "      <td>0.6615</td>\n",
       "      <td>0.6462</td>\n",
       "    </tr>\n",
       "    <tr>\n",
       "      <th>12</th>\n",
       "      <td>Food</td>\n",
       "      <td>0.5869</td>\n",
       "      <td>0.6207</td>\n",
       "      <td>0.4485</td>\n",
       "      <td>0.6207</td>\n",
       "    </tr>\n",
       "    <tr>\n",
       "      <th>13</th>\n",
       "      <td>Design</td>\n",
       "      <td>0.6046</td>\n",
       "      <td>0.6242</td>\n",
       "      <td>0.5592</td>\n",
       "      <td>0.6242</td>\n",
       "    </tr>\n",
       "    <tr>\n",
       "      <th>14</th>\n",
       "      <td>Dance</td>\n",
       "      <td>0.5863</td>\n",
       "      <td>0.5628</td>\n",
       "      <td>0.6488</td>\n",
       "      <td>0.5628</td>\n",
       "    </tr>\n",
       "  </tbody>\n",
       "</table>\n",
       "</div>"
      ],
      "text/plain": [
       "        category  Recall train  Recall test  F1 train  F1 test\n",
       "0        Fashion        0.5754       0.5896    0.4346   0.5896\n",
       "1            Art        0.5877       0.6069    0.5679   0.6069\n",
       "2     Journalism        0.5869       0.6162    0.4070   0.6162\n",
       "3   Film & Video        0.6140       0.6159    0.5698   0.6159\n",
       "4     Publishing        0.5919       0.5885    0.5068   0.5885\n",
       "5          Music        0.5675       0.5939    0.5796   0.5939\n",
       "6    Photography        0.5552       0.5463    0.4672   0.5463\n",
       "7     Technology        0.6078       0.6033    0.4176   0.6033\n",
       "8        Theater        0.6192       0.6156    0.6774   0.6156\n",
       "9         Crafts        0.6364       0.6280    0.4829   0.6280\n",
       "10         Games        0.6299       0.6360    0.5938   0.6360\n",
       "11        Comics        0.6246       0.6462    0.6615   0.6462\n",
       "12          Food        0.5869       0.6207    0.4485   0.6207\n",
       "13        Design        0.6046       0.6242    0.5592   0.6242\n",
       "14         Dance        0.5863       0.5628    0.6488   0.5628"
      ]
     },
     "execution_count": 126,
     "metadata": {},
     "output_type": "execute_result"
    }
   ],
   "source": [
    "model = \"log_noPoly_noScale\"\n",
    "#\n",
    "models[model] = {}\n",
    "y_pred_train[model] = {}\n",
    "y_pred_test[model] = {}\n",
    "#\n",
    "recalls_train[model] = {}\n",
    "recalls_test[model] = {}\n",
    "\n",
    "f1_train[model] = {}\n",
    "f1_test[model] = {}\n",
    "#\n",
    "for category in categories:\n",
    "    models[model][category] = LogisticRegression(class_weight=\"balanced\")\n",
    "    models[model][category].fit(X_train_wo_outlier[category], y_train_wo_outlier[category])\n",
    "\n",
    "     # Perform cross-validation\n",
    "    cv_recall_scores = cross_val_score(\n",
    "        models[model][category],\n",
    "        X_train_wo_outlier[category],\n",
    "        y_train_wo_outlier[category],\n",
    "        scoring=recall_scorer,\n",
    "        cv=5  # 5-fold cross-validation\n",
    "    )\n",
    "\n",
    "    print(f\"Cross-validated Recall for {category}: {cv_recall_scores.mean()}\")\n",
    "# Perform cross-validation for F1 score\n",
    "    cv_f1_scores = cross_val_score(\n",
    "        models[model][category],\n",
    "        X_train_wo_outlier[category],\n",
    "        y_train_wo_outlier[category],\n",
    "        scoring=f1_scorer,\n",
    "        cv=5  # 5-fold cross-validation\n",
    "    )\n",
    "    print(f\"Cross-validated F1 for {category}: {cv_f1_scores.mean()}\")\n",
    "    #\n",
    "    y_pred_train[model][category] = models[model][category].predict(X_train_wo_outlier[category])\n",
    "    y_pred_test[model][category] = models[model][category].predict(X_test[category])\n",
    "    #\n",
    "    recalls_train[model][category] = recall_score(y_train_wo_outlier[category], y_pred_train[model][category]).round(4)\n",
    "    recalls_test[model][category] = recall_score(y_test[category], y_pred_test[model][category]).round(4)\n",
    "\n",
    "    f1_train[model][category] = f1_score(y_train_wo_outlier[category], y_pred_train[model][category]).round(4)\n",
    "    f1_test[model][category] = recall_score(y_test[category], y_pred_test[model][category]).round(4)\n",
    "#\n",
    "df_recalls[model] = pd.DataFrame({\n",
    "    \"category\": categories,\n",
    "    \"Recall train\": recalls_train[model].values(),\n",
    "    \"Recall test\": recalls_test[model].values(),\n",
    "    \"F1 train\": f1_train[model].values(),\n",
    "    \"F1 test\": f1_test[model].values()\n",
    "})\n",
    "df_recalls[model]"
   ]
  },
  {
   "cell_type": "markdown",
   "metadata": {},
   "source": [
    "After balancing, the models perform all equally moderate."
   ]
  },
  {
   "cell_type": "markdown",
   "metadata": {},
   "source": [
    "### Logistic: with polynomials degree 2, no scaling"
   ]
  },
  {
   "cell_type": "markdown",
   "metadata": {},
   "source": [
    "NOTE: this also creates polynomials for weekday, hours, etc. - does not make sense!!"
   ]
  },
  {
   "cell_type": "markdown",
   "metadata": {},
   "source": [
    "note: the output asks us to either increase the number of iterations (which doesn't improve anything) or to add scaling (which we try next)"
   ]
  },
  {
   "cell_type": "code",
   "execution_count": 168,
   "metadata": {},
   "outputs": [
    {
     "name": "stdout",
     "output_type": "stream",
     "text": [
      "Cross-validated Recall for Fashion: 0.6146695387472912\n",
      "Cross-validated F1 for Fashion: 0.44280615371079135\n",
      "Confusion Matrix for Fashion:\n",
      "[[6164 5053]\n",
      " [1694 2710]]\n",
      "Cross-validated Recall for Art: 0.634957791286077\n",
      "Cross-validated F1 for Art: 0.5820105980292797\n",
      "Confusion Matrix for Art:\n",
      "[[5958 4894]\n",
      " [3138 5776]]\n",
      "Cross-validated Recall for Journalism: 0.6088089330024814\n",
      "Cross-validated F1 for Journalism: 0.4064006301713431\n",
      "Confusion Matrix for Journalism:\n",
      "[[1394 1048]\n",
      " [ 295  482]]\n",
      "Cross-validated Recall for Film & Video: 0.6771285185561849\n",
      "Cross-validated F1 for Film & Video: 0.5899118942622075\n",
      "Confusion Matrix for Film & Video:\n",
      "[[13527 11355]\n",
      " [ 5807 12451]]\n",
      "Cross-validated Recall for Publishing: 0.6309656294727761\n",
      "Cross-validated F1 for Publishing: 0.5174044221672424\n",
      "Confusion Matrix for Publishing:\n",
      "[[10248  7672]\n",
      " [ 3480  5969]]\n",
      "Cross-validated Recall for Music: 0.6311162264656109\n",
      "Cross-validated F1 for Music: 0.6109815872352732\n",
      "Confusion Matrix for Music:\n",
      "[[ 8496  8079]\n",
      " [ 6861 11798]]\n",
      "Cross-validated Recall for Photography: 0.601645963213341\n",
      "Cross-validated F1 for Photography: 0.4818034111614658\n",
      "Confusion Matrix for Photography:\n",
      "[[2720 2235]\n",
      " [1018 1525]]\n",
      "Cross-validated Recall for Technology: 0.6451468531468532\n",
      "Cross-validated F1 for Technology: 0.42981474868295466\n",
      "Confusion Matrix for Technology:\n",
      "[[9480 6763]\n",
      " [1743 3259]]\n",
      "Cross-validated Recall for Theater: 0.6707343274568556\n",
      "Cross-validated F1 for Theater: 0.7075453980168236\n",
      "Confusion Matrix for Theater:\n",
      "[[1532 1160]\n",
      " [1635 3449]]\n",
      "Cross-validated Recall for Crafts: 0.6660313100796486\n",
      "Cross-validated F1 for Crafts: 0.4777306840611305\n",
      "Confusion Matrix for Crafts:\n",
      "[[2688 1820]\n",
      " [ 559 1094]]\n",
      "Cross-validated Recall for Games: 0.6759524435031455\n",
      "Cross-validated F1 for Games: 0.6066040114455629\n",
      "Confusion Matrix for Games:\n",
      "[[7163 5322]\n",
      " [3086 6533]]\n",
      "Cross-validated Recall for Comics: 0.667911120782408\n",
      "Cross-validated F1 for Comics: 0.6800065519251344\n",
      "Confusion Matrix for Comics:\n",
      "[[1812 1323]\n",
      " [1529 3018]]\n",
      "Cross-validated Recall for Food: 0.6426927308115427\n",
      "Cross-validated F1 for Food: 0.4642068324046046\n",
      "Confusion Matrix for Food:\n",
      "[[6835 5128]\n",
      " [1622 2926]]\n",
      "Cross-validated Recall for Design: 0.6241717609790698\n",
      "Cross-validated F1 for Design: 0.5655240422205077\n",
      "Confusion Matrix for Design:\n",
      "[[6844 4745]\n",
      " [3028 5130]]\n",
      "Cross-validated Recall for Dance: 0.6624985191328042\n",
      "Cross-validated F1 for Dance: 0.6939917973171471\n",
      "Confusion Matrix for Dance:\n",
      "[[ 483  434]\n",
      " [ 612 1225]]\n"
     ]
    },
    {
     "data": {
      "text/html": [
       "<div>\n",
       "<style scoped>\n",
       "    .dataframe tbody tr th:only-of-type {\n",
       "        vertical-align: middle;\n",
       "    }\n",
       "\n",
       "    .dataframe tbody tr th {\n",
       "        vertical-align: top;\n",
       "    }\n",
       "\n",
       "    .dataframe thead th {\n",
       "        text-align: right;\n",
       "    }\n",
       "</style>\n",
       "<table border=\"1\" class=\"dataframe\">\n",
       "  <thead>\n",
       "    <tr style=\"text-align: right;\">\n",
       "      <th></th>\n",
       "      <th>category</th>\n",
       "      <th>Recall train</th>\n",
       "      <th>Recall test</th>\n",
       "    </tr>\n",
       "  </thead>\n",
       "  <tbody>\n",
       "    <tr>\n",
       "      <th>0</th>\n",
       "      <td>Fashion</td>\n",
       "      <td>0.615350</td>\n",
       "      <td>0.628136</td>\n",
       "    </tr>\n",
       "    <tr>\n",
       "      <th>1</th>\n",
       "      <td>Art</td>\n",
       "      <td>0.647969</td>\n",
       "      <td>0.666227</td>\n",
       "    </tr>\n",
       "    <tr>\n",
       "      <th>2</th>\n",
       "      <td>Journalism</td>\n",
       "      <td>0.620335</td>\n",
       "      <td>0.595960</td>\n",
       "    </tr>\n",
       "    <tr>\n",
       "      <th>3</th>\n",
       "      <td>Film &amp; Video</td>\n",
       "      <td>0.681948</td>\n",
       "      <td>0.691494</td>\n",
       "    </tr>\n",
       "    <tr>\n",
       "      <th>4</th>\n",
       "      <td>Publishing</td>\n",
       "      <td>0.631707</td>\n",
       "      <td>0.637295</td>\n",
       "    </tr>\n",
       "    <tr>\n",
       "      <th>5</th>\n",
       "      <td>Music</td>\n",
       "      <td>0.632295</td>\n",
       "      <td>0.655450</td>\n",
       "    </tr>\n",
       "    <tr>\n",
       "      <th>6</th>\n",
       "      <td>Photography</td>\n",
       "      <td>0.599685</td>\n",
       "      <td>0.584877</td>\n",
       "    </tr>\n",
       "    <tr>\n",
       "      <th>7</th>\n",
       "      <td>Technology</td>\n",
       "      <td>0.651539</td>\n",
       "      <td>0.643024</td>\n",
       "    </tr>\n",
       "    <tr>\n",
       "      <th>8</th>\n",
       "      <td>Theater</td>\n",
       "      <td>0.678403</td>\n",
       "      <td>0.673930</td>\n",
       "    </tr>\n",
       "    <tr>\n",
       "      <th>9</th>\n",
       "      <td>Crafts</td>\n",
       "      <td>0.661827</td>\n",
       "      <td>0.670616</td>\n",
       "    </tr>\n",
       "    <tr>\n",
       "      <th>10</th>\n",
       "      <td>Games</td>\n",
       "      <td>0.679177</td>\n",
       "      <td>0.683220</td>\n",
       "    </tr>\n",
       "    <tr>\n",
       "      <th>11</th>\n",
       "      <td>Comics</td>\n",
       "      <td>0.663734</td>\n",
       "      <td>0.687662</td>\n",
       "    </tr>\n",
       "    <tr>\n",
       "      <th>12</th>\n",
       "      <td>Food</td>\n",
       "      <td>0.643360</td>\n",
       "      <td>0.664463</td>\n",
       "    </tr>\n",
       "    <tr>\n",
       "      <th>13</th>\n",
       "      <td>Design</td>\n",
       "      <td>0.628831</td>\n",
       "      <td>0.641330</td>\n",
       "    </tr>\n",
       "    <tr>\n",
       "      <th>14</th>\n",
       "      <td>Dance</td>\n",
       "      <td>0.666848</td>\n",
       "      <td>0.638528</td>\n",
       "    </tr>\n",
       "  </tbody>\n",
       "</table>\n",
       "</div>"
      ],
      "text/plain": [
       "        category  Recall train  Recall test\n",
       "0        Fashion      0.615350     0.628136\n",
       "1            Art      0.647969     0.666227\n",
       "2     Journalism      0.620335     0.595960\n",
       "3   Film & Video      0.681948     0.691494\n",
       "4     Publishing      0.631707     0.637295\n",
       "5          Music      0.632295     0.655450\n",
       "6    Photography      0.599685     0.584877\n",
       "7     Technology      0.651539     0.643024\n",
       "8        Theater      0.678403     0.673930\n",
       "9         Crafts      0.661827     0.670616\n",
       "10         Games      0.679177     0.683220\n",
       "11        Comics      0.663734     0.687662\n",
       "12          Food      0.643360     0.664463\n",
       "13        Design      0.628831     0.641330\n",
       "14         Dance      0.666848     0.638528"
      ]
     },
     "execution_count": 168,
     "metadata": {},
     "output_type": "execute_result"
    }
   ],
   "source": [
    "model = \"log_Poly2_noScale\"\n",
    "#\n",
    "models[model] = {}\n",
    "polynomial_features[model] = {}\n",
    "#\n",
    "x_train_poly[model] = {}\n",
    "x_test_poly[model] = {}\n",
    "x_train_scaled[model] = {}\n",
    "x_test_scaled[model] = {}\n",
    "x_train_transformed[model] = {}\n",
    "x_test_transformed[model] = {}\n",
    "#\n",
    "y_pred_train[model] = {}\n",
    "y_pred_test[model] = {}\n",
    "#\n",
    "recalls_train[model] = {}\n",
    "recalls_test[model] = {}\n",
    "#\n",
    "#\n",
    "for category in categories:\n",
    "    #\n",
    "    # transformation 1: polynomials\n",
    "    # here: degree 2\n",
    "    polynomial_features[model][category] = PolynomialFeatures(degree=2, include_bias=False)\n",
    "    x_train_poly[model][category] = polynomial_features[model][category].fit_transform(X_train_wo_outlier[category])\n",
    "    x_test_poly[model][category] = polynomial_features[model][category].transform(X_test[category])\n",
    "    #\n",
    "    # transformation 2: scaling\n",
    "    # here: none\n",
    "    x_train_scaled[model][category] = x_train_poly[model][category]\n",
    "    x_test_scaled[model][category] = x_test_poly[model][category]\n",
    "    #\n",
    "    # transformation: final\n",
    "    x_train_transformed[model][category] = x_train_scaled[model][category]\n",
    "    x_test_transformed[model][category] = x_test_scaled[model][category]\n",
    "    #\n",
    "    # regression\n",
    "    models[model][category] = LogisticRegression(class_weight=\"balanced\")\n",
    "    models[model][category].fit(x_train_transformed[model][category], y_train_wo_outlier[category])\n",
    "\n",
    "# Perform cross-validation\n",
    "    cv_recall_scores = cross_val_score(\n",
    "        models[model][category],\n",
    "        x_train_transformed[model][category],\n",
    "        y_train_wo_outlier[category],\n",
    "        scoring=recall_scorer,\n",
    "        cv=5  # 5-fold cross-validation\n",
    "    )\n",
    "\n",
    "    print(f\"Cross-validated Recall for {category}: {cv_recall_scores.mean()}\")\n",
    "# Perform cross-validation for F1 score\n",
    "    cv_f1_scores = cross_val_score(\n",
    "        models[model][category],\n",
    "        x_train_transformed[model][category],\n",
    "        y_train_wo_outlier[category],\n",
    "        scoring=f1_scorer,\n",
    "        cv=5  # 5-fold cross-validation\n",
    "    )\n",
    "    print(f\"Cross-validated F1 for {category}: {cv_f1_scores.mean()}\")\n",
    "\n",
    "\n",
    "    #\n",
    "    y_pred_train[model][category] = models[model][category].predict(x_train_transformed[model][category])\n",
    "    y_pred_test[model][category] = models[model][category].predict(x_test_transformed[model][category])\n",
    "    #\n",
    "    recalls_train[model][category] = recall_score(y_train_wo_outlier[category], y_pred_train[model][category])\n",
    "    recalls_test[model][category] = recall_score(y_test[category], y_pred_test[model][category])\n",
    "\n",
    "        # Confusion matrix for the current category\n",
    "    cm = confusion_matrix(y_train_wo_outlier[category], y_pred_train[model][category])\n",
    "    print(f\"Confusion Matrix for {category}:\\n{cm}\")\n",
    "#\n",
    "df_recalls[model] = pd.DataFrame({\n",
    "    \"category\": categories,\n",
    "    \"Recall train\": recalls_train[model].values(),\n",
    "    \"Recall test\": recalls_test[model].values()\n",
    "})\n",
    "df_recalls[model]"
   ]
  },
  {
   "cell_type": "code",
   "execution_count": 151,
   "metadata": {},
   "outputs": [
    {
     "data": {
      "text/plain": [
       "0.6508140678818538"
      ]
     },
     "execution_count": 151,
     "metadata": {},
     "output_type": "execute_result"
    }
   ],
   "source": [
    "df_recalls[model][\"Recall test\"].mean()"
   ]
  },
  {
   "cell_type": "markdown",
   "metadata": {},
   "source": [
    "3 degrees:"
   ]
  },
  {
   "cell_type": "code",
   "execution_count": 153,
   "metadata": {},
   "outputs": [
    {
     "name": "stdout",
     "output_type": "stream",
     "text": [
      "Cross-validated Recall for Fashion: 0.6187527086987927\n",
      "Cross-validated F1 for Fashion: 0.44035151533083167\n",
      "Cross-validated Recall for Art: 0.5884014948512986\n",
      "Cross-validated F1 for Art: 0.5580300022423679\n",
      "Cross-validated Recall for Journalism: 0.5804880066170389\n",
      "Cross-validated F1 for Journalism: 0.39350958015496784\n",
      "Cross-validated Recall for Film & Video: 0.6366539887794999\n",
      "Cross-validated F1 for Film & Video: 0.5706488801250992\n",
      "Cross-validated Recall for Publishing: 0.6062010357934128\n",
      "Cross-validated F1 for Publishing: 0.5056888902054282\n",
      "Cross-validated Recall for Music: 0.6098396362218808\n",
      "Cross-validated F1 for Music: 0.5984577079819426\n",
      "Cross-validated Recall for Photography: 0.5902425629998607\n",
      "Cross-validated F1 for Photography: 0.47616140584195543\n",
      "Cross-validated Recall for Technology: 0.6621394605394604\n",
      "Cross-validated F1 for Technology: 0.43141801632287946\n",
      "Cross-validated Recall for Theater: 0.6146729999458034\n",
      "Cross-validated F1 for Theater: 0.6710526564039339\n",
      "Cross-validated Recall for Crafts: 0.6424279044218622\n",
      "Cross-validated F1 for Crafts: 0.4687566758898047\n",
      "Cross-validated Recall for Games: 0.6788632085823973\n",
      "Cross-validated F1 for Games: 0.6053995339344413\n",
      "Cross-validated Recall for Comics: 0.6522948778394323\n",
      "Cross-validated F1 for Comics: 0.670378311912015\n",
      "Cross-validated Recall for Food: 0.6288385981455288\n",
      "Cross-validated F1 for Food: 0.4567749226659741\n",
      "Cross-validated Recall for Design: 0.6198820944686888\n",
      "Cross-validated F1 for Design: 0.5627308801053683\n",
      "Cross-validated Recall for Dance: 0.6439906409193223\n",
      "Cross-validated F1 for Dance: 0.6824801664623203\n"
     ]
    },
    {
     "data": {
      "text/html": [
       "<div>\n",
       "<style scoped>\n",
       "    .dataframe tbody tr th:only-of-type {\n",
       "        vertical-align: middle;\n",
       "    }\n",
       "\n",
       "    .dataframe tbody tr th {\n",
       "        vertical-align: top;\n",
       "    }\n",
       "\n",
       "    .dataframe thead th {\n",
       "        text-align: right;\n",
       "    }\n",
       "</style>\n",
       "<table border=\"1\" class=\"dataframe\">\n",
       "  <thead>\n",
       "    <tr style=\"text-align: right;\">\n",
       "      <th></th>\n",
       "      <th>category</th>\n",
       "      <th>Recall train</th>\n",
       "      <th>Recall test</th>\n",
       "    </tr>\n",
       "  </thead>\n",
       "  <tbody>\n",
       "    <tr>\n",
       "      <th>0</th>\n",
       "      <td>Fashion</td>\n",
       "      <td>0.609219</td>\n",
       "      <td>0.629928</td>\n",
       "    </tr>\n",
       "    <tr>\n",
       "      <th>1</th>\n",
       "      <td>Art</td>\n",
       "      <td>0.586830</td>\n",
       "      <td>0.605101</td>\n",
       "    </tr>\n",
       "    <tr>\n",
       "      <th>2</th>\n",
       "      <td>Journalism</td>\n",
       "      <td>0.592021</td>\n",
       "      <td>0.560606</td>\n",
       "    </tr>\n",
       "    <tr>\n",
       "      <th>3</th>\n",
       "      <td>Film &amp; Video</td>\n",
       "      <td>0.658506</td>\n",
       "      <td>0.674655</td>\n",
       "    </tr>\n",
       "    <tr>\n",
       "      <th>4</th>\n",
       "      <td>Publishing</td>\n",
       "      <td>0.605461</td>\n",
       "      <td>0.609836</td>\n",
       "    </tr>\n",
       "    <tr>\n",
       "      <th>5</th>\n",
       "      <td>Music</td>\n",
       "      <td>0.590278</td>\n",
       "      <td>0.606772</td>\n",
       "    </tr>\n",
       "    <tr>\n",
       "      <th>6</th>\n",
       "      <td>Photography</td>\n",
       "      <td>0.590641</td>\n",
       "      <td>0.584877</td>\n",
       "    </tr>\n",
       "    <tr>\n",
       "      <th>7</th>\n",
       "      <td>Technology</td>\n",
       "      <td>0.663335</td>\n",
       "      <td>0.653936</td>\n",
       "    </tr>\n",
       "    <tr>\n",
       "      <th>8</th>\n",
       "      <td>Theater</td>\n",
       "      <td>0.633360</td>\n",
       "      <td>0.620233</td>\n",
       "    </tr>\n",
       "    <tr>\n",
       "      <th>9</th>\n",
       "      <td>Crafts</td>\n",
       "      <td>0.641863</td>\n",
       "      <td>0.654028</td>\n",
       "    </tr>\n",
       "    <tr>\n",
       "      <th>10</th>\n",
       "      <td>Games</td>\n",
       "      <td>0.681776</td>\n",
       "      <td>0.678014</td>\n",
       "    </tr>\n",
       "    <tr>\n",
       "      <th>11</th>\n",
       "      <td>Comics</td>\n",
       "      <td>0.666373</td>\n",
       "      <td>0.690250</td>\n",
       "    </tr>\n",
       "    <tr>\n",
       "      <th>12</th>\n",
       "      <td>Food</td>\n",
       "      <td>0.617634</td>\n",
       "      <td>0.631405</td>\n",
       "    </tr>\n",
       "    <tr>\n",
       "      <th>13</th>\n",
       "      <td>Design</td>\n",
       "      <td>0.618534</td>\n",
       "      <td>0.630879</td>\n",
       "    </tr>\n",
       "    <tr>\n",
       "      <th>14</th>\n",
       "      <td>Dance</td>\n",
       "      <td>0.662493</td>\n",
       "      <td>0.634199</td>\n",
       "    </tr>\n",
       "  </tbody>\n",
       "</table>\n",
       "</div>"
      ],
      "text/plain": [
       "        category  Recall train  Recall test\n",
       "0        Fashion      0.609219     0.629928\n",
       "1            Art      0.586830     0.605101\n",
       "2     Journalism      0.592021     0.560606\n",
       "3   Film & Video      0.658506     0.674655\n",
       "4     Publishing      0.605461     0.609836\n",
       "5          Music      0.590278     0.606772\n",
       "6    Photography      0.590641     0.584877\n",
       "7     Technology      0.663335     0.653936\n",
       "8        Theater      0.633360     0.620233\n",
       "9         Crafts      0.641863     0.654028\n",
       "10         Games      0.681776     0.678014\n",
       "11        Comics      0.666373     0.690250\n",
       "12          Food      0.617634     0.631405\n",
       "13        Design      0.618534     0.630879\n",
       "14         Dance      0.662493     0.634199"
      ]
     },
     "execution_count": 153,
     "metadata": {},
     "output_type": "execute_result"
    }
   ],
   "source": [
    "model = \"log_Poly2_noScale\"\n",
    "#\n",
    "models[model] = {}\n",
    "polynomial_features[model] = {}\n",
    "#\n",
    "x_train_poly[model] = {}\n",
    "x_test_poly[model] = {}\n",
    "x_train_scaled[model] = {}\n",
    "x_test_scaled[model] = {}\n",
    "x_train_transformed[model] = {}\n",
    "x_test_transformed[model] = {}\n",
    "#\n",
    "y_pred_train[model] = {}\n",
    "y_pred_test[model] = {}\n",
    "#\n",
    "recalls_train[model] = {}\n",
    "recalls_test[model] = {}\n",
    "#\n",
    "#\n",
    "for category in categories:\n",
    "    #\n",
    "    # transformation 1: polynomials\n",
    "    # here: degree 2\n",
    "    polynomial_features[model][category] = PolynomialFeatures(degree=3, include_bias=False)\n",
    "    x_train_poly[model][category] = polynomial_features[model][category].fit_transform(X_train_wo_outlier[category])\n",
    "    x_test_poly[model][category] = polynomial_features[model][category].transform(X_test[category])\n",
    "    #\n",
    "    # transformation 2: scaling\n",
    "    # here: none\n",
    "    x_train_scaled[model][category] = x_train_poly[model][category]\n",
    "    x_test_scaled[model][category] = x_test_poly[model][category]\n",
    "    #\n",
    "    # transformation: final\n",
    "    x_train_transformed[model][category] = x_train_scaled[model][category]\n",
    "    x_test_transformed[model][category] = x_test_scaled[model][category]\n",
    "    #\n",
    "    # regression\n",
    "    models[model][category] = LogisticRegression(class_weight=\"balanced\")\n",
    "    models[model][category].fit(x_train_transformed[model][category], y_train_wo_outlier[category])\n",
    "\n",
    "# Perform cross-validation\n",
    "    cv_recall_scores = cross_val_score(\n",
    "        models[model][category],\n",
    "        x_train_transformed[model][category],\n",
    "        y_train_wo_outlier[category],\n",
    "        scoring=recall_scorer,\n",
    "        cv=5  # 5-fold cross-validation\n",
    "    )\n",
    "\n",
    "    print(f\"Cross-validated Recall for {category}: {cv_recall_scores.mean()}\")\n",
    "# Perform cross-validation for F1 score\n",
    "    cv_f1_scores = cross_val_score(\n",
    "        models[model][category],\n",
    "        x_train_transformed[model][category],\n",
    "        y_train_wo_outlier[category],\n",
    "        scoring=f1_scorer,\n",
    "        cv=5  # 5-fold cross-validation\n",
    "    )\n",
    "    print(f\"Cross-validated F1 for {category}: {cv_f1_scores.mean()}\")\n",
    "\n",
    "\n",
    "    #\n",
    "    y_pred_train[model][category] = models[model][category].predict(x_train_transformed[model][category])\n",
    "    y_pred_test[model][category] = models[model][category].predict(x_test_transformed[model][category])\n",
    "    #\n",
    "    recalls_train[model][category] = recall_score(y_train_wo_outlier[category], y_pred_train[model][category])\n",
    "    recalls_test[model][category] = recall_score(y_test[category], y_pred_test[model][category])\n",
    "#\n",
    "df_recalls[model] = pd.DataFrame({\n",
    "    \"category\": categories,\n",
    "    \"Recall train\": recalls_train[model].values(),\n",
    "    \"Recall test\": recalls_test[model].values()\n",
    "})\n",
    "df_recalls[model]\n"
   ]
  },
  {
   "cell_type": "code",
   "execution_count": 154,
   "metadata": {},
   "outputs": [
    {
     "data": {
      "text/plain": [
       "0.6309813308611486"
      ]
     },
     "execution_count": 154,
     "metadata": {},
     "output_type": "execute_result"
    }
   ],
   "source": [
    "df_recalls[model][\"Recall test\"].mean()"
   ]
  },
  {
   "cell_type": "markdown",
   "metadata": {},
   "source": [
    "Note: The mean recall score was better (0.65 vs. 0.63) for the polynomial model to 2nd degree than 3rd degree."
   ]
  },
  {
   "cell_type": "markdown",
   "metadata": {},
   "source": [
    "### Logistic: no polynomials, with Standard Scaler"
   ]
  },
  {
   "cell_type": "code",
   "execution_count": 144,
   "metadata": {},
   "outputs": [
    {
     "data": {
      "text/html": [
       "<div>\n",
       "<style scoped>\n",
       "    .dataframe tbody tr th:only-of-type {\n",
       "        vertical-align: middle;\n",
       "    }\n",
       "\n",
       "    .dataframe tbody tr th {\n",
       "        vertical-align: top;\n",
       "    }\n",
       "\n",
       "    .dataframe thead th {\n",
       "        text-align: right;\n",
       "    }\n",
       "</style>\n",
       "<table border=\"1\" class=\"dataframe\">\n",
       "  <thead>\n",
       "    <tr style=\"text-align: right;\">\n",
       "      <th></th>\n",
       "      <th>category</th>\n",
       "      <th>Recall train</th>\n",
       "      <th>Recall test</th>\n",
       "    </tr>\n",
       "  </thead>\n",
       "  <tbody>\n",
       "    <tr>\n",
       "      <th>0</th>\n",
       "      <td>Fashion</td>\n",
       "      <td>0.009083</td>\n",
       "      <td>0.022401</td>\n",
       "    </tr>\n",
       "    <tr>\n",
       "      <th>1</th>\n",
       "      <td>Art</td>\n",
       "      <td>0.416536</td>\n",
       "      <td>0.438874</td>\n",
       "    </tr>\n",
       "    <tr>\n",
       "      <th>2</th>\n",
       "      <td>Journalism</td>\n",
       "      <td>0.010296</td>\n",
       "      <td>0.045455</td>\n",
       "    </tr>\n",
       "    <tr>\n",
       "      <th>3</th>\n",
       "      <td>Film &amp; Video</td>\n",
       "      <td>0.366086</td>\n",
       "      <td>0.378886</td>\n",
       "    </tr>\n",
       "    <tr>\n",
       "      <th>4</th>\n",
       "      <td>Publishing</td>\n",
       "      <td>0.169542</td>\n",
       "      <td>0.178279</td>\n",
       "    </tr>\n",
       "    <tr>\n",
       "      <th>5</th>\n",
       "      <td>Music</td>\n",
       "      <td>0.711614</td>\n",
       "      <td>0.729735</td>\n",
       "    </tr>\n",
       "    <tr>\n",
       "      <th>6</th>\n",
       "      <td>Photography</td>\n",
       "      <td>0.078254</td>\n",
       "      <td>0.104938</td>\n",
       "    </tr>\n",
       "    <tr>\n",
       "      <th>7</th>\n",
       "      <td>Technology</td>\n",
       "      <td>0.019192</td>\n",
       "      <td>0.045986</td>\n",
       "    </tr>\n",
       "    <tr>\n",
       "      <th>8</th>\n",
       "      <td>Theater</td>\n",
       "      <td>0.933714</td>\n",
       "      <td>0.934630</td>\n",
       "    </tr>\n",
       "    <tr>\n",
       "      <th>9</th>\n",
       "      <td>Crafts</td>\n",
       "      <td>0.145796</td>\n",
       "      <td>0.170616</td>\n",
       "    </tr>\n",
       "    <tr>\n",
       "      <th>10</th>\n",
       "      <td>Games</td>\n",
       "      <td>0.455765</td>\n",
       "      <td>0.480577</td>\n",
       "    </tr>\n",
       "    <tr>\n",
       "      <th>11</th>\n",
       "      <td>Comics</td>\n",
       "      <td>0.831317</td>\n",
       "      <td>0.834340</td>\n",
       "    </tr>\n",
       "    <tr>\n",
       "      <th>12</th>\n",
       "      <td>Food</td>\n",
       "      <td>0.047274</td>\n",
       "      <td>0.106612</td>\n",
       "    </tr>\n",
       "    <tr>\n",
       "      <th>13</th>\n",
       "      <td>Design</td>\n",
       "      <td>0.319564</td>\n",
       "      <td>0.354394</td>\n",
       "    </tr>\n",
       "    <tr>\n",
       "      <th>14</th>\n",
       "      <td>Dance</td>\n",
       "      <td>0.988568</td>\n",
       "      <td>0.989177</td>\n",
       "    </tr>\n",
       "  </tbody>\n",
       "</table>\n",
       "</div>"
      ],
      "text/plain": [
       "        category  Recall train  Recall test\n",
       "0        Fashion      0.009083     0.022401\n",
       "1            Art      0.416536     0.438874\n",
       "2     Journalism      0.010296     0.045455\n",
       "3   Film & Video      0.366086     0.378886\n",
       "4     Publishing      0.169542     0.178279\n",
       "5          Music      0.711614     0.729735\n",
       "6    Photography      0.078254     0.104938\n",
       "7     Technology      0.019192     0.045986\n",
       "8        Theater      0.933714     0.934630\n",
       "9         Crafts      0.145796     0.170616\n",
       "10         Games      0.455765     0.480577\n",
       "11        Comics      0.831317     0.834340\n",
       "12          Food      0.047274     0.106612\n",
       "13        Design      0.319564     0.354394\n",
       "14         Dance      0.988568     0.989177"
      ]
     },
     "execution_count": 144,
     "metadata": {},
     "output_type": "execute_result"
    }
   ],
   "source": [
    "model = \"log_noPoly_StandardScale\"\n",
    "#\n",
    "models[model] = {}\n",
    "#polynomial_features[model] = {}\n",
    "scalers[model] = {}\n",
    "#\n",
    "x_train_poly[model] = {}\n",
    "x_test_poly[model] = {}\n",
    "x_train_scaled[model] = {}\n",
    "x_test_scaled[model] = {}\n",
    "x_train_transformed[model] = {}\n",
    "x_test_transformed[model] = {}\n",
    "#\n",
    "y_pred_train[model] = {}\n",
    "y_pred_test[model] = {}\n",
    "#\n",
    "recalls_train[model] = {}\n",
    "recalls_test[model] = {}\n",
    "#\n",
    "#\n",
    "for category in categories:\n",
    "    #\n",
    "    # transformation 1: polynomials\n",
    "    # here: none\n",
    "    x_train_poly[model][category] = X_train_wo_outlier[category]\n",
    "    x_test_poly[model][category] = X_test[category]\n",
    "    #\n",
    "    # transformation 2: scaling\n",
    "    # here: StandardScaler\n",
    "    scalers[model][category] = StandardScaler()\n",
    "    # scale only columns/features to be scaled, not all!\n",
    "    x_train_scaled[model][category] = scalers[model][category].fit_transform(x_train_poly[model][category][features_to_scale])\n",
    "    x_test_scaled[model][category]= scalers[model][category].transform(x_test_poly[model][category][features_to_scale])\n",
    "    #\n",
    "    # merge scaled and unscaled features back into a single dataframe\n",
    "    x_train_transformed[model][category] = np.concatenate([x_train_scaled[model][category], x_train_poly[model][category].drop(features_to_scale, axis=1)], axis=1)\n",
    "    x_test_transformed[model][category] = np.concatenate([x_test_scaled[model][category], x_test_poly[model][category].drop(features_to_scale, axis=1)], axis=1)\n",
    "    #\n",
    "    models[model][category] = LogisticRegression()\n",
    "    models[model][category].fit(x_train_transformed[model][category], y_train_wo_outlier[category])\n",
    "    #\n",
    "    y_pred_train[model][category] = models[model][category].predict(x_train_transformed[model][category])\n",
    "    y_pred_test[model][category] = models[model][category].predict(x_test_transformed[model][category])\n",
    "    #\n",
    "    recalls_train[model][category] = recall_score(y_train_wo_outlier[category], y_pred_train[model][category])\n",
    "    recalls_test[model][category] = recall_score(y_test[category], y_pred_test[model][category])\n",
    "#\n",
    "df_recalls[model] = pd.DataFrame({\n",
    "    \"category\": categories,\n",
    "    \"Recall train\": recalls_train[model].values(),\n",
    "    \"Recall test\": recalls_test[model].values()\n",
    "})\n",
    "df_recalls[model]\n"
   ]
  },
  {
   "cell_type": "markdown",
   "metadata": {},
   "source": [
    "Let's have a look at what the scaled data looks like. Take the example of the categoriy \"Art\":"
   ]
  },
  {
   "cell_type": "code",
   "execution_count": 145,
   "metadata": {},
   "outputs": [
    {
     "data": {
      "text/html": [
       "<div>\n",
       "<style scoped>\n",
       "    .dataframe tbody tr th:only-of-type {\n",
       "        vertical-align: middle;\n",
       "    }\n",
       "\n",
       "    .dataframe tbody tr th {\n",
       "        vertical-align: top;\n",
       "    }\n",
       "\n",
       "    .dataframe thead th {\n",
       "        text-align: right;\n",
       "    }\n",
       "</style>\n",
       "<table border=\"1\" class=\"dataframe\">\n",
       "  <thead>\n",
       "    <tr style=\"text-align: right;\">\n",
       "      <th></th>\n",
       "      <th>goal_log</th>\n",
       "      <th>duration</th>\n",
       "      <th>weekday</th>\n",
       "      <th>hour_sin</th>\n",
       "      <th>hour_cos</th>\n",
       "    </tr>\n",
       "  </thead>\n",
       "  <tbody>\n",
       "    <tr>\n",
       "      <th>367322</th>\n",
       "      <td>9.210340</td>\n",
       "      <td>29</td>\n",
       "      <td>2</td>\n",
       "      <td>0.258819</td>\n",
       "      <td>9.659258e-01</td>\n",
       "    </tr>\n",
       "    <tr>\n",
       "      <th>238088</th>\n",
       "      <td>6.745236</td>\n",
       "      <td>24</td>\n",
       "      <td>4</td>\n",
       "      <td>-0.965926</td>\n",
       "      <td>-2.588190e-01</td>\n",
       "    </tr>\n",
       "    <tr>\n",
       "      <th>4496</th>\n",
       "      <td>7.824046</td>\n",
       "      <td>29</td>\n",
       "      <td>1</td>\n",
       "      <td>0.000000</td>\n",
       "      <td>1.000000e+00</td>\n",
       "    </tr>\n",
       "    <tr>\n",
       "      <th>356613</th>\n",
       "      <td>7.906179</td>\n",
       "      <td>29</td>\n",
       "      <td>3</td>\n",
       "      <td>0.258819</td>\n",
       "      <td>-9.659258e-01</td>\n",
       "    </tr>\n",
       "    <tr>\n",
       "      <th>70987</th>\n",
       "      <td>8.699515</td>\n",
       "      <td>29</td>\n",
       "      <td>4</td>\n",
       "      <td>-0.258819</td>\n",
       "      <td>-9.659258e-01</td>\n",
       "    </tr>\n",
       "    <tr>\n",
       "      <th>...</th>\n",
       "      <td>...</td>\n",
       "      <td>...</td>\n",
       "      <td>...</td>\n",
       "      <td>...</td>\n",
       "      <td>...</td>\n",
       "    </tr>\n",
       "    <tr>\n",
       "      <th>107564</th>\n",
       "      <td>6.907755</td>\n",
       "      <td>59</td>\n",
       "      <td>6</td>\n",
       "      <td>-1.000000</td>\n",
       "      <td>-1.836970e-16</td>\n",
       "    </tr>\n",
       "    <tr>\n",
       "      <th>57861</th>\n",
       "      <td>6.907755</td>\n",
       "      <td>15</td>\n",
       "      <td>2</td>\n",
       "      <td>-0.500000</td>\n",
       "      <td>8.660254e-01</td>\n",
       "    </tr>\n",
       "    <tr>\n",
       "      <th>190074</th>\n",
       "      <td>8.294050</td>\n",
       "      <td>20</td>\n",
       "      <td>5</td>\n",
       "      <td>1.000000</td>\n",
       "      <td>6.123234e-17</td>\n",
       "    </tr>\n",
       "    <tr>\n",
       "      <th>204373</th>\n",
       "      <td>8.517193</td>\n",
       "      <td>25</td>\n",
       "      <td>3</td>\n",
       "      <td>-0.866025</td>\n",
       "      <td>-5.000000e-01</td>\n",
       "    </tr>\n",
       "    <tr>\n",
       "      <th>243860</th>\n",
       "      <td>7.600902</td>\n",
       "      <td>24</td>\n",
       "      <td>1</td>\n",
       "      <td>-0.866025</td>\n",
       "      <td>5.000000e-01</td>\n",
       "    </tr>\n",
       "  </tbody>\n",
       "</table>\n",
       "<p>19766 rows × 5 columns</p>\n",
       "</div>"
      ],
      "text/plain": [
       "        goal_log  duration weekday  hour_sin      hour_cos\n",
       "367322  9.210340        29       2  0.258819  9.659258e-01\n",
       "238088  6.745236        24       4 -0.965926 -2.588190e-01\n",
       "4496    7.824046        29       1  0.000000  1.000000e+00\n",
       "356613  7.906179        29       3  0.258819 -9.659258e-01\n",
       "70987   8.699515        29       4 -0.258819 -9.659258e-01\n",
       "...          ...       ...     ...       ...           ...\n",
       "107564  6.907755        59       6 -1.000000 -1.836970e-16\n",
       "57861   6.907755        15       2 -0.500000  8.660254e-01\n",
       "190074  8.294050        20       5  1.000000  6.123234e-17\n",
       "204373  8.517193        25       3 -0.866025 -5.000000e-01\n",
       "243860  7.600902        24       1 -0.866025  5.000000e-01\n",
       "\n",
       "[19766 rows x 5 columns]"
      ]
     },
     "execution_count": 145,
     "metadata": {},
     "output_type": "execute_result"
    }
   ],
   "source": [
    "# pre scaling\n",
    "X_train_wo_outlier[\"Art\"]"
   ]
  },
  {
   "cell_type": "code",
   "execution_count": 146,
   "metadata": {},
   "outputs": [
    {
     "data": {
      "text/html": [
       "<div>\n",
       "<style scoped>\n",
       "    .dataframe tbody tr th:only-of-type {\n",
       "        vertical-align: middle;\n",
       "    }\n",
       "\n",
       "    .dataframe tbody tr th {\n",
       "        vertical-align: top;\n",
       "    }\n",
       "\n",
       "    .dataframe thead th {\n",
       "        text-align: right;\n",
       "    }\n",
       "</style>\n",
       "<table border=\"1\" class=\"dataframe\">\n",
       "  <thead>\n",
       "    <tr style=\"text-align: right;\">\n",
       "      <th></th>\n",
       "      <th>0</th>\n",
       "      <th>1</th>\n",
       "      <th>2</th>\n",
       "      <th>3</th>\n",
       "      <th>4</th>\n",
       "    </tr>\n",
       "  </thead>\n",
       "  <tbody>\n",
       "    <tr>\n",
       "      <th>0</th>\n",
       "      <td>0.918958</td>\n",
       "      <td>-0.141252</td>\n",
       "      <td>2.0</td>\n",
       "      <td>0.258819</td>\n",
       "      <td>9.659258e-01</td>\n",
       "    </tr>\n",
       "    <tr>\n",
       "      <th>1</th>\n",
       "      <td>-0.758746</td>\n",
       "      <td>-0.561493</td>\n",
       "      <td>4.0</td>\n",
       "      <td>-0.965926</td>\n",
       "      <td>-2.588190e-01</td>\n",
       "    </tr>\n",
       "    <tr>\n",
       "      <th>2</th>\n",
       "      <td>-0.024528</td>\n",
       "      <td>-0.141252</td>\n",
       "      <td>1.0</td>\n",
       "      <td>0.000000</td>\n",
       "      <td>1.000000e+00</td>\n",
       "    </tr>\n",
       "    <tr>\n",
       "      <th>3</th>\n",
       "      <td>0.031370</td>\n",
       "      <td>-0.141252</td>\n",
       "      <td>3.0</td>\n",
       "      <td>0.258819</td>\n",
       "      <td>-9.659258e-01</td>\n",
       "    </tr>\n",
       "    <tr>\n",
       "      <th>4</th>\n",
       "      <td>0.571300</td>\n",
       "      <td>-0.141252</td>\n",
       "      <td>4.0</td>\n",
       "      <td>-0.258819</td>\n",
       "      <td>-9.659258e-01</td>\n",
       "    </tr>\n",
       "    <tr>\n",
       "      <th>...</th>\n",
       "      <td>...</td>\n",
       "      <td>...</td>\n",
       "      <td>...</td>\n",
       "      <td>...</td>\n",
       "      <td>...</td>\n",
       "    </tr>\n",
       "    <tr>\n",
       "      <th>19761</th>\n",
       "      <td>-0.648138</td>\n",
       "      <td>2.380191</td>\n",
       "      <td>6.0</td>\n",
       "      <td>-1.000000</td>\n",
       "      <td>-1.836970e-16</td>\n",
       "    </tr>\n",
       "    <tr>\n",
       "      <th>19762</th>\n",
       "      <td>-0.648138</td>\n",
       "      <td>-1.317926</td>\n",
       "      <td>2.0</td>\n",
       "      <td>-0.500000</td>\n",
       "      <td>8.660254e-01</td>\n",
       "    </tr>\n",
       "    <tr>\n",
       "      <th>19763</th>\n",
       "      <td>0.295348</td>\n",
       "      <td>-0.897686</td>\n",
       "      <td>5.0</td>\n",
       "      <td>1.000000</td>\n",
       "      <td>6.123234e-17</td>\n",
       "    </tr>\n",
       "    <tr>\n",
       "      <th>19764</th>\n",
       "      <td>0.447215</td>\n",
       "      <td>-0.477445</td>\n",
       "      <td>3.0</td>\n",
       "      <td>-0.866025</td>\n",
       "      <td>-5.000000e-01</td>\n",
       "    </tr>\n",
       "    <tr>\n",
       "      <th>19765</th>\n",
       "      <td>-0.176395</td>\n",
       "      <td>-0.561493</td>\n",
       "      <td>1.0</td>\n",
       "      <td>-0.866025</td>\n",
       "      <td>5.000000e-01</td>\n",
       "    </tr>\n",
       "  </tbody>\n",
       "</table>\n",
       "<p>19766 rows × 5 columns</p>\n",
       "</div>"
      ],
      "text/plain": [
       "              0         1    2         3             4\n",
       "0      0.918958 -0.141252  2.0  0.258819  9.659258e-01\n",
       "1     -0.758746 -0.561493  4.0 -0.965926 -2.588190e-01\n",
       "2     -0.024528 -0.141252  1.0  0.000000  1.000000e+00\n",
       "3      0.031370 -0.141252  3.0  0.258819 -9.659258e-01\n",
       "4      0.571300 -0.141252  4.0 -0.258819 -9.659258e-01\n",
       "...         ...       ...  ...       ...           ...\n",
       "19761 -0.648138  2.380191  6.0 -1.000000 -1.836970e-16\n",
       "19762 -0.648138 -1.317926  2.0 -0.500000  8.660254e-01\n",
       "19763  0.295348 -0.897686  5.0  1.000000  6.123234e-17\n",
       "19764  0.447215 -0.477445  3.0 -0.866025 -5.000000e-01\n",
       "19765 -0.176395 -0.561493  1.0 -0.866025  5.000000e-01\n",
       "\n",
       "[19766 rows x 5 columns]"
      ]
     },
     "execution_count": 146,
     "metadata": {},
     "output_type": "execute_result"
    }
   ],
   "source": [
    "# post scaling: note that weekday and hour are not scaled, but goal and duration are\n",
    "# BUT: did the model lose the information that weekday is a categorical instead of a numerical feature?\n",
    "pd.DataFrame(x_train_transformed[\"log_noPoly_StandardScale\"][\"Art\"])"
   ]
  },
  {
   "cell_type": "markdown",
   "metadata": {},
   "source": [
    "### Logistic: no polynomials, with MinMax Scaler"
   ]
  },
  {
   "cell_type": "code",
   "execution_count": 147,
   "metadata": {},
   "outputs": [
    {
     "data": {
      "text/html": [
       "<div>\n",
       "<style scoped>\n",
       "    .dataframe tbody tr th:only-of-type {\n",
       "        vertical-align: middle;\n",
       "    }\n",
       "\n",
       "    .dataframe tbody tr th {\n",
       "        vertical-align: top;\n",
       "    }\n",
       "\n",
       "    .dataframe thead th {\n",
       "        text-align: right;\n",
       "    }\n",
       "</style>\n",
       "<table border=\"1\" class=\"dataframe\">\n",
       "  <thead>\n",
       "    <tr style=\"text-align: right;\">\n",
       "      <th></th>\n",
       "      <th>category</th>\n",
       "      <th>Recall train</th>\n",
       "      <th>Recall test</th>\n",
       "    </tr>\n",
       "  </thead>\n",
       "  <tbody>\n",
       "    <tr>\n",
       "      <th>0</th>\n",
       "      <td>Fashion</td>\n",
       "      <td>0.008629</td>\n",
       "      <td>0.022401</td>\n",
       "    </tr>\n",
       "    <tr>\n",
       "      <th>1</th>\n",
       "      <td>Art</td>\n",
       "      <td>0.415751</td>\n",
       "      <td>0.437555</td>\n",
       "    </tr>\n",
       "    <tr>\n",
       "      <th>2</th>\n",
       "      <td>Journalism</td>\n",
       "      <td>0.005148</td>\n",
       "      <td>0.040404</td>\n",
       "    </tr>\n",
       "    <tr>\n",
       "      <th>3</th>\n",
       "      <td>Film &amp; Video</td>\n",
       "      <td>0.365867</td>\n",
       "      <td>0.378886</td>\n",
       "    </tr>\n",
       "    <tr>\n",
       "      <th>4</th>\n",
       "      <td>Publishing</td>\n",
       "      <td>0.168166</td>\n",
       "      <td>0.178279</td>\n",
       "    </tr>\n",
       "    <tr>\n",
       "      <th>5</th>\n",
       "      <td>Music</td>\n",
       "      <td>0.712042</td>\n",
       "      <td>0.731005</td>\n",
       "    </tr>\n",
       "    <tr>\n",
       "      <th>6</th>\n",
       "      <td>Photography</td>\n",
       "      <td>0.075501</td>\n",
       "      <td>0.103395</td>\n",
       "    </tr>\n",
       "    <tr>\n",
       "      <th>7</th>\n",
       "      <td>Technology</td>\n",
       "      <td>0.018593</td>\n",
       "      <td>0.045986</td>\n",
       "    </tr>\n",
       "    <tr>\n",
       "      <th>8</th>\n",
       "      <td>Theater</td>\n",
       "      <td>0.935877</td>\n",
       "      <td>0.935409</td>\n",
       "    </tr>\n",
       "    <tr>\n",
       "      <th>9</th>\n",
       "      <td>Crafts</td>\n",
       "      <td>0.137326</td>\n",
       "      <td>0.165877</td>\n",
       "    </tr>\n",
       "    <tr>\n",
       "      <th>10</th>\n",
       "      <td>Games</td>\n",
       "      <td>0.454933</td>\n",
       "      <td>0.479375</td>\n",
       "    </tr>\n",
       "    <tr>\n",
       "      <th>11</th>\n",
       "      <td>Comics</td>\n",
       "      <td>0.832857</td>\n",
       "      <td>0.836066</td>\n",
       "    </tr>\n",
       "    <tr>\n",
       "      <th>12</th>\n",
       "      <td>Food</td>\n",
       "      <td>0.046614</td>\n",
       "      <td>0.104959</td>\n",
       "    </tr>\n",
       "    <tr>\n",
       "      <th>13</th>\n",
       "      <td>Design</td>\n",
       "      <td>0.318460</td>\n",
       "      <td>0.351069</td>\n",
       "    </tr>\n",
       "    <tr>\n",
       "      <th>14</th>\n",
       "      <td>Dance</td>\n",
       "      <td>0.988568</td>\n",
       "      <td>0.991342</td>\n",
       "    </tr>\n",
       "  </tbody>\n",
       "</table>\n",
       "</div>"
      ],
      "text/plain": [
       "        category  Recall train  Recall test\n",
       "0        Fashion      0.008629     0.022401\n",
       "1            Art      0.415751     0.437555\n",
       "2     Journalism      0.005148     0.040404\n",
       "3   Film & Video      0.365867     0.378886\n",
       "4     Publishing      0.168166     0.178279\n",
       "5          Music      0.712042     0.731005\n",
       "6    Photography      0.075501     0.103395\n",
       "7     Technology      0.018593     0.045986\n",
       "8        Theater      0.935877     0.935409\n",
       "9         Crafts      0.137326     0.165877\n",
       "10         Games      0.454933     0.479375\n",
       "11        Comics      0.832857     0.836066\n",
       "12          Food      0.046614     0.104959\n",
       "13        Design      0.318460     0.351069\n",
       "14         Dance      0.988568     0.991342"
      ]
     },
     "execution_count": 147,
     "metadata": {},
     "output_type": "execute_result"
    }
   ],
   "source": [
    "model = \"log_noPoly_MinMaxScale\"\n",
    "#\n",
    "models[model] = {}\n",
    "#polynomial_features[model] = {}\n",
    "scalers[model] = {}\n",
    "#\n",
    "x_train_poly[model] = {}\n",
    "x_test_poly[model] = {}\n",
    "x_train_scaled[model] = {}\n",
    "x_test_scaled[model] = {}\n",
    "x_train_transformed[model] = {}\n",
    "x_test_transformed[model] = {}\n",
    "#\n",
    "y_pred_train[model] = {}\n",
    "y_pred_test[model] = {}\n",
    "#\n",
    "recalls_train[model] = {}\n",
    "recalls_test[model] = {}\n",
    "#\n",
    "#\n",
    "for category in categories:\n",
    "    #\n",
    "    # transformation 1: polynomials\n",
    "    # here: none\n",
    "    x_train_poly[model][category] = X_train_wo_outlier[category]\n",
    "    x_test_poly[model][category] = X_test[category]\n",
    "    #\n",
    "    # transformation 2: scaling\n",
    "    # here: MinMaxScaler\n",
    "    scalers[model][category] = MinMaxScaler()\n",
    "    # scale only columns/features to be scaled, not all!\n",
    "    x_train_scaled[model][category] = scalers[model][category].fit_transform(x_train_poly[model][category][features_to_scale])\n",
    "    x_test_scaled[model][category]= scalers[model][category].transform(x_test_poly[model][category][features_to_scale])\n",
    "    #\n",
    "    # merge scaled and unscaled features back into a single dataframe\n",
    "    x_train_transformed[model][category] = np.concatenate([x_train_scaled[model][category], x_train_poly[model][category].drop(features_to_scale, axis=1)], axis=1)\n",
    "    x_test_transformed[model][category] = np.concatenate([x_test_scaled[model][category], x_test_poly[model][category].drop(features_to_scale, axis=1)], axis=1)\n",
    "    #\n",
    "    models[model][category] = LogisticRegression()\n",
    "    models[model][category].fit(x_train_transformed[model][category], y_train_wo_outlier[category])\n",
    "    #\n",
    "    y_pred_train[model][category] = models[model][category].predict(x_train_transformed[model][category])\n",
    "    y_pred_test[model][category] = models[model][category].predict(x_test_transformed[model][category])\n",
    "    #\n",
    "    recalls_train[model][category] = recall_score(y_train_wo_outlier[category], y_pred_train[model][category])\n",
    "    recalls_test[model][category] = recall_score(y_test[category], y_pred_test[model][category])\n",
    "#\n",
    "df_recalls[model] = pd.DataFrame({\n",
    "    \"category\": categories,\n",
    "    \"Recall train\": recalls_train[model].values(),\n",
    "    \"Recall test\": recalls_test[model].values()\n",
    "})\n",
    "df_recalls[model]\n"
   ]
  },
  {
   "cell_type": "markdown",
   "metadata": {},
   "source": [
    "### Logistic: with polynomials degree 2, with Standard Scaler (does not work yet)"
   ]
  },
  {
   "cell_type": "code",
   "execution_count": 148,
   "metadata": {},
   "outputs": [
    {
     "ename": "IndexError",
     "evalue": "only integers, slices (`:`), ellipsis (`...`), numpy.newaxis (`None`) and integer or boolean arrays are valid indices",
     "output_type": "error",
     "traceback": [
      "\u001b[0;31m---------------------------------------------------------------------------\u001b[0m",
      "\u001b[0;31mIndexError\u001b[0m                                Traceback (most recent call last)",
      "Cell \u001b[0;32mIn[148], line 33\u001b[0m\n\u001b[1;32m     31\u001b[0m scalers[model][category] \u001b[38;5;241m=\u001b[39m StandardScaler()\n\u001b[1;32m     32\u001b[0m \u001b[38;5;66;03m# scale only columns/features to be scaled, not all!\u001b[39;00m\n\u001b[0;32m---> 33\u001b[0m x_train_scaled[model][category] \u001b[38;5;241m=\u001b[39m scalers[model][category]\u001b[38;5;241m.\u001b[39mfit_transform(\u001b[43mx_train_poly\u001b[49m\u001b[43m[\u001b[49m\u001b[43mmodel\u001b[49m\u001b[43m]\u001b[49m\u001b[43m[\u001b[49m\u001b[43mcategory\u001b[49m\u001b[43m]\u001b[49m\u001b[43m[\u001b[49m\u001b[43mfeatures_to_scale\u001b[49m\u001b[43m]\u001b[49m)\n\u001b[1;32m     34\u001b[0m x_test_scaled[model][category]\u001b[38;5;241m=\u001b[39m scalers[model][category]\u001b[38;5;241m.\u001b[39mtransform(x_test_poly[model][category][features_to_scale])\n\u001b[1;32m     35\u001b[0m \u001b[38;5;66;03m#\u001b[39;00m\n\u001b[1;32m     36\u001b[0m \u001b[38;5;66;03m# merge scaled and unscaled features back into a single dataframe\u001b[39;00m\n",
      "\u001b[0;31mIndexError\u001b[0m: only integers, slices (`:`), ellipsis (`...`), numpy.newaxis (`None`) and integer or boolean arrays are valid indices"
     ]
    }
   ],
   "source": [
    "model = \"log_Poly2_StandardScale\"\n",
    "#\n",
    "models[model] = {}\n",
    "polynomial_features[model] = {}\n",
    "scalers[model] = {}\n",
    "#\n",
    "x_train_poly[model] = {}\n",
    "x_test_poly[model] = {}\n",
    "x_train_scaled[model] = {}\n",
    "x_test_scaled[model] = {}\n",
    "x_train_transformed[model] = {}\n",
    "x_test_transformed[model] = {}\n",
    "#\n",
    "y_pred_train[model] = {}\n",
    "y_pred_test[model] = {}\n",
    "#\n",
    "recalls_train[model] = {}\n",
    "recalls_test[model] = {}\n",
    "#\n",
    "#\n",
    "for category in categories:\n",
    "    #\n",
    "    # transformation 1: polynomials\n",
    "    # here: degree 2\n",
    "    polynomial_features[model][category] = PolynomialFeatures(degree=2, include_bias=False)\n",
    "    x_train_poly[model][category] = polynomial_features[model][category].fit_transform(X_train_wo_outlier[category])\n",
    "    x_test_poly[model][category] = polynomial_features[model][category].transform(X_test[category])\n",
    "    #\n",
    "    # transformation 2: scaling\n",
    "    # here: StandardScaler\n",
    "    scalers[model][category] = StandardScaler()\n",
    "    # this time we scale all features because we now also have mixed and squared terms!\n",
    "    x_train_scaled[model][category] = scalers[model][category].fit_transform(x_train_poly[model][category])\n",
    "    x_test_scaled[model][category]= scalers[model][category].transform(x_test_poly[model][category])\n",
    "    #\n",
    "    # merge scaled and unscaled features back into a single dataframe\n",
    "    x_train_transformed[model][category] = np.concatenate([x_train_scaled[model][category], x_train_poly[model][category].drop(features_to_scale, axis=1)], axis=1)\n",
    "    x_test_transformed[model][category] = np.concatenate([x_test_scaled[model][category], x_test_poly[model][category].drop(features_to_scale, axis=1)], axis=1)\n",
    "    #\n",
    "    models[model][category] = LogisticRegression()\n",
    "    models[model][category].fit(x_train_transformed[model][category], y_train_wo_outlier[category])\n",
    "    #\n",
    "    y_pred_train[model][category] = models[model][category].predict(x_train_transformed[model][category])\n",
    "    y_pred_test[model][category] = models[model][category].predict(x_test_transformed[model][category])\n",
    "    #\n",
    "    recalls_train[model][category] = recall_score(y_train_wo_outlier[category], y_pred_train[model][category])\n",
    "    recalls_test[model][category] = recall_score(y_test[category], y_pred_test[model][category])\n",
    "#\n",
    "df_recalls[model] = pd.DataFrame({\n",
    "    \"category\": categories,\n",
    "    \"Recall train\": recalls_train[model].values(),\n",
    "    \"Recall test\": recalls_test[model].values()\n",
    "})\n",
    "df_recalls[model]\n"
   ]
  },
  {
   "cell_type": "markdown",
   "metadata": {},
   "source": [
    "problem: the polynomial transformation removes the original column names (I think) and/or adds new columns from the squared terms, so the method of naming which columns to scale afterwards no longer works"
   ]
  },
  {
   "cell_type": "code",
   "execution_count": 151,
   "metadata": {},
   "outputs": [
    {
     "data": {
      "text/html": [
       "<div>\n",
       "<style scoped>\n",
       "    .dataframe tbody tr th:only-of-type {\n",
       "        vertical-align: middle;\n",
       "    }\n",
       "\n",
       "    .dataframe tbody tr th {\n",
       "        vertical-align: top;\n",
       "    }\n",
       "\n",
       "    .dataframe thead th {\n",
       "        text-align: right;\n",
       "    }\n",
       "</style>\n",
       "<table border=\"1\" class=\"dataframe\">\n",
       "  <thead>\n",
       "    <tr style=\"text-align: right;\">\n",
       "      <th></th>\n",
       "      <th>0</th>\n",
       "      <th>1</th>\n",
       "      <th>2</th>\n",
       "      <th>3</th>\n",
       "      <th>4</th>\n",
       "      <th>5</th>\n",
       "      <th>6</th>\n",
       "      <th>7</th>\n",
       "      <th>8</th>\n",
       "      <th>9</th>\n",
       "      <th>10</th>\n",
       "      <th>11</th>\n",
       "      <th>12</th>\n",
       "      <th>13</th>\n",
       "      <th>14</th>\n",
       "      <th>15</th>\n",
       "      <th>16</th>\n",
       "      <th>17</th>\n",
       "      <th>18</th>\n",
       "      <th>19</th>\n",
       "    </tr>\n",
       "  </thead>\n",
       "  <tbody>\n",
       "    <tr>\n",
       "      <th>0</th>\n",
       "      <td>9.798127</td>\n",
       "      <td>29.0</td>\n",
       "      <td>1.0</td>\n",
       "      <td>-0.707107</td>\n",
       "      <td>7.071068e-01</td>\n",
       "      <td>96.003293</td>\n",
       "      <td>284.145684</td>\n",
       "      <td>9.798127</td>\n",
       "      <td>-6.928322</td>\n",
       "      <td>6.928322e+00</td>\n",
       "      <td>841.0</td>\n",
       "      <td>29.0</td>\n",
       "      <td>-20.506097</td>\n",
       "      <td>2.050610e+01</td>\n",
       "      <td>1.0</td>\n",
       "      <td>-0.707107</td>\n",
       "      <td>7.071068e-01</td>\n",
       "      <td>0.500000</td>\n",
       "      <td>-5.000000e-01</td>\n",
       "      <td>5.000000e-01</td>\n",
       "    </tr>\n",
       "    <tr>\n",
       "      <th>1</th>\n",
       "      <td>8.006368</td>\n",
       "      <td>29.0</td>\n",
       "      <td>0.0</td>\n",
       "      <td>-0.707107</td>\n",
       "      <td>-7.071068e-01</td>\n",
       "      <td>64.101922</td>\n",
       "      <td>232.184659</td>\n",
       "      <td>0.000000</td>\n",
       "      <td>-5.661357</td>\n",
       "      <td>-5.661357e+00</td>\n",
       "      <td>841.0</td>\n",
       "      <td>0.0</td>\n",
       "      <td>-20.506097</td>\n",
       "      <td>-2.050610e+01</td>\n",
       "      <td>0.0</td>\n",
       "      <td>-0.000000</td>\n",
       "      <td>-0.000000e+00</td>\n",
       "      <td>0.500000</td>\n",
       "      <td>5.000000e-01</td>\n",
       "      <td>5.000000e-01</td>\n",
       "    </tr>\n",
       "    <tr>\n",
       "      <th>2</th>\n",
       "      <td>9.903488</td>\n",
       "      <td>29.0</td>\n",
       "      <td>4.0</td>\n",
       "      <td>0.000000</td>\n",
       "      <td>1.000000e+00</td>\n",
       "      <td>98.079066</td>\n",
       "      <td>287.201139</td>\n",
       "      <td>39.613950</td>\n",
       "      <td>0.000000</td>\n",
       "      <td>9.903488e+00</td>\n",
       "      <td>841.0</td>\n",
       "      <td>116.0</td>\n",
       "      <td>0.000000</td>\n",
       "      <td>2.900000e+01</td>\n",
       "      <td>16.0</td>\n",
       "      <td>0.000000</td>\n",
       "      <td>4.000000e+00</td>\n",
       "      <td>0.000000</td>\n",
       "      <td>0.000000e+00</td>\n",
       "      <td>1.000000e+00</td>\n",
       "    </tr>\n",
       "    <tr>\n",
       "      <th>3</th>\n",
       "      <td>9.337854</td>\n",
       "      <td>14.0</td>\n",
       "      <td>1.0</td>\n",
       "      <td>-0.258819</td>\n",
       "      <td>9.659258e-01</td>\n",
       "      <td>87.195512</td>\n",
       "      <td>130.729952</td>\n",
       "      <td>9.337854</td>\n",
       "      <td>-2.416814</td>\n",
       "      <td>9.019674e+00</td>\n",
       "      <td>196.0</td>\n",
       "      <td>14.0</td>\n",
       "      <td>-3.623467</td>\n",
       "      <td>1.352296e+01</td>\n",
       "      <td>1.0</td>\n",
       "      <td>-0.258819</td>\n",
       "      <td>9.659258e-01</td>\n",
       "      <td>0.066987</td>\n",
       "      <td>-2.500000e-01</td>\n",
       "      <td>9.330127e-01</td>\n",
       "    </tr>\n",
       "    <tr>\n",
       "      <th>4</th>\n",
       "      <td>8.160518</td>\n",
       "      <td>29.0</td>\n",
       "      <td>0.0</td>\n",
       "      <td>-0.258819</td>\n",
       "      <td>9.659258e-01</td>\n",
       "      <td>66.594058</td>\n",
       "      <td>236.655029</td>\n",
       "      <td>0.000000</td>\n",
       "      <td>-2.112098</td>\n",
       "      <td>7.882455e+00</td>\n",
       "      <td>841.0</td>\n",
       "      <td>0.0</td>\n",
       "      <td>-7.505752</td>\n",
       "      <td>2.801185e+01</td>\n",
       "      <td>0.0</td>\n",
       "      <td>-0.000000</td>\n",
       "      <td>0.000000e+00</td>\n",
       "      <td>0.066987</td>\n",
       "      <td>-2.500000e-01</td>\n",
       "      <td>9.330127e-01</td>\n",
       "    </tr>\n",
       "    <tr>\n",
       "      <th>...</th>\n",
       "      <td>...</td>\n",
       "      <td>...</td>\n",
       "      <td>...</td>\n",
       "      <td>...</td>\n",
       "      <td>...</td>\n",
       "      <td>...</td>\n",
       "      <td>...</td>\n",
       "      <td>...</td>\n",
       "      <td>...</td>\n",
       "      <td>...</td>\n",
       "      <td>...</td>\n",
       "      <td>...</td>\n",
       "      <td>...</td>\n",
       "      <td>...</td>\n",
       "      <td>...</td>\n",
       "      <td>...</td>\n",
       "      <td>...</td>\n",
       "      <td>...</td>\n",
       "      <td>...</td>\n",
       "      <td>...</td>\n",
       "    </tr>\n",
       "    <tr>\n",
       "      <th>15616</th>\n",
       "      <td>5.521461</td>\n",
       "      <td>29.0</td>\n",
       "      <td>4.0</td>\n",
       "      <td>0.258819</td>\n",
       "      <td>9.659258e-01</td>\n",
       "      <td>30.486531</td>\n",
       "      <td>160.122367</td>\n",
       "      <td>22.085844</td>\n",
       "      <td>1.429059</td>\n",
       "      <td>5.333322e+00</td>\n",
       "      <td>841.0</td>\n",
       "      <td>116.0</td>\n",
       "      <td>7.505752</td>\n",
       "      <td>2.801185e+01</td>\n",
       "      <td>16.0</td>\n",
       "      <td>1.035276</td>\n",
       "      <td>3.863703e+00</td>\n",
       "      <td>0.066987</td>\n",
       "      <td>2.500000e-01</td>\n",
       "      <td>9.330127e-01</td>\n",
       "    </tr>\n",
       "    <tr>\n",
       "      <th>15617</th>\n",
       "      <td>7.600902</td>\n",
       "      <td>29.0</td>\n",
       "      <td>4.0</td>\n",
       "      <td>-0.866025</td>\n",
       "      <td>-5.000000e-01</td>\n",
       "      <td>57.773718</td>\n",
       "      <td>220.426171</td>\n",
       "      <td>30.403610</td>\n",
       "      <td>-6.582575</td>\n",
       "      <td>-3.800451e+00</td>\n",
       "      <td>841.0</td>\n",
       "      <td>116.0</td>\n",
       "      <td>-25.114737</td>\n",
       "      <td>-1.450000e+01</td>\n",
       "      <td>16.0</td>\n",
       "      <td>-3.464102</td>\n",
       "      <td>-2.000000e+00</td>\n",
       "      <td>0.750000</td>\n",
       "      <td>4.330127e-01</td>\n",
       "      <td>2.500000e-01</td>\n",
       "    </tr>\n",
       "    <tr>\n",
       "      <th>15618</th>\n",
       "      <td>6.214608</td>\n",
       "      <td>29.0</td>\n",
       "      <td>1.0</td>\n",
       "      <td>-1.000000</td>\n",
       "      <td>-1.836970e-16</td>\n",
       "      <td>38.621354</td>\n",
       "      <td>180.223635</td>\n",
       "      <td>6.214608</td>\n",
       "      <td>-6.214608</td>\n",
       "      <td>-1.141605e-15</td>\n",
       "      <td>841.0</td>\n",
       "      <td>29.0</td>\n",
       "      <td>-29.000000</td>\n",
       "      <td>-5.327214e-15</td>\n",
       "      <td>1.0</td>\n",
       "      <td>-1.000000</td>\n",
       "      <td>-1.836970e-16</td>\n",
       "      <td>1.000000</td>\n",
       "      <td>1.836970e-16</td>\n",
       "      <td>3.374460e-32</td>\n",
       "    </tr>\n",
       "    <tr>\n",
       "      <th>15619</th>\n",
       "      <td>9.210340</td>\n",
       "      <td>29.0</td>\n",
       "      <td>5.0</td>\n",
       "      <td>-0.965926</td>\n",
       "      <td>2.588190e-01</td>\n",
       "      <td>84.830370</td>\n",
       "      <td>267.099871</td>\n",
       "      <td>46.051702</td>\n",
       "      <td>-8.896506</td>\n",
       "      <td>2.383812e+00</td>\n",
       "      <td>841.0</td>\n",
       "      <td>145.0</td>\n",
       "      <td>-28.011849</td>\n",
       "      <td>7.505752e+00</td>\n",
       "      <td>25.0</td>\n",
       "      <td>-4.829629</td>\n",
       "      <td>1.294095e+00</td>\n",
       "      <td>0.933013</td>\n",
       "      <td>-2.500000e-01</td>\n",
       "      <td>6.698730e-02</td>\n",
       "    </tr>\n",
       "    <tr>\n",
       "      <th>15620</th>\n",
       "      <td>5.164786</td>\n",
       "      <td>21.0</td>\n",
       "      <td>6.0</td>\n",
       "      <td>0.000000</td>\n",
       "      <td>1.000000e+00</td>\n",
       "      <td>26.675014</td>\n",
       "      <td>108.460505</td>\n",
       "      <td>30.988716</td>\n",
       "      <td>0.000000</td>\n",
       "      <td>5.164786e+00</td>\n",
       "      <td>441.0</td>\n",
       "      <td>126.0</td>\n",
       "      <td>0.000000</td>\n",
       "      <td>2.100000e+01</td>\n",
       "      <td>36.0</td>\n",
       "      <td>0.000000</td>\n",
       "      <td>6.000000e+00</td>\n",
       "      <td>0.000000</td>\n",
       "      <td>0.000000e+00</td>\n",
       "      <td>1.000000e+00</td>\n",
       "    </tr>\n",
       "  </tbody>\n",
       "</table>\n",
       "<p>15621 rows × 20 columns</p>\n",
       "</div>"
      ],
      "text/plain": [
       "             0     1    2         3             4          5           6    \n",
       "0      9.798127  29.0  1.0 -0.707107  7.071068e-01  96.003293  284.145684  \\\n",
       "1      8.006368  29.0  0.0 -0.707107 -7.071068e-01  64.101922  232.184659   \n",
       "2      9.903488  29.0  4.0  0.000000  1.000000e+00  98.079066  287.201139   \n",
       "3      9.337854  14.0  1.0 -0.258819  9.659258e-01  87.195512  130.729952   \n",
       "4      8.160518  29.0  0.0 -0.258819  9.659258e-01  66.594058  236.655029   \n",
       "...         ...   ...  ...       ...           ...        ...         ...   \n",
       "15616  5.521461  29.0  4.0  0.258819  9.659258e-01  30.486531  160.122367   \n",
       "15617  7.600902  29.0  4.0 -0.866025 -5.000000e-01  57.773718  220.426171   \n",
       "15618  6.214608  29.0  1.0 -1.000000 -1.836970e-16  38.621354  180.223635   \n",
       "15619  9.210340  29.0  5.0 -0.965926  2.588190e-01  84.830370  267.099871   \n",
       "15620  5.164786  21.0  6.0  0.000000  1.000000e+00  26.675014  108.460505   \n",
       "\n",
       "              7         8             9      10     11         12   \n",
       "0       9.798127 -6.928322  6.928322e+00  841.0   29.0 -20.506097  \\\n",
       "1       0.000000 -5.661357 -5.661357e+00  841.0    0.0 -20.506097   \n",
       "2      39.613950  0.000000  9.903488e+00  841.0  116.0   0.000000   \n",
       "3       9.337854 -2.416814  9.019674e+00  196.0   14.0  -3.623467   \n",
       "4       0.000000 -2.112098  7.882455e+00  841.0    0.0  -7.505752   \n",
       "...          ...       ...           ...    ...    ...        ...   \n",
       "15616  22.085844  1.429059  5.333322e+00  841.0  116.0   7.505752   \n",
       "15617  30.403610 -6.582575 -3.800451e+00  841.0  116.0 -25.114737   \n",
       "15618   6.214608 -6.214608 -1.141605e-15  841.0   29.0 -29.000000   \n",
       "15619  46.051702 -8.896506  2.383812e+00  841.0  145.0 -28.011849   \n",
       "15620  30.988716  0.000000  5.164786e+00  441.0  126.0   0.000000   \n",
       "\n",
       "                 13    14        15            16        17            18   \n",
       "0      2.050610e+01   1.0 -0.707107  7.071068e-01  0.500000 -5.000000e-01  \\\n",
       "1     -2.050610e+01   0.0 -0.000000 -0.000000e+00  0.500000  5.000000e-01   \n",
       "2      2.900000e+01  16.0  0.000000  4.000000e+00  0.000000  0.000000e+00   \n",
       "3      1.352296e+01   1.0 -0.258819  9.659258e-01  0.066987 -2.500000e-01   \n",
       "4      2.801185e+01   0.0 -0.000000  0.000000e+00  0.066987 -2.500000e-01   \n",
       "...             ...   ...       ...           ...       ...           ...   \n",
       "15616  2.801185e+01  16.0  1.035276  3.863703e+00  0.066987  2.500000e-01   \n",
       "15617 -1.450000e+01  16.0 -3.464102 -2.000000e+00  0.750000  4.330127e-01   \n",
       "15618 -5.327214e-15   1.0 -1.000000 -1.836970e-16  1.000000  1.836970e-16   \n",
       "15619  7.505752e+00  25.0 -4.829629  1.294095e+00  0.933013 -2.500000e-01   \n",
       "15620  2.100000e+01  36.0  0.000000  6.000000e+00  0.000000  0.000000e+00   \n",
       "\n",
       "                 19  \n",
       "0      5.000000e-01  \n",
       "1      5.000000e-01  \n",
       "2      1.000000e+00  \n",
       "3      9.330127e-01  \n",
       "4      9.330127e-01  \n",
       "...             ...  \n",
       "15616  9.330127e-01  \n",
       "15617  2.500000e-01  \n",
       "15618  3.374460e-32  \n",
       "15619  6.698730e-02  \n",
       "15620  1.000000e+00  \n",
       "\n",
       "[15621 rows x 20 columns]"
      ]
     },
     "execution_count": 151,
     "metadata": {},
     "output_type": "execute_result"
    }
   ],
   "source": [
    "pd.DataFrame(x_train_poly[\"log_Poly2_StandardScale\"][\"Fashion\"])"
   ]
  },
  {
   "cell_type": "code",
   "execution_count": null,
   "metadata": {},
   "outputs": [],
   "source": []
  }
 ],
 "metadata": {
  "kernelspec": {
   "display_name": ".venv",
   "language": "python",
   "name": "python3"
  },
  "language_info": {
   "codemirror_mode": {
    "name": "ipython",
    "version": 3
   },
   "file_extension": ".py",
   "mimetype": "text/x-python",
   "name": "python",
   "nbconvert_exporter": "python",
   "pygments_lexer": "ipython3",
   "version": "3.11.3"
  }
 },
 "nbformat": 4,
 "nbformat_minor": 4
}
