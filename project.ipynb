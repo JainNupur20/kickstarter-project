{
 "cells": [
  {
   "cell_type": "code",
   "execution_count": 69,
   "metadata": {},
   "outputs": [],
   "source": [
    "import pandas as pd\n",
    "import numpy as np\n",
    "import warnings\n",
    "#warnings.filterwarnings('ignore')\n",
    "import seaborn as sns\n",
    "import matplotlib.pyplot as plt\n",
    "from sklearn.model_selection import train_test_split\n",
    "from sklearn.metrics import recall_score"
   ]
  },
  {
   "cell_type": "code",
   "execution_count": 2,
   "metadata": {},
   "outputs": [],
   "source": [
    "df = pd.read_csv('data/kickstarter_projects.csv')"
   ]
  },
  {
   "cell_type": "code",
   "execution_count": 3,
   "metadata": {},
   "outputs": [
    {
     "data": {
      "text/html": [
       "<div>\n",
       "<style scoped>\n",
       "    .dataframe tbody tr th:only-of-type {\n",
       "        vertical-align: middle;\n",
       "    }\n",
       "\n",
       "    .dataframe tbody tr th {\n",
       "        vertical-align: top;\n",
       "    }\n",
       "\n",
       "    .dataframe thead th {\n",
       "        text-align: right;\n",
       "    }\n",
       "</style>\n",
       "<table border=\"1\" class=\"dataframe\">\n",
       "  <thead>\n",
       "    <tr style=\"text-align: right;\">\n",
       "      <th></th>\n",
       "      <th>ID</th>\n",
       "      <th>Name</th>\n",
       "      <th>Category</th>\n",
       "      <th>Subcategory</th>\n",
       "      <th>Country</th>\n",
       "      <th>Launched</th>\n",
       "      <th>Deadline</th>\n",
       "      <th>Goal</th>\n",
       "      <th>Pledged</th>\n",
       "      <th>Backers</th>\n",
       "      <th>State</th>\n",
       "    </tr>\n",
       "  </thead>\n",
       "  <tbody>\n",
       "    <tr>\n",
       "      <th>0</th>\n",
       "      <td>1860890148</td>\n",
       "      <td>Grace Jones Does Not Give A F$#% T-Shirt (limi...</td>\n",
       "      <td>Fashion</td>\n",
       "      <td>Fashion</td>\n",
       "      <td>United States</td>\n",
       "      <td>2009-04-21 21:02:48</td>\n",
       "      <td>2009-05-31</td>\n",
       "      <td>1000</td>\n",
       "      <td>625</td>\n",
       "      <td>30</td>\n",
       "      <td>Failed</td>\n",
       "    </tr>\n",
       "    <tr>\n",
       "      <th>1</th>\n",
       "      <td>709707365</td>\n",
       "      <td>CRYSTAL ANTLERS UNTITLED MOVIE</td>\n",
       "      <td>Film &amp; Video</td>\n",
       "      <td>Shorts</td>\n",
       "      <td>United States</td>\n",
       "      <td>2009-04-23 00:07:53</td>\n",
       "      <td>2009-07-20</td>\n",
       "      <td>80000</td>\n",
       "      <td>22</td>\n",
       "      <td>3</td>\n",
       "      <td>Failed</td>\n",
       "    </tr>\n",
       "    <tr>\n",
       "      <th>2</th>\n",
       "      <td>1703704063</td>\n",
       "      <td>drawing for dollars</td>\n",
       "      <td>Art</td>\n",
       "      <td>Illustration</td>\n",
       "      <td>United States</td>\n",
       "      <td>2009-04-24 21:52:03</td>\n",
       "      <td>2009-05-03</td>\n",
       "      <td>20</td>\n",
       "      <td>35</td>\n",
       "      <td>3</td>\n",
       "      <td>Successful</td>\n",
       "    </tr>\n",
       "    <tr>\n",
       "      <th>3</th>\n",
       "      <td>727286</td>\n",
       "      <td>Offline Wikipedia iPhone app</td>\n",
       "      <td>Technology</td>\n",
       "      <td>Software</td>\n",
       "      <td>United States</td>\n",
       "      <td>2009-04-25 17:36:21</td>\n",
       "      <td>2009-07-14</td>\n",
       "      <td>99</td>\n",
       "      <td>145</td>\n",
       "      <td>25</td>\n",
       "      <td>Successful</td>\n",
       "    </tr>\n",
       "    <tr>\n",
       "      <th>4</th>\n",
       "      <td>1622952265</td>\n",
       "      <td>Pantshirts</td>\n",
       "      <td>Fashion</td>\n",
       "      <td>Fashion</td>\n",
       "      <td>United States</td>\n",
       "      <td>2009-04-27 14:10:39</td>\n",
       "      <td>2009-05-26</td>\n",
       "      <td>1900</td>\n",
       "      <td>387</td>\n",
       "      <td>10</td>\n",
       "      <td>Failed</td>\n",
       "    </tr>\n",
       "  </tbody>\n",
       "</table>\n",
       "</div>"
      ],
      "text/plain": [
       "           ID                                               Name   \n",
       "0  1860890148  Grace Jones Does Not Give A F$#% T-Shirt (limi...  \\\n",
       "1   709707365                     CRYSTAL ANTLERS UNTITLED MOVIE   \n",
       "2  1703704063                                drawing for dollars   \n",
       "3      727286                       Offline Wikipedia iPhone app   \n",
       "4  1622952265                                         Pantshirts   \n",
       "\n",
       "       Category   Subcategory        Country             Launched    Deadline   \n",
       "0       Fashion       Fashion  United States  2009-04-21 21:02:48  2009-05-31  \\\n",
       "1  Film & Video        Shorts  United States  2009-04-23 00:07:53  2009-07-20   \n",
       "2           Art  Illustration  United States  2009-04-24 21:52:03  2009-05-03   \n",
       "3    Technology      Software  United States  2009-04-25 17:36:21  2009-07-14   \n",
       "4       Fashion       Fashion  United States  2009-04-27 14:10:39  2009-05-26   \n",
       "\n",
       "    Goal  Pledged  Backers       State  \n",
       "0   1000      625       30      Failed  \n",
       "1  80000       22        3      Failed  \n",
       "2     20       35        3  Successful  \n",
       "3     99      145       25  Successful  \n",
       "4   1900      387       10      Failed  "
      ]
     },
     "execution_count": 3,
     "metadata": {},
     "output_type": "execute_result"
    }
   ],
   "source": [
    "df.head()"
   ]
  },
  {
   "cell_type": "code",
   "execution_count": 4,
   "metadata": {},
   "outputs": [
    {
     "data": {
      "text/html": [
       "<div>\n",
       "<style scoped>\n",
       "    .dataframe tbody tr th:only-of-type {\n",
       "        vertical-align: middle;\n",
       "    }\n",
       "\n",
       "    .dataframe tbody tr th {\n",
       "        vertical-align: top;\n",
       "    }\n",
       "\n",
       "    .dataframe thead th {\n",
       "        text-align: right;\n",
       "    }\n",
       "</style>\n",
       "<table border=\"1\" class=\"dataframe\">\n",
       "  <thead>\n",
       "    <tr style=\"text-align: right;\">\n",
       "      <th></th>\n",
       "      <th>ID</th>\n",
       "      <th>Name</th>\n",
       "      <th>Category</th>\n",
       "      <th>Subcategory</th>\n",
       "      <th>Country</th>\n",
       "      <th>Launched</th>\n",
       "      <th>Deadline</th>\n",
       "      <th>Goal</th>\n",
       "      <th>Pledged</th>\n",
       "      <th>Backers</th>\n",
       "      <th>State</th>\n",
       "    </tr>\n",
       "  </thead>\n",
       "  <tbody>\n",
       "    <tr>\n",
       "      <th>374848</th>\n",
       "      <td>1486845240</td>\n",
       "      <td>Americas Got Talent - Serious MAK</td>\n",
       "      <td>Music</td>\n",
       "      <td>Hip-Hop</td>\n",
       "      <td>United States</td>\n",
       "      <td>2018-01-02 14:13:09</td>\n",
       "      <td>2018-01-16</td>\n",
       "      <td>500</td>\n",
       "      <td>0</td>\n",
       "      <td>0</td>\n",
       "      <td>Live</td>\n",
       "    </tr>\n",
       "    <tr>\n",
       "      <th>374849</th>\n",
       "      <td>974738310</td>\n",
       "      <td>EVO Planner: The World's First Personalized Fl...</td>\n",
       "      <td>Design</td>\n",
       "      <td>Product Design</td>\n",
       "      <td>United States</td>\n",
       "      <td>2018-01-02 14:15:38</td>\n",
       "      <td>2018-02-09</td>\n",
       "      <td>15000</td>\n",
       "      <td>269</td>\n",
       "      <td>8</td>\n",
       "      <td>Live</td>\n",
       "    </tr>\n",
       "    <tr>\n",
       "      <th>374850</th>\n",
       "      <td>2106246194</td>\n",
       "      <td>Help save La Gattara, Arizona's first Cat Cafe!</td>\n",
       "      <td>Food</td>\n",
       "      <td>Food</td>\n",
       "      <td>United States</td>\n",
       "      <td>2018-01-02 14:17:46</td>\n",
       "      <td>2018-01-16</td>\n",
       "      <td>10000</td>\n",
       "      <td>165</td>\n",
       "      <td>3</td>\n",
       "      <td>Live</td>\n",
       "    </tr>\n",
       "    <tr>\n",
       "      <th>374851</th>\n",
       "      <td>1830173355</td>\n",
       "      <td>Digital Dagger Coin</td>\n",
       "      <td>Art</td>\n",
       "      <td>Art</td>\n",
       "      <td>United States</td>\n",
       "      <td>2018-01-02 14:38:17</td>\n",
       "      <td>2018-02-01</td>\n",
       "      <td>650</td>\n",
       "      <td>7</td>\n",
       "      <td>1</td>\n",
       "      <td>Live</td>\n",
       "    </tr>\n",
       "    <tr>\n",
       "      <th>374852</th>\n",
       "      <td>1339173863</td>\n",
       "      <td>Spirits of the Forest</td>\n",
       "      <td>Games</td>\n",
       "      <td>Tabletop Games</td>\n",
       "      <td>Spain</td>\n",
       "      <td>2018-01-02 15:02:31</td>\n",
       "      <td>2018-01-26</td>\n",
       "      <td>24274</td>\n",
       "      <td>4483</td>\n",
       "      <td>82</td>\n",
       "      <td>Live</td>\n",
       "    </tr>\n",
       "  </tbody>\n",
       "</table>\n",
       "</div>"
      ],
      "text/plain": [
       "                ID                                               Name   \n",
       "374848  1486845240                  Americas Got Talent - Serious MAK  \\\n",
       "374849   974738310  EVO Planner: The World's First Personalized Fl...   \n",
       "374850  2106246194    Help save La Gattara, Arizona's first Cat Cafe!   \n",
       "374851  1830173355                                Digital Dagger Coin   \n",
       "374852  1339173863                              Spirits of the Forest   \n",
       "\n",
       "       Category     Subcategory        Country             Launched   \n",
       "374848    Music         Hip-Hop  United States  2018-01-02 14:13:09  \\\n",
       "374849   Design  Product Design  United States  2018-01-02 14:15:38   \n",
       "374850     Food            Food  United States  2018-01-02 14:17:46   \n",
       "374851      Art             Art  United States  2018-01-02 14:38:17   \n",
       "374852    Games  Tabletop Games          Spain  2018-01-02 15:02:31   \n",
       "\n",
       "          Deadline   Goal  Pledged  Backers State  \n",
       "374848  2018-01-16    500        0        0  Live  \n",
       "374849  2018-02-09  15000      269        8  Live  \n",
       "374850  2018-01-16  10000      165        3  Live  \n",
       "374851  2018-02-01    650        7        1  Live  \n",
       "374852  2018-01-26  24274     4483       82  Live  "
      ]
     },
     "execution_count": 4,
     "metadata": {},
     "output_type": "execute_result"
    }
   ],
   "source": [
    "df.tail()"
   ]
  },
  {
   "cell_type": "code",
   "execution_count": 5,
   "metadata": {},
   "outputs": [
    {
     "name": "stdout",
     "output_type": "stream",
     "text": [
      "<class 'pandas.core.frame.DataFrame'>\n",
      "RangeIndex: 374853 entries, 0 to 374852\n",
      "Data columns (total 11 columns):\n",
      " #   Column       Non-Null Count   Dtype \n",
      "---  ------       --------------   ----- \n",
      " 0   ID           374853 non-null  int64 \n",
      " 1   Name         374853 non-null  object\n",
      " 2   Category     374853 non-null  object\n",
      " 3   Subcategory  374853 non-null  object\n",
      " 4   Country      374853 non-null  object\n",
      " 5   Launched     374853 non-null  object\n",
      " 6   Deadline     374853 non-null  object\n",
      " 7   Goal         374853 non-null  int64 \n",
      " 8   Pledged      374853 non-null  int64 \n",
      " 9   Backers      374853 non-null  int64 \n",
      " 10  State        374853 non-null  object\n",
      "dtypes: int64(4), object(7)\n",
      "memory usage: 31.5+ MB\n"
     ]
    }
   ],
   "source": [
    "df.info()"
   ]
  },
  {
   "cell_type": "code",
   "execution_count": 6,
   "metadata": {},
   "outputs": [
    {
     "data": {
      "text/plain": [
       "State\n",
       "Failed        197611\n",
       "Successful    133851\n",
       "Canceled       38751\n",
       "Live            2798\n",
       "Suspended       1842\n",
       "Name: count, dtype: int64"
      ]
     },
     "execution_count": 6,
     "metadata": {},
     "output_type": "execute_result"
    }
   ],
   "source": [
    "df.State.value_counts()\n"
   ]
  },
  {
   "cell_type": "code",
   "execution_count": 7,
   "metadata": {},
   "outputs": [
    {
     "data": {
      "text/html": [
       "<div>\n",
       "<style scoped>\n",
       "    .dataframe tbody tr th:only-of-type {\n",
       "        vertical-align: middle;\n",
       "    }\n",
       "\n",
       "    .dataframe tbody tr th {\n",
       "        vertical-align: top;\n",
       "    }\n",
       "\n",
       "    .dataframe thead th {\n",
       "        text-align: right;\n",
       "    }\n",
       "</style>\n",
       "<table border=\"1\" class=\"dataframe\">\n",
       "  <thead>\n",
       "    <tr style=\"text-align: right;\">\n",
       "      <th></th>\n",
       "      <th>ID</th>\n",
       "      <th>Name</th>\n",
       "      <th>Category</th>\n",
       "      <th>Subcategory</th>\n",
       "      <th>Country</th>\n",
       "      <th>Launched</th>\n",
       "      <th>Deadline</th>\n",
       "      <th>Goal</th>\n",
       "      <th>Pledged</th>\n",
       "      <th>Backers</th>\n",
       "      <th>State</th>\n",
       "    </tr>\n",
       "  </thead>\n",
       "  <tbody>\n",
       "    <tr>\n",
       "      <th>0</th>\n",
       "      <td>1860890148</td>\n",
       "      <td>Grace Jones Does Not Give A F$#% T-Shirt (limi...</td>\n",
       "      <td>Fashion</td>\n",
       "      <td>Fashion</td>\n",
       "      <td>United States</td>\n",
       "      <td>2009-04-21 21:02:48</td>\n",
       "      <td>2009-05-31</td>\n",
       "      <td>1000</td>\n",
       "      <td>625</td>\n",
       "      <td>30</td>\n",
       "      <td>Failed</td>\n",
       "    </tr>\n",
       "    <tr>\n",
       "      <th>1</th>\n",
       "      <td>709707365</td>\n",
       "      <td>CRYSTAL ANTLERS UNTITLED MOVIE</td>\n",
       "      <td>Film &amp; Video</td>\n",
       "      <td>Shorts</td>\n",
       "      <td>United States</td>\n",
       "      <td>2009-04-23 00:07:53</td>\n",
       "      <td>2009-07-20</td>\n",
       "      <td>80000</td>\n",
       "      <td>22</td>\n",
       "      <td>3</td>\n",
       "      <td>Failed</td>\n",
       "    </tr>\n",
       "    <tr>\n",
       "      <th>2</th>\n",
       "      <td>1703704063</td>\n",
       "      <td>drawing for dollars</td>\n",
       "      <td>Art</td>\n",
       "      <td>Illustration</td>\n",
       "      <td>United States</td>\n",
       "      <td>2009-04-24 21:52:03</td>\n",
       "      <td>2009-05-03</td>\n",
       "      <td>20</td>\n",
       "      <td>35</td>\n",
       "      <td>3</td>\n",
       "      <td>Successful</td>\n",
       "    </tr>\n",
       "    <tr>\n",
       "      <th>3</th>\n",
       "      <td>727286</td>\n",
       "      <td>Offline Wikipedia iPhone app</td>\n",
       "      <td>Technology</td>\n",
       "      <td>Software</td>\n",
       "      <td>United States</td>\n",
       "      <td>2009-04-25 17:36:21</td>\n",
       "      <td>2009-07-14</td>\n",
       "      <td>99</td>\n",
       "      <td>145</td>\n",
       "      <td>25</td>\n",
       "      <td>Successful</td>\n",
       "    </tr>\n",
       "    <tr>\n",
       "      <th>4</th>\n",
       "      <td>1622952265</td>\n",
       "      <td>Pantshirts</td>\n",
       "      <td>Fashion</td>\n",
       "      <td>Fashion</td>\n",
       "      <td>United States</td>\n",
       "      <td>2009-04-27 14:10:39</td>\n",
       "      <td>2009-05-26</td>\n",
       "      <td>1900</td>\n",
       "      <td>387</td>\n",
       "      <td>10</td>\n",
       "      <td>Failed</td>\n",
       "    </tr>\n",
       "    <tr>\n",
       "      <th>...</th>\n",
       "      <td>...</td>\n",
       "      <td>...</td>\n",
       "      <td>...</td>\n",
       "      <td>...</td>\n",
       "      <td>...</td>\n",
       "      <td>...</td>\n",
       "      <td>...</td>\n",
       "      <td>...</td>\n",
       "      <td>...</td>\n",
       "      <td>...</td>\n",
       "      <td>...</td>\n",
       "    </tr>\n",
       "    <tr>\n",
       "      <th>374310</th>\n",
       "      <td>749399445</td>\n",
       "      <td>Propeller Spring 2.0</td>\n",
       "      <td>Games</td>\n",
       "      <td>Games</td>\n",
       "      <td>Austria</td>\n",
       "      <td>2017-12-23 10:14:21</td>\n",
       "      <td>2017-12-26</td>\n",
       "      <td>36</td>\n",
       "      <td>270</td>\n",
       "      <td>36</td>\n",
       "      <td>Successful</td>\n",
       "    </tr>\n",
       "    <tr>\n",
       "      <th>374400</th>\n",
       "      <td>1223058036</td>\n",
       "      <td>The Cowboy and The Spaceman: Android Collective+</td>\n",
       "      <td>Games</td>\n",
       "      <td>Tabletop Games</td>\n",
       "      <td>United Kingdom</td>\n",
       "      <td>2017-12-26 13:00:24</td>\n",
       "      <td>2017-12-31</td>\n",
       "      <td>271</td>\n",
       "      <td>545</td>\n",
       "      <td>25</td>\n",
       "      <td>Successful</td>\n",
       "    </tr>\n",
       "    <tr>\n",
       "      <th>374458</th>\n",
       "      <td>1411606124</td>\n",
       "      <td>The CHAMPS Are Here!</td>\n",
       "      <td>Fashion</td>\n",
       "      <td>Apparel</td>\n",
       "      <td>United States</td>\n",
       "      <td>2017-12-27 03:52:38</td>\n",
       "      <td>2017-12-31</td>\n",
       "      <td>200</td>\n",
       "      <td>202</td>\n",
       "      <td>6</td>\n",
       "      <td>Successful</td>\n",
       "    </tr>\n",
       "    <tr>\n",
       "      <th>374530</th>\n",
       "      <td>156799983</td>\n",
       "      <td>Kill Them All!</td>\n",
       "      <td>Games</td>\n",
       "      <td>Tabletop Games</td>\n",
       "      <td>United States</td>\n",
       "      <td>2017-12-28 01:48:58</td>\n",
       "      <td>2017-12-30</td>\n",
       "      <td>250</td>\n",
       "      <td>265</td>\n",
       "      <td>7</td>\n",
       "      <td>Successful</td>\n",
       "    </tr>\n",
       "    <tr>\n",
       "      <th>374605</th>\n",
       "      <td>801423615</td>\n",
       "      <td>Collaboration with Snoop Dogg</td>\n",
       "      <td>Music</td>\n",
       "      <td>Hip-Hop</td>\n",
       "      <td>Australia</td>\n",
       "      <td>2017-12-29 03:22:32</td>\n",
       "      <td>2018-01-01</td>\n",
       "      <td>392</td>\n",
       "      <td>514</td>\n",
       "      <td>6</td>\n",
       "      <td>Successful</td>\n",
       "    </tr>\n",
       "  </tbody>\n",
       "</table>\n",
       "<p>331462 rows × 11 columns</p>\n",
       "</div>"
      ],
      "text/plain": [
       "                ID                                               Name   \n",
       "0       1860890148  Grace Jones Does Not Give A F$#% T-Shirt (limi...  \\\n",
       "1        709707365                     CRYSTAL ANTLERS UNTITLED MOVIE   \n",
       "2       1703704063                                drawing for dollars   \n",
       "3           727286                       Offline Wikipedia iPhone app   \n",
       "4       1622952265                                         Pantshirts   \n",
       "...            ...                                                ...   \n",
       "374310   749399445                               Propeller Spring 2.0   \n",
       "374400  1223058036   The Cowboy and The Spaceman: Android Collective+   \n",
       "374458  1411606124                               The CHAMPS Are Here!   \n",
       "374530   156799983                                     Kill Them All!   \n",
       "374605   801423615                      Collaboration with Snoop Dogg   \n",
       "\n",
       "            Category     Subcategory         Country             Launched   \n",
       "0            Fashion         Fashion   United States  2009-04-21 21:02:48  \\\n",
       "1       Film & Video          Shorts   United States  2009-04-23 00:07:53   \n",
       "2                Art    Illustration   United States  2009-04-24 21:52:03   \n",
       "3         Technology        Software   United States  2009-04-25 17:36:21   \n",
       "4            Fashion         Fashion   United States  2009-04-27 14:10:39   \n",
       "...              ...             ...             ...                  ...   \n",
       "374310         Games           Games         Austria  2017-12-23 10:14:21   \n",
       "374400         Games  Tabletop Games  United Kingdom  2017-12-26 13:00:24   \n",
       "374458       Fashion         Apparel   United States  2017-12-27 03:52:38   \n",
       "374530         Games  Tabletop Games   United States  2017-12-28 01:48:58   \n",
       "374605         Music         Hip-Hop       Australia  2017-12-29 03:22:32   \n",
       "\n",
       "          Deadline   Goal  Pledged  Backers       State  \n",
       "0       2009-05-31   1000      625       30      Failed  \n",
       "1       2009-07-20  80000       22        3      Failed  \n",
       "2       2009-05-03     20       35        3  Successful  \n",
       "3       2009-07-14     99      145       25  Successful  \n",
       "4       2009-05-26   1900      387       10      Failed  \n",
       "...            ...    ...      ...      ...         ...  \n",
       "374310  2017-12-26     36      270       36  Successful  \n",
       "374400  2017-12-31    271      545       25  Successful  \n",
       "374458  2017-12-31    200      202        6  Successful  \n",
       "374530  2017-12-30    250      265        7  Successful  \n",
       "374605  2018-01-01    392      514        6  Successful  \n",
       "\n",
       "[331462 rows x 11 columns]"
      ]
     },
     "execution_count": 7,
     "metadata": {},
     "output_type": "execute_result"
    }
   ],
   "source": [
    "df[df.State.isin([\"Failed\",\"Successful\"])]"
   ]
  },
  {
   "cell_type": "code",
   "execution_count": 8,
   "metadata": {},
   "outputs": [],
   "source": [
    "df[\"Launched\"] = pd.to_datetime(df[\"Launched\"])\n",
    "df[\"Deadline\"] = pd.to_datetime(df[\"Deadline\"])\n"
   ]
  },
  {
   "cell_type": "code",
   "execution_count": 9,
   "metadata": {},
   "outputs": [
    {
     "data": {
      "text/plain": [
       "0        2009-05-31\n",
       "1        2009-07-20\n",
       "2        2009-05-03\n",
       "3        2009-07-14\n",
       "4        2009-05-26\n",
       "            ...    \n",
       "374848   2018-01-16\n",
       "374849   2018-02-09\n",
       "374850   2018-01-16\n",
       "374851   2018-02-01\n",
       "374852   2018-01-26\n",
       "Name: Deadline, Length: 374853, dtype: datetime64[ns]"
      ]
     },
     "execution_count": 9,
     "metadata": {},
     "output_type": "execute_result"
    }
   ],
   "source": [
    "df[\"Deadline\"]"
   ]
  },
  {
   "cell_type": "code",
   "execution_count": 10,
   "metadata": {},
   "outputs": [
    {
     "data": {
      "text/plain": [
       "0        2009-04-21 21:02:48\n",
       "1        2009-04-23 00:07:53\n",
       "2        2009-04-24 21:52:03\n",
       "3        2009-04-25 17:36:21\n",
       "4        2009-04-27 14:10:39\n",
       "                 ...        \n",
       "374848   2018-01-02 14:13:09\n",
       "374849   2018-01-02 14:15:38\n",
       "374850   2018-01-02 14:17:46\n",
       "374851   2018-01-02 14:38:17\n",
       "374852   2018-01-02 15:02:31\n",
       "Name: Launched, Length: 374853, dtype: datetime64[ns]"
      ]
     },
     "execution_count": 10,
     "metadata": {},
     "output_type": "execute_result"
    }
   ],
   "source": [
    "df[\"Launched\"]"
   ]
  },
  {
   "cell_type": "code",
   "execution_count": 11,
   "metadata": {},
   "outputs": [
    {
     "name": "stdout",
     "output_type": "stream",
     "text": [
      "<class 'pandas.core.frame.DataFrame'>\n",
      "RangeIndex: 374853 entries, 0 to 374852\n",
      "Data columns (total 11 columns):\n",
      " #   Column       Non-Null Count   Dtype         \n",
      "---  ------       --------------   -----         \n",
      " 0   ID           374853 non-null  int64         \n",
      " 1   Name         374853 non-null  object        \n",
      " 2   Category     374853 non-null  object        \n",
      " 3   Subcategory  374853 non-null  object        \n",
      " 4   Country      374853 non-null  object        \n",
      " 5   Launched     374853 non-null  datetime64[ns]\n",
      " 6   Deadline     374853 non-null  datetime64[ns]\n",
      " 7   Goal         374853 non-null  int64         \n",
      " 8   Pledged      374853 non-null  int64         \n",
      " 9   Backers      374853 non-null  int64         \n",
      " 10  State        374853 non-null  object        \n",
      "dtypes: datetime64[ns](2), int64(4), object(5)\n",
      "memory usage: 31.5+ MB\n"
     ]
    }
   ],
   "source": [
    "df.info()"
   ]
  },
  {
   "cell_type": "code",
   "execution_count": 12,
   "metadata": {},
   "outputs": [],
   "source": [
    "df[\"lon_launched\"] = df[\"Launched\"].dt.date\n",
    "df[\"time_launched\"] = df[\"Launched\"].dt.time\n",
    "df[\"day_launched\"] = df[\"Launched\"].dt.weekday"
   ]
  },
  {
   "cell_type": "code",
   "execution_count": 13,
   "metadata": {},
   "outputs": [
    {
     "data": {
      "text/html": [
       "<div>\n",
       "<style scoped>\n",
       "    .dataframe tbody tr th:only-of-type {\n",
       "        vertical-align: middle;\n",
       "    }\n",
       "\n",
       "    .dataframe tbody tr th {\n",
       "        vertical-align: top;\n",
       "    }\n",
       "\n",
       "    .dataframe thead th {\n",
       "        text-align: right;\n",
       "    }\n",
       "</style>\n",
       "<table border=\"1\" class=\"dataframe\">\n",
       "  <thead>\n",
       "    <tr style=\"text-align: right;\">\n",
       "      <th></th>\n",
       "      <th>ID</th>\n",
       "      <th>Name</th>\n",
       "      <th>Category</th>\n",
       "      <th>Subcategory</th>\n",
       "      <th>Country</th>\n",
       "      <th>Launched</th>\n",
       "      <th>Deadline</th>\n",
       "      <th>Goal</th>\n",
       "      <th>Pledged</th>\n",
       "      <th>Backers</th>\n",
       "      <th>State</th>\n",
       "      <th>lon_launched</th>\n",
       "      <th>time_launched</th>\n",
       "      <th>day_launched</th>\n",
       "    </tr>\n",
       "  </thead>\n",
       "  <tbody>\n",
       "    <tr>\n",
       "      <th>0</th>\n",
       "      <td>1860890148</td>\n",
       "      <td>Grace Jones Does Not Give A F$#% T-Shirt (limi...</td>\n",
       "      <td>Fashion</td>\n",
       "      <td>Fashion</td>\n",
       "      <td>United States</td>\n",
       "      <td>2009-04-21 21:02:48</td>\n",
       "      <td>2009-05-31</td>\n",
       "      <td>1000</td>\n",
       "      <td>625</td>\n",
       "      <td>30</td>\n",
       "      <td>Failed</td>\n",
       "      <td>2009-04-21</td>\n",
       "      <td>21:02:48</td>\n",
       "      <td>1</td>\n",
       "    </tr>\n",
       "    <tr>\n",
       "      <th>1</th>\n",
       "      <td>709707365</td>\n",
       "      <td>CRYSTAL ANTLERS UNTITLED MOVIE</td>\n",
       "      <td>Film &amp; Video</td>\n",
       "      <td>Shorts</td>\n",
       "      <td>United States</td>\n",
       "      <td>2009-04-23 00:07:53</td>\n",
       "      <td>2009-07-20</td>\n",
       "      <td>80000</td>\n",
       "      <td>22</td>\n",
       "      <td>3</td>\n",
       "      <td>Failed</td>\n",
       "      <td>2009-04-23</td>\n",
       "      <td>00:07:53</td>\n",
       "      <td>3</td>\n",
       "    </tr>\n",
       "    <tr>\n",
       "      <th>2</th>\n",
       "      <td>1703704063</td>\n",
       "      <td>drawing for dollars</td>\n",
       "      <td>Art</td>\n",
       "      <td>Illustration</td>\n",
       "      <td>United States</td>\n",
       "      <td>2009-04-24 21:52:03</td>\n",
       "      <td>2009-05-03</td>\n",
       "      <td>20</td>\n",
       "      <td>35</td>\n",
       "      <td>3</td>\n",
       "      <td>Successful</td>\n",
       "      <td>2009-04-24</td>\n",
       "      <td>21:52:03</td>\n",
       "      <td>4</td>\n",
       "    </tr>\n",
       "    <tr>\n",
       "      <th>3</th>\n",
       "      <td>727286</td>\n",
       "      <td>Offline Wikipedia iPhone app</td>\n",
       "      <td>Technology</td>\n",
       "      <td>Software</td>\n",
       "      <td>United States</td>\n",
       "      <td>2009-04-25 17:36:21</td>\n",
       "      <td>2009-07-14</td>\n",
       "      <td>99</td>\n",
       "      <td>145</td>\n",
       "      <td>25</td>\n",
       "      <td>Successful</td>\n",
       "      <td>2009-04-25</td>\n",
       "      <td>17:36:21</td>\n",
       "      <td>5</td>\n",
       "    </tr>\n",
       "    <tr>\n",
       "      <th>4</th>\n",
       "      <td>1622952265</td>\n",
       "      <td>Pantshirts</td>\n",
       "      <td>Fashion</td>\n",
       "      <td>Fashion</td>\n",
       "      <td>United States</td>\n",
       "      <td>2009-04-27 14:10:39</td>\n",
       "      <td>2009-05-26</td>\n",
       "      <td>1900</td>\n",
       "      <td>387</td>\n",
       "      <td>10</td>\n",
       "      <td>Failed</td>\n",
       "      <td>2009-04-27</td>\n",
       "      <td>14:10:39</td>\n",
       "      <td>0</td>\n",
       "    </tr>\n",
       "  </tbody>\n",
       "</table>\n",
       "</div>"
      ],
      "text/plain": [
       "           ID                                               Name   \n",
       "0  1860890148  Grace Jones Does Not Give A F$#% T-Shirt (limi...  \\\n",
       "1   709707365                     CRYSTAL ANTLERS UNTITLED MOVIE   \n",
       "2  1703704063                                drawing for dollars   \n",
       "3      727286                       Offline Wikipedia iPhone app   \n",
       "4  1622952265                                         Pantshirts   \n",
       "\n",
       "       Category   Subcategory        Country            Launched   Deadline   \n",
       "0       Fashion       Fashion  United States 2009-04-21 21:02:48 2009-05-31  \\\n",
       "1  Film & Video        Shorts  United States 2009-04-23 00:07:53 2009-07-20   \n",
       "2           Art  Illustration  United States 2009-04-24 21:52:03 2009-05-03   \n",
       "3    Technology      Software  United States 2009-04-25 17:36:21 2009-07-14   \n",
       "4       Fashion       Fashion  United States 2009-04-27 14:10:39 2009-05-26   \n",
       "\n",
       "    Goal  Pledged  Backers       State lon_launched time_launched   \n",
       "0   1000      625       30      Failed   2009-04-21      21:02:48  \\\n",
       "1  80000       22        3      Failed   2009-04-23      00:07:53   \n",
       "2     20       35        3  Successful   2009-04-24      21:52:03   \n",
       "3     99      145       25  Successful   2009-04-25      17:36:21   \n",
       "4   1900      387       10      Failed   2009-04-27      14:10:39   \n",
       "\n",
       "   day_launched  \n",
       "0             1  \n",
       "1             3  \n",
       "2             4  \n",
       "3             5  \n",
       "4             0  "
      ]
     },
     "execution_count": 13,
     "metadata": {},
     "output_type": "execute_result"
    }
   ],
   "source": [
    "df.head()"
   ]
  },
  {
   "cell_type": "code",
   "execution_count": null,
   "metadata": {},
   "outputs": [],
   "source": []
  },
  {
   "cell_type": "code",
   "execution_count": 14,
   "metadata": {},
   "outputs": [],
   "source": [
    "df[\"duration\"] = (df[\"Deadline\"] - df[\"Launched\"]).dt.days"
   ]
  },
  {
   "cell_type": "code",
   "execution_count": 15,
   "metadata": {},
   "outputs": [
    {
     "data": {
      "text/html": [
       "<div>\n",
       "<style scoped>\n",
       "    .dataframe tbody tr th:only-of-type {\n",
       "        vertical-align: middle;\n",
       "    }\n",
       "\n",
       "    .dataframe tbody tr th {\n",
       "        vertical-align: top;\n",
       "    }\n",
       "\n",
       "    .dataframe thead th {\n",
       "        text-align: right;\n",
       "    }\n",
       "</style>\n",
       "<table border=\"1\" class=\"dataframe\">\n",
       "  <thead>\n",
       "    <tr style=\"text-align: right;\">\n",
       "      <th></th>\n",
       "      <th>ID</th>\n",
       "      <th>Name</th>\n",
       "      <th>Category</th>\n",
       "      <th>Subcategory</th>\n",
       "      <th>Country</th>\n",
       "      <th>Launched</th>\n",
       "      <th>Deadline</th>\n",
       "      <th>Goal</th>\n",
       "      <th>Pledged</th>\n",
       "      <th>Backers</th>\n",
       "      <th>State</th>\n",
       "      <th>lon_launched</th>\n",
       "      <th>time_launched</th>\n",
       "      <th>day_launched</th>\n",
       "      <th>duration</th>\n",
       "    </tr>\n",
       "  </thead>\n",
       "  <tbody>\n",
       "    <tr>\n",
       "      <th>0</th>\n",
       "      <td>1860890148</td>\n",
       "      <td>Grace Jones Does Not Give A F$#% T-Shirt (limi...</td>\n",
       "      <td>Fashion</td>\n",
       "      <td>Fashion</td>\n",
       "      <td>United States</td>\n",
       "      <td>2009-04-21 21:02:48</td>\n",
       "      <td>2009-05-31</td>\n",
       "      <td>1000</td>\n",
       "      <td>625</td>\n",
       "      <td>30</td>\n",
       "      <td>Failed</td>\n",
       "      <td>2009-04-21</td>\n",
       "      <td>21:02:48</td>\n",
       "      <td>1</td>\n",
       "      <td>39</td>\n",
       "    </tr>\n",
       "    <tr>\n",
       "      <th>1</th>\n",
       "      <td>709707365</td>\n",
       "      <td>CRYSTAL ANTLERS UNTITLED MOVIE</td>\n",
       "      <td>Film &amp; Video</td>\n",
       "      <td>Shorts</td>\n",
       "      <td>United States</td>\n",
       "      <td>2009-04-23 00:07:53</td>\n",
       "      <td>2009-07-20</td>\n",
       "      <td>80000</td>\n",
       "      <td>22</td>\n",
       "      <td>3</td>\n",
       "      <td>Failed</td>\n",
       "      <td>2009-04-23</td>\n",
       "      <td>00:07:53</td>\n",
       "      <td>3</td>\n",
       "      <td>87</td>\n",
       "    </tr>\n",
       "    <tr>\n",
       "      <th>2</th>\n",
       "      <td>1703704063</td>\n",
       "      <td>drawing for dollars</td>\n",
       "      <td>Art</td>\n",
       "      <td>Illustration</td>\n",
       "      <td>United States</td>\n",
       "      <td>2009-04-24 21:52:03</td>\n",
       "      <td>2009-05-03</td>\n",
       "      <td>20</td>\n",
       "      <td>35</td>\n",
       "      <td>3</td>\n",
       "      <td>Successful</td>\n",
       "      <td>2009-04-24</td>\n",
       "      <td>21:52:03</td>\n",
       "      <td>4</td>\n",
       "      <td>8</td>\n",
       "    </tr>\n",
       "    <tr>\n",
       "      <th>3</th>\n",
       "      <td>727286</td>\n",
       "      <td>Offline Wikipedia iPhone app</td>\n",
       "      <td>Technology</td>\n",
       "      <td>Software</td>\n",
       "      <td>United States</td>\n",
       "      <td>2009-04-25 17:36:21</td>\n",
       "      <td>2009-07-14</td>\n",
       "      <td>99</td>\n",
       "      <td>145</td>\n",
       "      <td>25</td>\n",
       "      <td>Successful</td>\n",
       "      <td>2009-04-25</td>\n",
       "      <td>17:36:21</td>\n",
       "      <td>5</td>\n",
       "      <td>79</td>\n",
       "    </tr>\n",
       "    <tr>\n",
       "      <th>4</th>\n",
       "      <td>1622952265</td>\n",
       "      <td>Pantshirts</td>\n",
       "      <td>Fashion</td>\n",
       "      <td>Fashion</td>\n",
       "      <td>United States</td>\n",
       "      <td>2009-04-27 14:10:39</td>\n",
       "      <td>2009-05-26</td>\n",
       "      <td>1900</td>\n",
       "      <td>387</td>\n",
       "      <td>10</td>\n",
       "      <td>Failed</td>\n",
       "      <td>2009-04-27</td>\n",
       "      <td>14:10:39</td>\n",
       "      <td>0</td>\n",
       "      <td>28</td>\n",
       "    </tr>\n",
       "  </tbody>\n",
       "</table>\n",
       "</div>"
      ],
      "text/plain": [
       "           ID                                               Name   \n",
       "0  1860890148  Grace Jones Does Not Give A F$#% T-Shirt (limi...  \\\n",
       "1   709707365                     CRYSTAL ANTLERS UNTITLED MOVIE   \n",
       "2  1703704063                                drawing for dollars   \n",
       "3      727286                       Offline Wikipedia iPhone app   \n",
       "4  1622952265                                         Pantshirts   \n",
       "\n",
       "       Category   Subcategory        Country            Launched   Deadline   \n",
       "0       Fashion       Fashion  United States 2009-04-21 21:02:48 2009-05-31  \\\n",
       "1  Film & Video        Shorts  United States 2009-04-23 00:07:53 2009-07-20   \n",
       "2           Art  Illustration  United States 2009-04-24 21:52:03 2009-05-03   \n",
       "3    Technology      Software  United States 2009-04-25 17:36:21 2009-07-14   \n",
       "4       Fashion       Fashion  United States 2009-04-27 14:10:39 2009-05-26   \n",
       "\n",
       "    Goal  Pledged  Backers       State lon_launched time_launched   \n",
       "0   1000      625       30      Failed   2009-04-21      21:02:48  \\\n",
       "1  80000       22        3      Failed   2009-04-23      00:07:53   \n",
       "2     20       35        3  Successful   2009-04-24      21:52:03   \n",
       "3     99      145       25  Successful   2009-04-25      17:36:21   \n",
       "4   1900      387       10      Failed   2009-04-27      14:10:39   \n",
       "\n",
       "   day_launched  duration  \n",
       "0             1        39  \n",
       "1             3        87  \n",
       "2             4         8  \n",
       "3             5        79  \n",
       "4             0        28  "
      ]
     },
     "execution_count": 15,
     "metadata": {},
     "output_type": "execute_result"
    }
   ],
   "source": [
    "df.head()"
   ]
  },
  {
   "cell_type": "code",
   "execution_count": 16,
   "metadata": {},
   "outputs": [
    {
     "data": {
      "text/plain": [
       "array(['Failed', 'Successful', 'Canceled', 'Suspended', 'Live'],\n",
       "      dtype=object)"
      ]
     },
     "execution_count": 16,
     "metadata": {},
     "output_type": "execute_result"
    }
   ],
   "source": [
    "df[\"State\"].unique()"
   ]
  },
  {
   "cell_type": "code",
   "execution_count": 75,
   "metadata": {},
   "outputs": [
    {
     "data": {
      "text/html": [
       "<div>\n",
       "<style scoped>\n",
       "    .dataframe tbody tr th:only-of-type {\n",
       "        vertical-align: middle;\n",
       "    }\n",
       "\n",
       "    .dataframe tbody tr th {\n",
       "        vertical-align: top;\n",
       "    }\n",
       "\n",
       "    .dataframe thead th {\n",
       "        text-align: right;\n",
       "    }\n",
       "</style>\n",
       "<table border=\"1\" class=\"dataframe\">\n",
       "  <thead>\n",
       "    <tr style=\"text-align: right;\">\n",
       "      <th></th>\n",
       "      <th>ID</th>\n",
       "      <th>Name</th>\n",
       "      <th>Category</th>\n",
       "      <th>Subcategory</th>\n",
       "      <th>Country</th>\n",
       "      <th>Launched</th>\n",
       "      <th>Deadline</th>\n",
       "      <th>Goal</th>\n",
       "      <th>Pledged</th>\n",
       "      <th>Backers</th>\n",
       "      <th>State</th>\n",
       "      <th>lon_launched</th>\n",
       "      <th>time_launched</th>\n",
       "      <th>day_launched</th>\n",
       "      <th>duration</th>\n",
       "    </tr>\n",
       "  </thead>\n",
       "  <tbody>\n",
       "    <tr>\n",
       "      <th>1</th>\n",
       "      <td>709707365</td>\n",
       "      <td>CRYSTAL ANTLERS UNTITLED MOVIE</td>\n",
       "      <td>Film &amp; Video</td>\n",
       "      <td>Shorts</td>\n",
       "      <td>United States</td>\n",
       "      <td>2009-04-23 00:07:53</td>\n",
       "      <td>2009-07-20</td>\n",
       "      <td>80000</td>\n",
       "      <td>22</td>\n",
       "      <td>3</td>\n",
       "      <td>Failed</td>\n",
       "      <td>2009-04-23</td>\n",
       "      <td>00:07:53</td>\n",
       "      <td>3</td>\n",
       "      <td>87</td>\n",
       "    </tr>\n",
       "    <tr>\n",
       "      <th>3</th>\n",
       "      <td>727286</td>\n",
       "      <td>Offline Wikipedia iPhone app</td>\n",
       "      <td>Technology</td>\n",
       "      <td>Software</td>\n",
       "      <td>United States</td>\n",
       "      <td>2009-04-25 17:36:21</td>\n",
       "      <td>2009-07-14</td>\n",
       "      <td>99</td>\n",
       "      <td>145</td>\n",
       "      <td>25</td>\n",
       "      <td>Successful</td>\n",
       "      <td>2009-04-25</td>\n",
       "      <td>17:36:21</td>\n",
       "      <td>5</td>\n",
       "      <td>79</td>\n",
       "    </tr>\n",
       "    <tr>\n",
       "      <th>11</th>\n",
       "      <td>515267366</td>\n",
       "      <td>Crossword Puzzles!</td>\n",
       "      <td>Games</td>\n",
       "      <td>Puzzles</td>\n",
       "      <td>United States</td>\n",
       "      <td>2009-04-29 13:52:03</td>\n",
       "      <td>2009-06-30</td>\n",
       "      <td>1500</td>\n",
       "      <td>2265</td>\n",
       "      <td>163</td>\n",
       "      <td>Successful</td>\n",
       "      <td>2009-04-29</td>\n",
       "      <td>13:52:03</td>\n",
       "      <td>2</td>\n",
       "      <td>61</td>\n",
       "    </tr>\n",
       "    <tr>\n",
       "      <th>12</th>\n",
       "      <td>1167151653</td>\n",
       "      <td>Smogr Alert Field Recording</td>\n",
       "      <td>Design</td>\n",
       "      <td>Graphic Design</td>\n",
       "      <td>United States</td>\n",
       "      <td>2009-04-29 22:08:13</td>\n",
       "      <td>2009-07-04</td>\n",
       "      <td>640</td>\n",
       "      <td>41</td>\n",
       "      <td>3</td>\n",
       "      <td>Failed</td>\n",
       "      <td>2009-04-29</td>\n",
       "      <td>22:08:13</td>\n",
       "      <td>2</td>\n",
       "      <td>65</td>\n",
       "    </tr>\n",
       "    <tr>\n",
       "      <th>15</th>\n",
       "      <td>2147219671</td>\n",
       "      <td>You Are Among Friends: a book for the little s...</td>\n",
       "      <td>Publishing</td>\n",
       "      <td>Publishing</td>\n",
       "      <td>United States</td>\n",
       "      <td>2009-04-30 07:14:06</td>\n",
       "      <td>2009-07-01</td>\n",
       "      <td>350</td>\n",
       "      <td>750</td>\n",
       "      <td>41</td>\n",
       "      <td>Successful</td>\n",
       "      <td>2009-04-30</td>\n",
       "      <td>07:14:06</td>\n",
       "      <td>3</td>\n",
       "      <td>61</td>\n",
       "    </tr>\n",
       "    <tr>\n",
       "      <th>...</th>\n",
       "      <td>...</td>\n",
       "      <td>...</td>\n",
       "      <td>...</td>\n",
       "      <td>...</td>\n",
       "      <td>...</td>\n",
       "      <td>...</td>\n",
       "      <td>...</td>\n",
       "      <td>...</td>\n",
       "      <td>...</td>\n",
       "      <td>...</td>\n",
       "      <td>...</td>\n",
       "      <td>...</td>\n",
       "      <td>...</td>\n",
       "      <td>...</td>\n",
       "      <td>...</td>\n",
       "    </tr>\n",
       "    <tr>\n",
       "      <th>253146</th>\n",
       "      <td>1020745465</td>\n",
       "      <td>SECOND CHANCE - DEUXIÈME CHANCE</td>\n",
       "      <td>Film &amp; Video</td>\n",
       "      <td>Shorts</td>\n",
       "      <td>France</td>\n",
       "      <td>2015-10-14 15:20:45</td>\n",
       "      <td>2015-12-27</td>\n",
       "      <td>6532</td>\n",
       "      <td>6955</td>\n",
       "      <td>17</td>\n",
       "      <td>Successful</td>\n",
       "      <td>2015-10-14</td>\n",
       "      <td>15:20:45</td>\n",
       "      <td>2</td>\n",
       "      <td>73</td>\n",
       "    </tr>\n",
       "    <tr>\n",
       "      <th>274788</th>\n",
       "      <td>1656851514</td>\n",
       "      <td>TAMANGO by Bors &amp; Ritiu, Claudia Radulescu, Ma...</td>\n",
       "      <td>Art</td>\n",
       "      <td>Sculpture</td>\n",
       "      <td>Belgium</td>\n",
       "      <td>2016-02-22 20:14:52</td>\n",
       "      <td>2016-04-25</td>\n",
       "      <td>7412</td>\n",
       "      <td>319</td>\n",
       "      <td>9</td>\n",
       "      <td>Failed</td>\n",
       "      <td>2016-02-22</td>\n",
       "      <td>20:14:52</td>\n",
       "      <td>0</td>\n",
       "      <td>62</td>\n",
       "    </tr>\n",
       "    <tr>\n",
       "      <th>275694</th>\n",
       "      <td>1877880989</td>\n",
       "      <td>4LMNTS - Cycling &amp; Triathlon ActiveWear for Women</td>\n",
       "      <td>Fashion</td>\n",
       "      <td>Apparel</td>\n",
       "      <td>Belgium</td>\n",
       "      <td>2016-02-27 14:32:42</td>\n",
       "      <td>2016-04-30</td>\n",
       "      <td>2285</td>\n",
       "      <td>2423</td>\n",
       "      <td>17</td>\n",
       "      <td>Successful</td>\n",
       "      <td>2016-02-27</td>\n",
       "      <td>14:32:42</td>\n",
       "      <td>5</td>\n",
       "      <td>62</td>\n",
       "    </tr>\n",
       "    <tr>\n",
       "      <th>276374</th>\n",
       "      <td>468525665</td>\n",
       "      <td>The LONDON SYMPHONY ORCHESTRA performs etherea...</td>\n",
       "      <td>Music</td>\n",
       "      <td>Classical Music</td>\n",
       "      <td>Belgium</td>\n",
       "      <td>2016-03-01 17:16:45</td>\n",
       "      <td>2016-05-14</td>\n",
       "      <td>201941</td>\n",
       "      <td>663</td>\n",
       "      <td>6</td>\n",
       "      <td>Failed</td>\n",
       "      <td>2016-03-01</td>\n",
       "      <td>17:16:45</td>\n",
       "      <td>1</td>\n",
       "      <td>73</td>\n",
       "    </tr>\n",
       "    <tr>\n",
       "      <th>277088</th>\n",
       "      <td>1500538484</td>\n",
       "      <td>City Eight</td>\n",
       "      <td>Games</td>\n",
       "      <td>Video Games</td>\n",
       "      <td>France</td>\n",
       "      <td>2016-03-05 00:38:04</td>\n",
       "      <td>2016-05-06</td>\n",
       "      <td>10284</td>\n",
       "      <td>47</td>\n",
       "      <td>4</td>\n",
       "      <td>Failed</td>\n",
       "      <td>2016-03-05</td>\n",
       "      <td>00:38:04</td>\n",
       "      <td>5</td>\n",
       "      <td>61</td>\n",
       "    </tr>\n",
       "  </tbody>\n",
       "</table>\n",
       "<p>4708 rows × 15 columns</p>\n",
       "</div>"
      ],
      "text/plain": [
       "                ID                                               Name   \n",
       "1        709707365                     CRYSTAL ANTLERS UNTITLED MOVIE  \\\n",
       "3           727286                       Offline Wikipedia iPhone app   \n",
       "11       515267366                                 Crossword Puzzles!   \n",
       "12      1167151653                        Smogr Alert Field Recording   \n",
       "15      2147219671  You Are Among Friends: a book for the little s...   \n",
       "...            ...                                                ...   \n",
       "253146  1020745465                    SECOND CHANCE - DEUXIÈME CHANCE   \n",
       "274788  1656851514  TAMANGO by Bors & Ritiu, Claudia Radulescu, Ma...   \n",
       "275694  1877880989  4LMNTS - Cycling & Triathlon ActiveWear for Women   \n",
       "276374   468525665  The LONDON SYMPHONY ORCHESTRA performs etherea...   \n",
       "277088  1500538484                                         City Eight   \n",
       "\n",
       "            Category      Subcategory        Country            Launched   \n",
       "1       Film & Video           Shorts  United States 2009-04-23 00:07:53  \\\n",
       "3         Technology         Software  United States 2009-04-25 17:36:21   \n",
       "11             Games          Puzzles  United States 2009-04-29 13:52:03   \n",
       "12            Design   Graphic Design  United States 2009-04-29 22:08:13   \n",
       "15        Publishing       Publishing  United States 2009-04-30 07:14:06   \n",
       "...              ...              ...            ...                 ...   \n",
       "253146  Film & Video           Shorts         France 2015-10-14 15:20:45   \n",
       "274788           Art        Sculpture        Belgium 2016-02-22 20:14:52   \n",
       "275694       Fashion          Apparel        Belgium 2016-02-27 14:32:42   \n",
       "276374         Music  Classical Music        Belgium 2016-03-01 17:16:45   \n",
       "277088         Games      Video Games         France 2016-03-05 00:38:04   \n",
       "\n",
       "         Deadline    Goal  Pledged  Backers       State lon_launched   \n",
       "1      2009-07-20   80000       22        3      Failed   2009-04-23  \\\n",
       "3      2009-07-14      99      145       25  Successful   2009-04-25   \n",
       "11     2009-06-30    1500     2265      163  Successful   2009-04-29   \n",
       "12     2009-07-04     640       41        3      Failed   2009-04-29   \n",
       "15     2009-07-01     350      750       41  Successful   2009-04-30   \n",
       "...           ...     ...      ...      ...         ...          ...   \n",
       "253146 2015-12-27    6532     6955       17  Successful   2015-10-14   \n",
       "274788 2016-04-25    7412      319        9      Failed   2016-02-22   \n",
       "275694 2016-04-30    2285     2423       17  Successful   2016-02-27   \n",
       "276374 2016-05-14  201941      663        6      Failed   2016-03-01   \n",
       "277088 2016-05-06   10284       47        4      Failed   2016-03-05   \n",
       "\n",
       "       time_launched  day_launched  duration  \n",
       "1           00:07:53             3        87  \n",
       "3           17:36:21             5        79  \n",
       "11          13:52:03             2        61  \n",
       "12          22:08:13             2        65  \n",
       "15          07:14:06             3        61  \n",
       "...              ...           ...       ...  \n",
       "253146      15:20:45             2        73  \n",
       "274788      20:14:52             0        62  \n",
       "275694      14:32:42             5        62  \n",
       "276374      17:16:45             1        73  \n",
       "277088      00:38:04             5        61  \n",
       "\n",
       "[4708 rows x 15 columns]"
      ]
     },
     "execution_count": 75,
     "metadata": {},
     "output_type": "execute_result"
    }
   ],
   "source": [
    "df.query(\"duration >60\")"
   ]
  },
  {
   "cell_type": "code",
   "execution_count": null,
   "metadata": {},
   "outputs": [],
   "source": []
  },
  {
   "cell_type": "code",
   "execution_count": 17,
   "metadata": {},
   "outputs": [
    {
     "data": {
      "text/plain": [
       "array([39, 87,  8, 79, 28, 17, 29, 32, 16, 48, 61, 65, 46, 36, 19, 35, 75,\n",
       "       30, 34, 60, 89, 27, 26, 31, 25, 22, 55, 23, 52, 83, 49, 80, 62,  9,\n",
       "       72, 88, 47, 59, 58, 84, 74, 41, 71, 51, 69, 73, 15, 21, 40, 43, 42,\n",
       "       57, 38, 37, 86,  3, 20, 13, 10, 24, 66, 85, 64, 78, 54, 63,  5, 45,\n",
       "       50, 44, 70, 81, 76,  7,  2,  4,  6, 68, 67, 33, 56, 53, 82, 77, 12,\n",
       "       18, 14,  1,  0, 11, 90, 91])"
      ]
     },
     "execution_count": 17,
     "metadata": {},
     "output_type": "execute_result"
    }
   ],
   "source": [
    "df[\"duration\"].unique()"
   ]
  },
  {
   "cell_type": "code",
   "execution_count": null,
   "metadata": {},
   "outputs": [],
   "source": []
  },
  {
   "cell_type": "code",
   "execution_count": 18,
   "metadata": {},
   "outputs": [],
   "source": [
    "df_filter = df[df.State.isin([\"Failed\",\"Successful\"])]\n",
    "df_filter.replace({\"Failed\":0, \"Successful\":1}, inplace=True)            \n",
    "\n"
   ]
  },
  {
   "cell_type": "code",
   "execution_count": 19,
   "metadata": {},
   "outputs": [
    {
     "data": {
      "text/html": [
       "<div>\n",
       "<style scoped>\n",
       "    .dataframe tbody tr th:only-of-type {\n",
       "        vertical-align: middle;\n",
       "    }\n",
       "\n",
       "    .dataframe tbody tr th {\n",
       "        vertical-align: top;\n",
       "    }\n",
       "\n",
       "    .dataframe thead th {\n",
       "        text-align: right;\n",
       "    }\n",
       "</style>\n",
       "<table border=\"1\" class=\"dataframe\">\n",
       "  <thead>\n",
       "    <tr style=\"text-align: right;\">\n",
       "      <th></th>\n",
       "      <th>ID</th>\n",
       "      <th>Name</th>\n",
       "      <th>Category</th>\n",
       "      <th>Subcategory</th>\n",
       "      <th>Country</th>\n",
       "      <th>Launched</th>\n",
       "      <th>Deadline</th>\n",
       "      <th>Goal</th>\n",
       "      <th>Pledged</th>\n",
       "      <th>Backers</th>\n",
       "      <th>State</th>\n",
       "      <th>lon_launched</th>\n",
       "      <th>time_launched</th>\n",
       "      <th>day_launched</th>\n",
       "      <th>duration</th>\n",
       "    </tr>\n",
       "  </thead>\n",
       "  <tbody>\n",
       "    <tr>\n",
       "      <th>0</th>\n",
       "      <td>1860890148</td>\n",
       "      <td>Grace Jones Does Not Give A F$#% T-Shirt (limi...</td>\n",
       "      <td>Fashion</td>\n",
       "      <td>Fashion</td>\n",
       "      <td>United States</td>\n",
       "      <td>2009-04-21 21:02:48</td>\n",
       "      <td>2009-05-31</td>\n",
       "      <td>1000</td>\n",
       "      <td>625</td>\n",
       "      <td>30</td>\n",
       "      <td>0</td>\n",
       "      <td>2009-04-21</td>\n",
       "      <td>21:02:48</td>\n",
       "      <td>1</td>\n",
       "      <td>39</td>\n",
       "    </tr>\n",
       "    <tr>\n",
       "      <th>1</th>\n",
       "      <td>709707365</td>\n",
       "      <td>CRYSTAL ANTLERS UNTITLED MOVIE</td>\n",
       "      <td>Film &amp; Video</td>\n",
       "      <td>Shorts</td>\n",
       "      <td>United States</td>\n",
       "      <td>2009-04-23 00:07:53</td>\n",
       "      <td>2009-07-20</td>\n",
       "      <td>80000</td>\n",
       "      <td>22</td>\n",
       "      <td>3</td>\n",
       "      <td>0</td>\n",
       "      <td>2009-04-23</td>\n",
       "      <td>00:07:53</td>\n",
       "      <td>3</td>\n",
       "      <td>87</td>\n",
       "    </tr>\n",
       "    <tr>\n",
       "      <th>2</th>\n",
       "      <td>1703704063</td>\n",
       "      <td>drawing for dollars</td>\n",
       "      <td>Art</td>\n",
       "      <td>Illustration</td>\n",
       "      <td>United States</td>\n",
       "      <td>2009-04-24 21:52:03</td>\n",
       "      <td>2009-05-03</td>\n",
       "      <td>20</td>\n",
       "      <td>35</td>\n",
       "      <td>3</td>\n",
       "      <td>1</td>\n",
       "      <td>2009-04-24</td>\n",
       "      <td>21:52:03</td>\n",
       "      <td>4</td>\n",
       "      <td>8</td>\n",
       "    </tr>\n",
       "    <tr>\n",
       "      <th>3</th>\n",
       "      <td>727286</td>\n",
       "      <td>Offline Wikipedia iPhone app</td>\n",
       "      <td>Technology</td>\n",
       "      <td>Software</td>\n",
       "      <td>United States</td>\n",
       "      <td>2009-04-25 17:36:21</td>\n",
       "      <td>2009-07-14</td>\n",
       "      <td>99</td>\n",
       "      <td>145</td>\n",
       "      <td>25</td>\n",
       "      <td>1</td>\n",
       "      <td>2009-04-25</td>\n",
       "      <td>17:36:21</td>\n",
       "      <td>5</td>\n",
       "      <td>79</td>\n",
       "    </tr>\n",
       "    <tr>\n",
       "      <th>4</th>\n",
       "      <td>1622952265</td>\n",
       "      <td>Pantshirts</td>\n",
       "      <td>Fashion</td>\n",
       "      <td>Fashion</td>\n",
       "      <td>United States</td>\n",
       "      <td>2009-04-27 14:10:39</td>\n",
       "      <td>2009-05-26</td>\n",
       "      <td>1900</td>\n",
       "      <td>387</td>\n",
       "      <td>10</td>\n",
       "      <td>0</td>\n",
       "      <td>2009-04-27</td>\n",
       "      <td>14:10:39</td>\n",
       "      <td>0</td>\n",
       "      <td>28</td>\n",
       "    </tr>\n",
       "  </tbody>\n",
       "</table>\n",
       "</div>"
      ],
      "text/plain": [
       "           ID                                               Name   \n",
       "0  1860890148  Grace Jones Does Not Give A F$#% T-Shirt (limi...  \\\n",
       "1   709707365                     CRYSTAL ANTLERS UNTITLED MOVIE   \n",
       "2  1703704063                                drawing for dollars   \n",
       "3      727286                       Offline Wikipedia iPhone app   \n",
       "4  1622952265                                         Pantshirts   \n",
       "\n",
       "       Category   Subcategory        Country            Launched   Deadline   \n",
       "0       Fashion       Fashion  United States 2009-04-21 21:02:48 2009-05-31  \\\n",
       "1  Film & Video        Shorts  United States 2009-04-23 00:07:53 2009-07-20   \n",
       "2           Art  Illustration  United States 2009-04-24 21:52:03 2009-05-03   \n",
       "3    Technology      Software  United States 2009-04-25 17:36:21 2009-07-14   \n",
       "4       Fashion       Fashion  United States 2009-04-27 14:10:39 2009-05-26   \n",
       "\n",
       "    Goal  Pledged  Backers  State lon_launched time_launched  day_launched   \n",
       "0   1000      625       30      0   2009-04-21      21:02:48             1  \\\n",
       "1  80000       22        3      0   2009-04-23      00:07:53             3   \n",
       "2     20       35        3      1   2009-04-24      21:52:03             4   \n",
       "3     99      145       25      1   2009-04-25      17:36:21             5   \n",
       "4   1900      387       10      0   2009-04-27      14:10:39             0   \n",
       "\n",
       "   duration  \n",
       "0        39  \n",
       "1        87  \n",
       "2         8  \n",
       "3        79  \n",
       "4        28  "
      ]
     },
     "execution_count": 19,
     "metadata": {},
     "output_type": "execute_result"
    }
   ],
   "source": [
    "df_filter.head()"
   ]
  },
  {
   "cell_type": "code",
   "execution_count": 20,
   "metadata": {},
   "outputs": [
    {
     "data": {
      "text/html": [
       "<div>\n",
       "<style scoped>\n",
       "    .dataframe tbody tr th:only-of-type {\n",
       "        vertical-align: middle;\n",
       "    }\n",
       "\n",
       "    .dataframe tbody tr th {\n",
       "        vertical-align: top;\n",
       "    }\n",
       "\n",
       "    .dataframe thead th {\n",
       "        text-align: right;\n",
       "    }\n",
       "</style>\n",
       "<table border=\"1\" class=\"dataframe\">\n",
       "  <thead>\n",
       "    <tr style=\"text-align: right;\">\n",
       "      <th></th>\n",
       "      <th>ID</th>\n",
       "      <th>Name</th>\n",
       "      <th>Category</th>\n",
       "      <th>Subcategory</th>\n",
       "      <th>Country</th>\n",
       "      <th>Launched</th>\n",
       "      <th>Deadline</th>\n",
       "      <th>Goal</th>\n",
       "      <th>Pledged</th>\n",
       "      <th>Backers</th>\n",
       "      <th>State</th>\n",
       "      <th>lon_launched</th>\n",
       "      <th>time_launched</th>\n",
       "      <th>day_launched</th>\n",
       "      <th>duration</th>\n",
       "    </tr>\n",
       "  </thead>\n",
       "  <tbody>\n",
       "    <tr>\n",
       "      <th>374310</th>\n",
       "      <td>749399445</td>\n",
       "      <td>Propeller Spring 2.0</td>\n",
       "      <td>Games</td>\n",
       "      <td>Games</td>\n",
       "      <td>Austria</td>\n",
       "      <td>2017-12-23 10:14:21</td>\n",
       "      <td>2017-12-26</td>\n",
       "      <td>36</td>\n",
       "      <td>270</td>\n",
       "      <td>36</td>\n",
       "      <td>1</td>\n",
       "      <td>2017-12-23</td>\n",
       "      <td>10:14:21</td>\n",
       "      <td>5</td>\n",
       "      <td>2</td>\n",
       "    </tr>\n",
       "    <tr>\n",
       "      <th>374400</th>\n",
       "      <td>1223058036</td>\n",
       "      <td>The Cowboy and The Spaceman: Android Collective+</td>\n",
       "      <td>Games</td>\n",
       "      <td>Tabletop Games</td>\n",
       "      <td>United Kingdom</td>\n",
       "      <td>2017-12-26 13:00:24</td>\n",
       "      <td>2017-12-31</td>\n",
       "      <td>271</td>\n",
       "      <td>545</td>\n",
       "      <td>25</td>\n",
       "      <td>1</td>\n",
       "      <td>2017-12-26</td>\n",
       "      <td>13:00:24</td>\n",
       "      <td>1</td>\n",
       "      <td>4</td>\n",
       "    </tr>\n",
       "    <tr>\n",
       "      <th>374458</th>\n",
       "      <td>1411606124</td>\n",
       "      <td>The CHAMPS Are Here!</td>\n",
       "      <td>Fashion</td>\n",
       "      <td>Apparel</td>\n",
       "      <td>United States</td>\n",
       "      <td>2017-12-27 03:52:38</td>\n",
       "      <td>2017-12-31</td>\n",
       "      <td>200</td>\n",
       "      <td>202</td>\n",
       "      <td>6</td>\n",
       "      <td>1</td>\n",
       "      <td>2017-12-27</td>\n",
       "      <td>03:52:38</td>\n",
       "      <td>2</td>\n",
       "      <td>3</td>\n",
       "    </tr>\n",
       "    <tr>\n",
       "      <th>374530</th>\n",
       "      <td>156799983</td>\n",
       "      <td>Kill Them All!</td>\n",
       "      <td>Games</td>\n",
       "      <td>Tabletop Games</td>\n",
       "      <td>United States</td>\n",
       "      <td>2017-12-28 01:48:58</td>\n",
       "      <td>2017-12-30</td>\n",
       "      <td>250</td>\n",
       "      <td>265</td>\n",
       "      <td>7</td>\n",
       "      <td>1</td>\n",
       "      <td>2017-12-28</td>\n",
       "      <td>01:48:58</td>\n",
       "      <td>3</td>\n",
       "      <td>1</td>\n",
       "    </tr>\n",
       "    <tr>\n",
       "      <th>374605</th>\n",
       "      <td>801423615</td>\n",
       "      <td>Collaboration with Snoop Dogg</td>\n",
       "      <td>Music</td>\n",
       "      <td>Hip-Hop</td>\n",
       "      <td>Australia</td>\n",
       "      <td>2017-12-29 03:22:32</td>\n",
       "      <td>2018-01-01</td>\n",
       "      <td>392</td>\n",
       "      <td>514</td>\n",
       "      <td>6</td>\n",
       "      <td>1</td>\n",
       "      <td>2017-12-29</td>\n",
       "      <td>03:22:32</td>\n",
       "      <td>4</td>\n",
       "      <td>2</td>\n",
       "    </tr>\n",
       "  </tbody>\n",
       "</table>\n",
       "</div>"
      ],
      "text/plain": [
       "                ID                                              Name Category   \n",
       "374310   749399445                              Propeller Spring 2.0    Games  \\\n",
       "374400  1223058036  The Cowboy and The Spaceman: Android Collective+    Games   \n",
       "374458  1411606124                              The CHAMPS Are Here!  Fashion   \n",
       "374530   156799983                                    Kill Them All!    Games   \n",
       "374605   801423615                     Collaboration with Snoop Dogg    Music   \n",
       "\n",
       "           Subcategory         Country            Launched   Deadline  Goal   \n",
       "374310           Games         Austria 2017-12-23 10:14:21 2017-12-26    36  \\\n",
       "374400  Tabletop Games  United Kingdom 2017-12-26 13:00:24 2017-12-31   271   \n",
       "374458         Apparel   United States 2017-12-27 03:52:38 2017-12-31   200   \n",
       "374530  Tabletop Games   United States 2017-12-28 01:48:58 2017-12-30   250   \n",
       "374605         Hip-Hop       Australia 2017-12-29 03:22:32 2018-01-01   392   \n",
       "\n",
       "        Pledged  Backers  State lon_launched time_launched  day_launched   \n",
       "374310      270       36      1   2017-12-23      10:14:21             5  \\\n",
       "374400      545       25      1   2017-12-26      13:00:24             1   \n",
       "374458      202        6      1   2017-12-27      03:52:38             2   \n",
       "374530      265        7      1   2017-12-28      01:48:58             3   \n",
       "374605      514        6      1   2017-12-29      03:22:32             4   \n",
       "\n",
       "        duration  \n",
       "374310         2  \n",
       "374400         4  \n",
       "374458         3  \n",
       "374530         1  \n",
       "374605         2  "
      ]
     },
     "execution_count": 20,
     "metadata": {},
     "output_type": "execute_result"
    }
   ],
   "source": [
    "df_filter.tail()"
   ]
  },
  {
   "cell_type": "code",
   "execution_count": 21,
   "metadata": {},
   "outputs": [],
   "source": [
    "df_filter= df_filter.query(\"duration <= 60 \")\n",
    "# we lose about 1% of the data"
   ]
  },
  {
   "cell_type": "code",
   "execution_count": 22,
   "metadata": {},
   "outputs": [
    {
     "data": {
      "text/plain": [
       "Launched\n",
       "2015    65266\n",
       "2014    59303\n",
       "2016    49092\n",
       "2017    43419\n",
       "2013    41084\n",
       "2012    38478\n",
       "2011    22465\n",
       "2010     7597\n",
       "2009      622\n",
       "Name: count, dtype: int64"
      ]
     },
     "execution_count": 22,
     "metadata": {},
     "output_type": "execute_result"
    }
   ],
   "source": [
    "df_filter.Launched.dt.year.value_counts()"
   ]
  },
  {
   "cell_type": "code",
   "execution_count": 23,
   "metadata": {},
   "outputs": [
    {
     "data": {
      "text/plain": [
       "array(['Fashion', 'Illustration', 'Journalism', 'Shorts', 'Fiction',\n",
       "       'Rock', 'Photography', 'Software', 'Film & Video', 'Documentary',\n",
       "       'Theater', 'Sculpture', 'Electronic Music', 'Nonfiction',\n",
       "       'Painting', 'Publishing', 'Public Art', 'Art', 'Crafts', 'Music',\n",
       "       'Narrative Film', \"Children's Books\", 'Tabletop Games',\n",
       "       'Indie Rock', 'Digital Art', 'Animation', 'Comics', 'Video Games',\n",
       "       'Country & Folk', 'Periodicals', 'Food', 'Webseries',\n",
       "       'Conceptual Art', 'Graphic Design', 'Hip-Hop', 'Performance Art',\n",
       "       'Pop', 'World Music', 'Knitting', 'Technology', 'Classical Music',\n",
       "       'Jazz', 'Hardware', 'Graphic Novels', 'Translations',\n",
       "       'Product Design', 'Art Books', 'Puzzles', 'Games', 'Dance',\n",
       "       'Poetry', 'Design', 'Radio & Podcasts', 'Space Exploration',\n",
       "       'Photobooks', 'Audio', 'R&B', 'Fabrication Tools', 'Textiles',\n",
       "       'Mixed Media', 'Architecture', 'Immersive', 'Musical',\n",
       "       'Literary Journals', 'Video', 'Apps', 'DIY Electronics',\n",
       "       'Academic', 'Experimental', 'Anthologies', 'Video Art',\n",
       "       'Comic Books', 'Letterpress', 'Couture', 'Robots', 'Plays',\n",
       "       'Festivals', 'Photo', 'Installations', 'Sound', 'Typography',\n",
       "       'Stationery', 'Camera Equipment', 'Flight', 'Residencies',\n",
       "       'Workshops', 'Chiptune', 'Civic Design', 'Webcomics', 'Weaving',\n",
       "       'Young Adult', 'Web', 'Makerspaces', 'Glass', 'Crochet', 'Quilts',\n",
       "       'Pottery', 'Romance', 'Ceramics', 'Embroidery', 'Candles', 'DIY',\n",
       "       'Printing', 'Gadgets', 'Zines', 'Kids', 'Footwear', 'Pet Fashion',\n",
       "       'Events', 'Thrillers', 'Woodworking', 'Animals', 'Spaces', 'Vegan',\n",
       "       'Ready-to-wear', 'Gaming Hardware', 'Movie Theaters',\n",
       "       'Accessories', 'Punk', 'Metal', 'Bacon', 'Family', 'Food Trucks',\n",
       "       'Fantasy', 'Places', 'Live Games', 'Science Fiction', 'Drama',\n",
       "       'Latin', 'Calendars', 'Horror', 'Television', 'Music Videos',\n",
       "       'Apparel', 'Community Gardens', 'Comedy', 'Faith', 'Restaurants',\n",
       "       'Nature', 'Cookbooks', 'Drinks', '3D Printing', 'People',\n",
       "       'Childrenswear', \"Farmer's Markets\", 'Jewelry',\n",
       "       'Interactive Design', 'Fine Art', 'Blues', 'Wearables',\n",
       "       'Small Batch', 'Farms', 'Action', 'Performances', 'Playing Cards',\n",
       "       'Mobile Games', 'Taxidermy', 'Print', 'Literary Spaces'],\n",
       "      dtype=object)"
      ]
     },
     "execution_count": 23,
     "metadata": {},
     "output_type": "execute_result"
    }
   ],
   "source": [
    "df_filter.Subcategory.unique()"
   ]
  },
  {
   "cell_type": "code",
   "execution_count": 24,
   "metadata": {},
   "outputs": [],
   "source": [
    "df_filter.drop([\"ID\"], axis=1, inplace=True)"
   ]
  },
  {
   "cell_type": "code",
   "execution_count": 25,
   "metadata": {},
   "outputs": [
    {
     "data": {
      "text/html": [
       "<div>\n",
       "<style scoped>\n",
       "    .dataframe tbody tr th:only-of-type {\n",
       "        vertical-align: middle;\n",
       "    }\n",
       "\n",
       "    .dataframe tbody tr th {\n",
       "        vertical-align: top;\n",
       "    }\n",
       "\n",
       "    .dataframe thead th {\n",
       "        text-align: right;\n",
       "    }\n",
       "</style>\n",
       "<table border=\"1\" class=\"dataframe\">\n",
       "  <thead>\n",
       "    <tr style=\"text-align: right;\">\n",
       "      <th></th>\n",
       "      <th>Name</th>\n",
       "      <th>Category</th>\n",
       "      <th>Subcategory</th>\n",
       "      <th>Country</th>\n",
       "      <th>Launched</th>\n",
       "      <th>Deadline</th>\n",
       "      <th>Goal</th>\n",
       "      <th>Pledged</th>\n",
       "      <th>Backers</th>\n",
       "      <th>State</th>\n",
       "      <th>lon_launched</th>\n",
       "      <th>time_launched</th>\n",
       "      <th>day_launched</th>\n",
       "      <th>duration</th>\n",
       "    </tr>\n",
       "  </thead>\n",
       "  <tbody>\n",
       "    <tr>\n",
       "      <th>374310</th>\n",
       "      <td>Propeller Spring 2.0</td>\n",
       "      <td>Games</td>\n",
       "      <td>Games</td>\n",
       "      <td>Austria</td>\n",
       "      <td>2017-12-23 10:14:21</td>\n",
       "      <td>2017-12-26</td>\n",
       "      <td>36</td>\n",
       "      <td>270</td>\n",
       "      <td>36</td>\n",
       "      <td>1</td>\n",
       "      <td>2017-12-23</td>\n",
       "      <td>10:14:21</td>\n",
       "      <td>5</td>\n",
       "      <td>2</td>\n",
       "    </tr>\n",
       "    <tr>\n",
       "      <th>374400</th>\n",
       "      <td>The Cowboy and The Spaceman: Android Collective+</td>\n",
       "      <td>Games</td>\n",
       "      <td>Tabletop Games</td>\n",
       "      <td>United Kingdom</td>\n",
       "      <td>2017-12-26 13:00:24</td>\n",
       "      <td>2017-12-31</td>\n",
       "      <td>271</td>\n",
       "      <td>545</td>\n",
       "      <td>25</td>\n",
       "      <td>1</td>\n",
       "      <td>2017-12-26</td>\n",
       "      <td>13:00:24</td>\n",
       "      <td>1</td>\n",
       "      <td>4</td>\n",
       "    </tr>\n",
       "    <tr>\n",
       "      <th>374458</th>\n",
       "      <td>The CHAMPS Are Here!</td>\n",
       "      <td>Fashion</td>\n",
       "      <td>Apparel</td>\n",
       "      <td>United States</td>\n",
       "      <td>2017-12-27 03:52:38</td>\n",
       "      <td>2017-12-31</td>\n",
       "      <td>200</td>\n",
       "      <td>202</td>\n",
       "      <td>6</td>\n",
       "      <td>1</td>\n",
       "      <td>2017-12-27</td>\n",
       "      <td>03:52:38</td>\n",
       "      <td>2</td>\n",
       "      <td>3</td>\n",
       "    </tr>\n",
       "    <tr>\n",
       "      <th>374530</th>\n",
       "      <td>Kill Them All!</td>\n",
       "      <td>Games</td>\n",
       "      <td>Tabletop Games</td>\n",
       "      <td>United States</td>\n",
       "      <td>2017-12-28 01:48:58</td>\n",
       "      <td>2017-12-30</td>\n",
       "      <td>250</td>\n",
       "      <td>265</td>\n",
       "      <td>7</td>\n",
       "      <td>1</td>\n",
       "      <td>2017-12-28</td>\n",
       "      <td>01:48:58</td>\n",
       "      <td>3</td>\n",
       "      <td>1</td>\n",
       "    </tr>\n",
       "    <tr>\n",
       "      <th>374605</th>\n",
       "      <td>Collaboration with Snoop Dogg</td>\n",
       "      <td>Music</td>\n",
       "      <td>Hip-Hop</td>\n",
       "      <td>Australia</td>\n",
       "      <td>2017-12-29 03:22:32</td>\n",
       "      <td>2018-01-01</td>\n",
       "      <td>392</td>\n",
       "      <td>514</td>\n",
       "      <td>6</td>\n",
       "      <td>1</td>\n",
       "      <td>2017-12-29</td>\n",
       "      <td>03:22:32</td>\n",
       "      <td>4</td>\n",
       "      <td>2</td>\n",
       "    </tr>\n",
       "  </tbody>\n",
       "</table>\n",
       "</div>"
      ],
      "text/plain": [
       "                                                    Name Category   \n",
       "374310                              Propeller Spring 2.0    Games  \\\n",
       "374400  The Cowboy and The Spaceman: Android Collective+    Games   \n",
       "374458                              The CHAMPS Are Here!  Fashion   \n",
       "374530                                    Kill Them All!    Games   \n",
       "374605                     Collaboration with Snoop Dogg    Music   \n",
       "\n",
       "           Subcategory         Country            Launched   Deadline  Goal   \n",
       "374310           Games         Austria 2017-12-23 10:14:21 2017-12-26    36  \\\n",
       "374400  Tabletop Games  United Kingdom 2017-12-26 13:00:24 2017-12-31   271   \n",
       "374458         Apparel   United States 2017-12-27 03:52:38 2017-12-31   200   \n",
       "374530  Tabletop Games   United States 2017-12-28 01:48:58 2017-12-30   250   \n",
       "374605         Hip-Hop       Australia 2017-12-29 03:22:32 2018-01-01   392   \n",
       "\n",
       "        Pledged  Backers  State lon_launched time_launched  day_launched   \n",
       "374310      270       36      1   2017-12-23      10:14:21             5  \\\n",
       "374400      545       25      1   2017-12-26      13:00:24             1   \n",
       "374458      202        6      1   2017-12-27      03:52:38             2   \n",
       "374530      265        7      1   2017-12-28      01:48:58             3   \n",
       "374605      514        6      1   2017-12-29      03:22:32             4   \n",
       "\n",
       "        duration  \n",
       "374310         2  \n",
       "374400         4  \n",
       "374458         3  \n",
       "374530         1  \n",
       "374605         2  "
      ]
     },
     "execution_count": 25,
     "metadata": {},
     "output_type": "execute_result"
    }
   ],
   "source": [
    "df_filter.tail()"
   ]
  },
  {
   "cell_type": "code",
   "execution_count": 26,
   "metadata": {},
   "outputs": [
    {
     "data": {
      "text/plain": [
       "<Axes: xlabel='count', ylabel='Country'>"
      ]
     },
     "execution_count": 26,
     "metadata": {},
     "output_type": "execute_result"
    },
    {
     "data": {
      "image/png": "[encoded data removed]",
      "text/plain": [
       "<Figure size 1700x1000 with 1 Axes>"
      ]
     },
     "metadata": {},
     "output_type": "display_data"
    }
   ],
   "source": [
    "plt.figure(figsize=(17,10))\n",
    "sns.countplot(y= df_filter.Country , hue=df_filter.State)\n"
   ]
  },
  {
   "cell_type": "code",
   "execution_count": 27,
   "metadata": {},
   "outputs": [
    {
     "name": "stdout",
     "output_type": "stream",
     "text": [
      "<class 'pandas.core.frame.DataFrame'>\n",
      "Index: 327326 entries, 0 to 374605\n",
      "Data columns (total 14 columns):\n",
      " #   Column         Non-Null Count   Dtype         \n",
      "---  ------         --------------   -----         \n",
      " 0   Name           327326 non-null  object        \n",
      " 1   Category       327326 non-null  object        \n",
      " 2   Subcategory    327326 non-null  object        \n",
      " 3   Country        327326 non-null  object        \n",
      " 4   Launched       327326 non-null  datetime64[ns]\n",
      " 5   Deadline       327326 non-null  datetime64[ns]\n",
      " 6   Goal           327326 non-null  int64         \n",
      " 7   Pledged        327326 non-null  int64         \n",
      " 8   Backers        327326 non-null  int64         \n",
      " 9   State          327326 non-null  int64         \n",
      " 10  lon_launched   327326 non-null  object        \n",
      " 11  time_launched  327326 non-null  object        \n",
      " 12  day_launched   327326 non-null  int32         \n",
      " 13  duration       327326 non-null  int64         \n",
      "dtypes: datetime64[ns](2), int32(1), int64(5), object(6)\n",
      "memory usage: 36.2+ MB\n"
     ]
    }
   ],
   "source": [
    "df_filter.info()"
   ]
  },
  {
   "cell_type": "code",
   "execution_count": 28,
   "metadata": {},
   "outputs": [
    {
     "data": {
      "text/plain": [
       "<Axes: xlabel='duration', ylabel='Count'>"
      ]
     },
     "execution_count": 28,
     "metadata": {},
     "output_type": "execute_result"
    },
    {
     "data": {
      "image/png": "[encoded data removed]",
      "text/plain": [
       "<Figure size 640x480 with 1 Axes>"
      ]
     },
     "metadata": {},
     "output_type": "display_data"
    }
   ],
   "source": [
    "#plt.figure(figsize=(17,10))\n",
    "sns.histplot(data= df_filter, x=\"duration\", hue=\"State\", multiple=\"dodge\", bins = 12)\n"
   ]
  },
  {
   "cell_type": "code",
   "execution_count": 29,
   "metadata": {},
   "outputs": [
    {
     "data": {
      "text/plain": [
       "<Axes: xlabel='Category', ylabel='count'>"
      ]
     },
     "execution_count": 29,
     "metadata": {},
     "output_type": "execute_result"
    },
    {
     "data": {
      "image/png": "[encoded data removed]",
      "text/plain": [
       "<Figure size 1800x1000 with 1 Axes>"
      ]
     },
     "metadata": {},
     "output_type": "display_data"
    }
   ],
   "source": [
    "plt.figure(figsize=(18,10))\n",
    "sns.countplot(x= df_filter.Category , hue=df_filter.State)"
   ]
  },
  {
   "cell_type": "code",
   "execution_count": 30,
   "metadata": {},
   "outputs": [
    {
     "data": {
      "text/plain": [
       "<Axes: xlabel='Goal', ylabel='Count'>"
      ]
     },
     "execution_count": 30,
     "metadata": {},
     "output_type": "execute_result"
    },
    {
     "data": {
      "image/png": "[encoded data removed]",
      "text/plain": [
       "<Figure size 640x480 with 1 Axes>"
      ]
     },
     "metadata": {},
     "output_type": "display_data"
    }
   ],
   "source": [
    "sns.histplot(x= df_filter.Goal , hue=df_filter.State, bins=7 ) \n"
   ]
  },
  {
   "cell_type": "code",
   "execution_count": 50,
   "metadata": {},
   "outputs": [
    {
     "data": {
      "text/plain": [
       "<Axes: xlabel='Goal', ylabel='Count'>"
      ]
     },
     "execution_count": 50,
     "metadata": {},
     "output_type": "execute_result"
    },
    {
     "data": {
      "image/png": "[encoded data removed]",
      "text/plain": [
       "<Figure size 640x480 with 1 Axes>"
      ]
     },
     "metadata": {},
     "output_type": "display_data"
    }
   ],
   "source": [
    "sns.histplot(data= df_filter[df_filter[\"Goal\"]< 1000], x=\"Goal\" , hue=\"State\", bins=13 ) \n"
   ]
  },
  {
   "cell_type": "code",
   "execution_count": 32,
   "metadata": {},
   "outputs": [
    {
     "data": {
      "text/html": [
       "<div>\n",
       "<style scoped>\n",
       "    .dataframe tbody tr th:only-of-type {\n",
       "        vertical-align: middle;\n",
       "    }\n",
       "\n",
       "    .dataframe tbody tr th {\n",
       "        vertical-align: top;\n",
       "    }\n",
       "\n",
       "    .dataframe thead th {\n",
       "        text-align: right;\n",
       "    }\n",
       "</style>\n",
       "<table border=\"1\" class=\"dataframe\">\n",
       "  <thead>\n",
       "    <tr style=\"text-align: right;\">\n",
       "      <th></th>\n",
       "      <th>Launched</th>\n",
       "      <th>Deadline</th>\n",
       "      <th>Goal</th>\n",
       "      <th>Pledged</th>\n",
       "      <th>Backers</th>\n",
       "      <th>State</th>\n",
       "      <th>day_launched</th>\n",
       "      <th>duration</th>\n",
       "    </tr>\n",
       "  </thead>\n",
       "  <tbody>\n",
       "    <tr>\n",
       "      <th>count</th>\n",
       "      <td>327326</td>\n",
       "      <td>327326</td>\n",
       "      <td>3.273260e+05</td>\n",
       "      <td>3.273260e+05</td>\n",
       "      <td>327326.000000</td>\n",
       "      <td>327326.000000</td>\n",
       "      <td>327326.000000</td>\n",
       "      <td>327326.000000</td>\n",
       "    </tr>\n",
       "    <tr>\n",
       "      <th>mean</th>\n",
       "      <td>2014-09-20 14:59:20.961185280</td>\n",
       "      <td>2014-10-23 09:50:55.236675072</td>\n",
       "      <td>4.168288e+04</td>\n",
       "      <td>1.002358e+04</td>\n",
       "      <td>117.413346</td>\n",
       "      <td>0.404080</td>\n",
       "      <td>2.418470</td>\n",
       "      <td>32.352040</td>\n",
       "    </tr>\n",
       "    <tr>\n",
       "      <th>min</th>\n",
       "      <td>2009-04-21 21:02:48</td>\n",
       "      <td>2009-05-03 00:00:00</td>\n",
       "      <td>0.000000e+00</td>\n",
       "      <td>0.000000e+00</td>\n",
       "      <td>0.000000</td>\n",
       "      <td>0.000000</td>\n",
       "      <td>0.000000</td>\n",
       "      <td>0.000000</td>\n",
       "    </tr>\n",
       "    <tr>\n",
       "      <th>25%</th>\n",
       "      <td>2013-04-24 03:18:34.750000128</td>\n",
       "      <td>2013-05-26 00:00:00</td>\n",
       "      <td>2.000000e+03</td>\n",
       "      <td>5.000000e+01</td>\n",
       "      <td>2.000000</td>\n",
       "      <td>0.000000</td>\n",
       "      <td>1.000000</td>\n",
       "      <td>29.000000</td>\n",
       "    </tr>\n",
       "    <tr>\n",
       "      <th>50%</th>\n",
       "      <td>2014-11-17 07:33:41</td>\n",
       "      <td>2014-12-19 00:00:00</td>\n",
       "      <td>5.000000e+03</td>\n",
       "      <td>7.890000e+02</td>\n",
       "      <td>15.000000</td>\n",
       "      <td>0.000000</td>\n",
       "      <td>2.000000</td>\n",
       "      <td>29.000000</td>\n",
       "    </tr>\n",
       "    <tr>\n",
       "      <th>75%</th>\n",
       "      <td>2016-03-12 00:11:35</td>\n",
       "      <td>2016-04-15 00:00:00</td>\n",
       "      <td>1.500000e+04</td>\n",
       "      <td>4.635000e+03</td>\n",
       "      <td>63.000000</td>\n",
       "      <td>1.000000</td>\n",
       "      <td>4.000000</td>\n",
       "      <td>34.000000</td>\n",
       "    </tr>\n",
       "    <tr>\n",
       "      <th>max</th>\n",
       "      <td>2017-12-29 03:22:32</td>\n",
       "      <td>2018-01-02 00:00:00</td>\n",
       "      <td>1.663614e+08</td>\n",
       "      <td>2.033899e+07</td>\n",
       "      <td>219382.000000</td>\n",
       "      <td>1.000000</td>\n",
       "      <td>6.000000</td>\n",
       "      <td>60.000000</td>\n",
       "    </tr>\n",
       "    <tr>\n",
       "      <th>std</th>\n",
       "      <td>NaN</td>\n",
       "      <td>NaN</td>\n",
       "      <td>1.114360e+06</td>\n",
       "      <td>9.724465e+04</td>\n",
       "      <td>971.680293</td>\n",
       "      <td>0.490714</td>\n",
       "      <td>1.761395</td>\n",
       "      <td>11.536325</td>\n",
       "    </tr>\n",
       "  </tbody>\n",
       "</table>\n",
       "</div>"
      ],
      "text/plain": [
       "                            Launched                       Deadline   \n",
       "count                         327326                         327326  \\\n",
       "mean   2014-09-20 14:59:20.961185280  2014-10-23 09:50:55.236675072   \n",
       "min              2009-04-21 21:02:48            2009-05-03 00:00:00   \n",
       "25%    2013-04-24 03:18:34.750000128            2013-05-26 00:00:00   \n",
       "50%              2014-11-17 07:33:41            2014-12-19 00:00:00   \n",
       "75%              2016-03-12 00:11:35            2016-04-15 00:00:00   \n",
       "max              2017-12-29 03:22:32            2018-01-02 00:00:00   \n",
       "std                              NaN                            NaN   \n",
       "\n",
       "               Goal       Pledged        Backers          State   \n",
       "count  3.273260e+05  3.273260e+05  327326.000000  327326.000000  \\\n",
       "mean   4.168288e+04  1.002358e+04     117.413346       0.404080   \n",
       "min    0.000000e+00  0.000000e+00       0.000000       0.000000   \n",
       "25%    2.000000e+03  5.000000e+01       2.000000       0.000000   \n",
       "50%    5.000000e+03  7.890000e+02      15.000000       0.000000   \n",
       "75%    1.500000e+04  4.635000e+03      63.000000       1.000000   \n",
       "max    1.663614e+08  2.033899e+07  219382.000000       1.000000   \n",
       "std    1.114360e+06  9.724465e+04     971.680293       0.490714   \n",
       "\n",
       "        day_launched       duration  \n",
       "count  327326.000000  327326.000000  \n",
       "mean        2.418470      32.352040  \n",
       "min         0.000000       0.000000  \n",
       "25%         1.000000      29.000000  \n",
       "50%         2.000000      29.000000  \n",
       "75%         4.000000      34.000000  \n",
       "max         6.000000      60.000000  \n",
       "std         1.761395      11.536325  "
      ]
     },
     "execution_count": 32,
     "metadata": {},
     "output_type": "execute_result"
    }
   ],
   "source": [
    "df_filter.describe()"
   ]
  },
  {
   "cell_type": "code",
   "execution_count": null,
   "metadata": {},
   "outputs": [],
   "source": []
  },
  {
   "cell_type": "code",
   "execution_count": 33,
   "metadata": {},
   "outputs": [
    {
     "data": {
      "text/html": [
       "<div>\n",
       "<style scoped>\n",
       "    .dataframe tbody tr th:only-of-type {\n",
       "        vertical-align: middle;\n",
       "    }\n",
       "\n",
       "    .dataframe tbody tr th {\n",
       "        vertical-align: top;\n",
       "    }\n",
       "\n",
       "    .dataframe thead th {\n",
       "        text-align: right;\n",
       "    }\n",
       "</style>\n",
       "<table border=\"1\" class=\"dataframe\">\n",
       "  <thead>\n",
       "    <tr style=\"text-align: right;\">\n",
       "      <th></th>\n",
       "      <th>State</th>\n",
       "      <th>Goal</th>\n",
       "      <th>duration</th>\n",
       "    </tr>\n",
       "  </thead>\n",
       "  <tbody>\n",
       "    <tr>\n",
       "      <th>State</th>\n",
       "      <td>1.000000</td>\n",
       "      <td>-0.023722</td>\n",
       "      <td>-0.126259</td>\n",
       "    </tr>\n",
       "    <tr>\n",
       "      <th>Goal</th>\n",
       "      <td>-0.023722</td>\n",
       "      <td>1.000000</td>\n",
       "      <td>0.024495</td>\n",
       "    </tr>\n",
       "    <tr>\n",
       "      <th>duration</th>\n",
       "      <td>-0.126259</td>\n",
       "      <td>0.024495</td>\n",
       "      <td>1.000000</td>\n",
       "    </tr>\n",
       "  </tbody>\n",
       "</table>\n",
       "</div>"
      ],
      "text/plain": [
       "             State      Goal  duration\n",
       "State     1.000000 -0.023722 -0.126259\n",
       "Goal     -0.023722  1.000000  0.024495\n",
       "duration -0.126259  0.024495  1.000000"
      ]
     },
     "execution_count": 33,
     "metadata": {},
     "output_type": "execute_result"
    }
   ],
   "source": [
    "df_filter[['State', 'Goal', 'duration']].corr()"
   ]
  },
  {
   "cell_type": "markdown",
   "metadata": {},
   "source": [
    "goal billow 1000 is sucss and above is a failed\n",
    " "
   ]
  },
  {
   "cell_type": "markdown",
   "metadata": {},
   "source": [
    "### dict-based"
   ]
  },
  {
   "cell_type": "markdown",
   "metadata": {},
   "source": [
    "# Creating a baseline model"
   ]
  },
  {
   "cell_type": "code",
   "execution_count": 34,
   "metadata": {},
   "outputs": [
    {
     "data": {
      "text/plain": [
       "Category\n",
       "Technology      0.237885\n",
       "Journalism      0.241860\n",
       "Crafts          0.270419\n",
       "Food            0.275484\n",
       "Fashion         0.283134\n",
       "Photography     0.340090\n",
       "Publishing      0.347689\n",
       "Design          0.416248\n",
       "Film & Video    0.420426\n",
       "Games           0.439187\n",
       "Art             0.448839\n",
       "Music           0.527511\n",
       "Comics          0.593990\n",
       "Theater         0.641687\n",
       "Dance           0.655603\n",
       "Name: State, dtype: float64"
      ]
     },
     "execution_count": 34,
     "metadata": {},
     "output_type": "execute_result"
    }
   ],
   "source": [
    "# Deciding on categories \n",
    "# which 3 categories are most likely to succeed?\n",
    "df_filter.groupby('Category').State.mean().sort_values()\n",
    "#df_filter.Category.nunique()"
   ]
  },
  {
   "cell_type": "code",
   "execution_count": 35,
   "metadata": {},
   "outputs": [
    {
     "data": {
      "text/plain": [
       "Category\n",
       "Film & Video    55087\n",
       "Music           44782\n",
       "Publishing      35086\n",
       "Games           28423\n",
       "Technology      26971\n",
       "Art             25332\n",
       "Design          25283\n",
       "Food            21965\n",
       "Fashion         19708\n",
       "Theater         10008\n",
       "Comics           9751\n",
       "Photography      9521\n",
       "Crafts           7799\n",
       "Journalism       4085\n",
       "Dance            3525\n",
       "Name: count, dtype: int64"
      ]
     },
     "execution_count": 35,
     "metadata": {},
     "output_type": "execute_result"
    }
   ],
   "source": [
    "# check value counts for most successful categories\n",
    "\n",
    "df_filter.Category.value_counts()"
   ]
  },
  {
   "cell_type": "markdown",
   "metadata": {},
   "source": [
    "Go with the 3 most frequent categories: Film & Video, Music, Publishing"
   ]
  },
  {
   "cell_type": "markdown",
   "metadata": {},
   "source": [
    "### Metric\n",
    "Recall, as to avoid false negatives"
   ]
  },
  {
   "cell_type": "markdown",
   "metadata": {},
   "source": [
    "### Baseline Model"
   ]
  },
  {
   "cell_type": "code",
   "execution_count": 36,
   "metadata": {},
   "outputs": [],
   "source": [
    "#create data frames for categories\n",
    "df_film = df_filter[df_filter.Category.isin([\"Film & Video\"])]\n",
    "df_music = df_filter[df_filter.Category.isin([\"Music\"])]\n",
    "df_publishing = df_filter[df_filter.Category.isin([\"Publishing\"])]"
   ]
  },
  {
   "cell_type": "code",
   "execution_count": 37,
   "metadata": {},
   "outputs": [
    {
     "data": {
      "text/plain": [
       "<Axes: xlabel='duration', ylabel='Count'>"
      ]
     },
     "execution_count": 37,
     "metadata": {},
     "output_type": "execute_result"
    },
    {
     "data": {
      "image/png": "[encoded data removed]",
      "text/plain": [
       "<Figure size 640x480 with 1 Axes>"
      ]
     },
     "metadata": {},
     "output_type": "display_data"
    }
   ],
   "source": [
    "# plot data\n",
    "sns.histplot(data=df_film,x='duration', hue='State',multiple='dodge', bins=30)  #cutoff: ~29 "
   ]
  },
  {
   "cell_type": "markdown",
   "metadata": {},
   "source": []
  },
  {
   "cell_type": "code",
   "execution_count": 38,
   "metadata": {},
   "outputs": [
    {
     "data": {
      "text/plain": [
       "<Axes: xlabel='duration', ylabel='Count'>"
      ]
     },
     "execution_count": 38,
     "metadata": {},
     "output_type": "execute_result"
    },
    {
     "data": {
      "image/png": "[encoded data removed]",
      "text/plain": [
       "<Figure size 640x480 with 1 Axes>"
      ]
     },
     "metadata": {},
     "output_type": "display_data"
    }
   ],
   "source": [
    "# plot data\n",
    "sns.histplot(data=df_music,x='duration', hue='State',multiple='dodge', bins=30)  #cutoff: ~29 "
   ]
  },
  {
   "cell_type": "code",
   "execution_count": 39,
   "metadata": {},
   "outputs": [
    {
     "data": {
      "text/plain": [
       "<Axes: xlabel='duration', ylabel='Count'>"
      ]
     },
     "execution_count": 39,
     "metadata": {},
     "output_type": "execute_result"
    },
    {
     "data": {
      "image/png": "[encoded data removed]",
      "text/plain": [
       "<Figure size 640x480 with 1 Axes>"
      ]
     },
     "metadata": {},
     "output_type": "display_data"
    }
   ],
   "source": [
    "# plot data\n",
    "sns.histplot(data=df_publishing,x='duration', hue='State',multiple='dodge', bins=30)  #cutoff: ~29 "
   ]
  },
  {
   "cell_type": "code",
   "execution_count": 48,
   "metadata": {},
   "outputs": [
    {
     "data": {
      "text/plain": [
       "<Axes: xlabel='Goal', ylabel='Count'>"
      ]
     },
     "execution_count": 48,
     "metadata": {},
     "output_type": "execute_result"
    },
    {
     "data": {
      "image/png": "[encoded data removed]",
      "text/plain": [
       "<Figure size 640x480 with 1 Axes>"
      ]
     },
     "metadata": {},
     "output_type": "display_data"
    }
   ],
   "source": [
    "# plot data\n",
    "sns.histplot(data=df_publishing,x='Goal', hue='State',multiple='dodge', bins=30)  #cutoff: ~29 "
   ]
  },
  {
   "cell_type": "markdown",
   "metadata": {},
   "source": [
    "Set Cutoff for baseline model to 29 for all three models"
   ]
  },
  {
   "cell_type": "markdown",
   "metadata": {},
   "source": [
    "### pre-processing/cleaning"
   ]
  },
  {
   "cell_type": "markdown",
   "metadata": {},
   "source": [
    "idea: apply log to \"goal\" target, turning it into a normally distributed variable\n",
    "then cut off outliers (above & maybe also below)\n",
    "this should cause us not to need scaling any more"
   ]
  },
  {
   "cell_type": "code",
   "execution_count": 126,
   "metadata": {},
   "outputs": [],
   "source": [
    "df_filter[\"goal_log\"] = np.log(df_filter['Goal'])"
   ]
  },
  {
   "cell_type": "markdown",
   "metadata": {},
   "source": [
    "## Splitting data for testing "
   ]
  },
  {
   "cell_type": "markdown",
   "metadata": {},
   "source": [
    "### dict approach"
   ]
  },
  {
   "cell_type": "code",
   "execution_count": 128,
   "metadata": {},
   "outputs": [],
   "source": [
    "categories = df_filter.Category.unique()"
   ]
  },
  {
   "cell_type": "code",
   "execution_count": 129,
   "metadata": {},
   "outputs": [],
   "source": [
    "X = {}\n",
    "Y = {}\n",
    "for category in categories:\n",
    "    df_temp = df_filter[df_filter.Category.isin([category])]\n",
    "    X[category] = df_temp.drop(columns='State')\n",
    "    Y[category] = df_temp.State"
   ]
  },
  {
   "cell_type": "code",
   "execution_count": 130,
   "metadata": {},
   "outputs": [],
   "source": [
    "X_train = {}\n",
    "X_test = {}\n",
    "y_train = {}\n",
    "y_test = {} \n",
    "for category in categories:\n",
    "    X_train[category], X_test[category], y_train[category], y_test[category] = train_test_split(X[category], Y[category], test_size=0.20, random_state=42)"
   ]
  },
  {
   "cell_type": "code",
   "execution_count": 131,
   "metadata": {},
   "outputs": [],
   "source": [
    "y_baseline = {}\n",
    "for category in categories:\n",
    "    y_baseline[category] = X_test[category].duration.apply(lambda x:0 if x  > 29 else 1).values"
   ]
  },
  {
   "cell_type": "code",
   "execution_count": 132,
   "metadata": {},
   "outputs": [
    {
     "name": "stdout",
     "output_type": "stream",
     "text": [
      "recall for category Fashion: 0.6693620844564241\n",
      "recall for category Art: 0.735202492211838\n",
      "recall for category Journalism: 0.7397959183673469\n",
      "recall for category Film & Video: 0.648607150690941\n",
      "recall for category Publishing: 0.6603697749196141\n",
      "recall for category Music: 0.6095338983050848\n",
      "recall for category Photography: 0.6610942249240122\n",
      "recall for category Technology: 0.5726429675425039\n",
      "recall for category Theater: 0.6529459241323649\n",
      "recall for category Crafts: 0.8175675675675675\n",
      "recall for category Games: 0.7056\n",
      "recall for category Comics: 0.6459948320413437\n",
      "recall for category Food: 0.70926243567753\n",
      "recall for category Design: 0.5532118887823586\n",
      "recall for category Dance: 0.643312101910828\n"
     ]
    }
   ],
   "source": [
    "recall_baseline = {}\n",
    "for category in categories:\n",
    "    recall_baseline[category] = recall_score(y_test[category], y_baseline[category], average='binary')  # Adjust 'average' as needed\n",
    "    print(f\"recall for category {category}: {recall_baseline[category]}\")"
   ]
  },
  {
   "cell_type": "markdown",
   "metadata": {},
   "source": [
    "### next: data cleaning"
   ]
  },
  {
   "cell_type": "markdown",
   "metadata": {},
   "source": [
    "- \"goal\" feature: outliers? scaling?\n",
    "- duration: all good? but: note different max values after year X\n",
    "    - is cleaned by throwing out durations >60\n",
    "- day of the week?"
   ]
  },
  {
   "cell_type": "code",
   "execution_count": 133,
   "metadata": {},
   "outputs": [
    {
     "data": {
      "text/plain": [
       "array([1, 4, 0, 2, 3, 6, 5], dtype=int32)"
      ]
     },
     "execution_count": 133,
     "metadata": {},
     "output_type": "execute_result"
    }
   ],
   "source": [
    "df_filter.day_launched.unique()"
   ]
  },
  {
   "cell_type": "code",
   "execution_count": 134,
   "metadata": {},
   "outputs": [
    {
     "data": {
      "text/plain": [
       "Index(['Name', 'Category', 'Subcategory', 'Country', 'Launched', 'Deadline',\n",
       "       'Goal', 'Pledged', 'Backers', 'State', 'lon_launched', 'time_launched',\n",
       "       'day_launched', 'duration', 'goal_log'],\n",
       "      dtype='object')"
      ]
     },
     "execution_count": 134,
     "metadata": {},
     "output_type": "execute_result"
    }
   ],
   "source": [
    "df_filter.columns"
   ]
  },
  {
   "cell_type": "code",
   "execution_count": 135,
   "metadata": {},
   "outputs": [
    {
     "data": {
      "text/plain": [
       "<Axes: xlabel='Goal'>"
      ]
     },
     "execution_count": 135,
     "metadata": {},
     "output_type": "execute_result"
    },
    {
     "data": {
      "image/png": "[encoded data removed]",
      "text/plain": [
       "<Figure size 640x480 with 1 Axes>"
      ]
     },
     "metadata": {},
     "output_type": "display_data"
    }
   ],
   "source": [
    "sns.boxplot(data = df_filter, x = \"Goal\")"
   ]
  },
  {
   "cell_type": "code",
   "execution_count": 136,
   "metadata": {},
   "outputs": [
    {
     "data": {
      "image/png": "[encoded data removed]",
      "text/plain": [
       "<Figure size 640x480 with 1 Axes>"
      ]
     },
     "metadata": {},
     "output_type": "display_data"
    }
   ],
   "source": [
    "sns.boxplot(data = df_filter, x = \"Goal\")\n",
    "plt.xscale('log')"
   ]
  },
  {
   "cell_type": "markdown",
   "metadata": {},
   "source": [
    "Wikipedia on outliers:\n",
    "> The interquartile range is often used to find outliers in data. Outliers here are defined as observations that fall below Q1 − 1.5 IQR or above Q3 + 1.5 IQR."
   ]
  },
  {
   "cell_type": "code",
   "execution_count": 137,
   "metadata": {},
   "outputs": [
    {
     "data": {
      "text/plain": [
       "array(['Fashion', 'Art', 'Journalism', 'Film & Video', 'Publishing',\n",
       "       'Music', 'Photography', 'Technology', 'Theater', 'Crafts', 'Games',\n",
       "       'Comics', 'Food', 'Design', 'Dance'], dtype=object)"
      ]
     },
     "execution_count": 137,
     "metadata": {},
     "output_type": "execute_result"
    }
   ],
   "source": [
    "categories"
   ]
  },
  {
   "cell_type": "code",
   "execution_count": 138,
   "metadata": {},
   "outputs": [
    {
     "data": {
      "text/plain": [
       "16183.125"
      ]
     },
     "execution_count": 138,
     "metadata": {},
     "output_type": "execute_result"
    }
   ],
   "source": [
    "df_filter.query(\"Category == 'Art'\").Goal.quantile(.75) + 1.5 * (df_filter.query(\"Category == 'Art'\").Goal.quantile(.75) - df_filter.query(\"Category == 'Art'\").Goal.quantile(.25))"
   ]
  },
  {
   "cell_type": "code",
   "execution_count": 146,
   "metadata": {},
   "outputs": [],
   "source": [
    "outliers = {}\n",
    "outliers_log_above = {}\n",
    "outliers_log_below = {}\n",
    "for category in categories:\n",
    "    df_temp = df_filter.query(\"Category == @category\")\n",
    "    outliers[category] = df_temp.Goal.quantile(.75) + 1.5 * (df_temp.Goal.quantile(.75) - df_temp.Goal.quantile(.25))\n",
    "    outliers_log_above[category] = df_temp.goal_log.quantile(.75) + 1.5 * (df_temp.goal_log.quantile(.75) - df_temp.goal_log.quantile(.25))\n",
    "    outliers_log_below[category] = df_temp.goal_log.quantile(.25) - 1.5 * (df_temp.goal_log.quantile(.75) - df_temp.goal_log.quantile(.25))\n",
    "    #print(f\"cutoff for {category}: {outliers[category]}\")"
   ]
  },
  {
   "cell_type": "code",
   "execution_count": 140,
   "metadata": {},
   "outputs": [
    {
     "data": {
      "text/html": [
       "<div>\n",
       "<style scoped>\n",
       "    .dataframe tbody tr th:only-of-type {\n",
       "        vertical-align: middle;\n",
       "    }\n",
       "\n",
       "    .dataframe tbody tr th {\n",
       "        vertical-align: top;\n",
       "    }\n",
       "\n",
       "    .dataframe thead th {\n",
       "        text-align: right;\n",
       "    }\n",
       "</style>\n",
       "<table border=\"1\" class=\"dataframe\">\n",
       "  <thead>\n",
       "    <tr style=\"text-align: right;\">\n",
       "      <th></th>\n",
       "      <th>Name</th>\n",
       "      <th>Category</th>\n",
       "      <th>Subcategory</th>\n",
       "      <th>Country</th>\n",
       "      <th>Launched</th>\n",
       "      <th>Deadline</th>\n",
       "      <th>Goal</th>\n",
       "      <th>Pledged</th>\n",
       "      <th>Backers</th>\n",
       "      <th>State</th>\n",
       "      <th>lon_launched</th>\n",
       "      <th>time_launched</th>\n",
       "      <th>day_launched</th>\n",
       "      <th>duration</th>\n",
       "      <th>goal_log</th>\n",
       "    </tr>\n",
       "  </thead>\n",
       "  <tbody>\n",
       "    <tr>\n",
       "      <th>2</th>\n",
       "      <td>drawing for dollars</td>\n",
       "      <td>Art</td>\n",
       "      <td>Illustration</td>\n",
       "      <td>United States</td>\n",
       "      <td>2009-04-24 21:52:03</td>\n",
       "      <td>2009-05-03</td>\n",
       "      <td>20</td>\n",
       "      <td>35</td>\n",
       "      <td>3</td>\n",
       "      <td>1</td>\n",
       "      <td>2009-04-24</td>\n",
       "      <td>21:52:03</td>\n",
       "      <td>4</td>\n",
       "      <td>8</td>\n",
       "      <td>2.995732</td>\n",
       "    </tr>\n",
       "    <tr>\n",
       "      <th>20</th>\n",
       "      <td>Support casting my sculpture in bronze</td>\n",
       "      <td>Art</td>\n",
       "      <td>Sculpture</td>\n",
       "      <td>United States</td>\n",
       "      <td>2009-05-01 14:22:21</td>\n",
       "      <td>2009-05-31</td>\n",
       "      <td>2000</td>\n",
       "      <td>25</td>\n",
       "      <td>1</td>\n",
       "      <td>0</td>\n",
       "      <td>2009-05-01</td>\n",
       "      <td>14:22:21</td>\n",
       "      <td>4</td>\n",
       "      <td>29</td>\n",
       "      <td>7.600902</td>\n",
       "    </tr>\n",
       "    <tr>\n",
       "      <th>29</th>\n",
       "      <td>\"LostLES\" at Tiny's Giant</td>\n",
       "      <td>Art</td>\n",
       "      <td>Painting</td>\n",
       "      <td>United States</td>\n",
       "      <td>2009-05-05 01:48:21</td>\n",
       "      <td>2009-06-06</td>\n",
       "      <td>5000</td>\n",
       "      <td>5045</td>\n",
       "      <td>44</td>\n",
       "      <td>1</td>\n",
       "      <td>2009-05-05</td>\n",
       "      <td>01:48:21</td>\n",
       "      <td>1</td>\n",
       "      <td>31</td>\n",
       "      <td>8.517193</td>\n",
       "    </tr>\n",
       "    <tr>\n",
       "      <th>35</th>\n",
       "      <td>365 Postcards</td>\n",
       "      <td>Art</td>\n",
       "      <td>Public Art</td>\n",
       "      <td>United States</td>\n",
       "      <td>2009-05-06 18:20:07</td>\n",
       "      <td>2009-07-01</td>\n",
       "      <td>365</td>\n",
       "      <td>626</td>\n",
       "      <td>54</td>\n",
       "      <td>1</td>\n",
       "      <td>2009-05-06</td>\n",
       "      <td>18:20:07</td>\n",
       "      <td>2</td>\n",
       "      <td>55</td>\n",
       "      <td>5.899897</td>\n",
       "    </tr>\n",
       "    <tr>\n",
       "      <th>40</th>\n",
       "      <td>commissioner.com</td>\n",
       "      <td>Art</td>\n",
       "      <td>Art</td>\n",
       "      <td>United States</td>\n",
       "      <td>2009-05-10 03:03:29</td>\n",
       "      <td>2009-07-02</td>\n",
       "      <td>250</td>\n",
       "      <td>2</td>\n",
       "      <td>2</td>\n",
       "      <td>0</td>\n",
       "      <td>2009-05-10</td>\n",
       "      <td>03:03:29</td>\n",
       "      <td>6</td>\n",
       "      <td>52</td>\n",
       "      <td>5.521461</td>\n",
       "    </tr>\n",
       "    <tr>\n",
       "      <th>...</th>\n",
       "      <td>...</td>\n",
       "      <td>...</td>\n",
       "      <td>...</td>\n",
       "      <td>...</td>\n",
       "      <td>...</td>\n",
       "      <td>...</td>\n",
       "      <td>...</td>\n",
       "      <td>...</td>\n",
       "      <td>...</td>\n",
       "      <td>...</td>\n",
       "      <td>...</td>\n",
       "      <td>...</td>\n",
       "      <td>...</td>\n",
       "      <td>...</td>\n",
       "      <td>...</td>\n",
       "    </tr>\n",
       "    <tr>\n",
       "      <th>373556</th>\n",
       "      <td>1st Annual Brian Kesinger Christmas Ornament</td>\n",
       "      <td>Art</td>\n",
       "      <td>Art</td>\n",
       "      <td>United States</td>\n",
       "      <td>2017-12-14 09:01:39</td>\n",
       "      <td>2017-12-15</td>\n",
       "      <td>1000</td>\n",
       "      <td>9244</td>\n",
       "      <td>59</td>\n",
       "      <td>1</td>\n",
       "      <td>2017-12-14</td>\n",
       "      <td>09:01:39</td>\n",
       "      <td>3</td>\n",
       "      <td>0</td>\n",
       "      <td>6.907755</td>\n",
       "    </tr>\n",
       "    <tr>\n",
       "      <th>373601</th>\n",
       "      <td>Art Project: For Our Oceans</td>\n",
       "      <td>Art</td>\n",
       "      <td>Painting</td>\n",
       "      <td>United States</td>\n",
       "      <td>2017-12-14 19:42:20</td>\n",
       "      <td>2017-12-29</td>\n",
       "      <td>3000</td>\n",
       "      <td>0</td>\n",
       "      <td>0</td>\n",
       "      <td>0</td>\n",
       "      <td>2017-12-14</td>\n",
       "      <td>19:42:20</td>\n",
       "      <td>3</td>\n",
       "      <td>14</td>\n",
       "      <td>8.006368</td>\n",
       "    </tr>\n",
       "    <tr>\n",
       "      <th>373643</th>\n",
       "      <td>Tabler art</td>\n",
       "      <td>Art</td>\n",
       "      <td>Art</td>\n",
       "      <td>United States</td>\n",
       "      <td>2017-12-15 02:57:18</td>\n",
       "      <td>2017-12-31</td>\n",
       "      <td>7500</td>\n",
       "      <td>280</td>\n",
       "      <td>6</td>\n",
       "      <td>0</td>\n",
       "      <td>2017-12-15</td>\n",
       "      <td>02:57:18</td>\n",
       "      <td>4</td>\n",
       "      <td>15</td>\n",
       "      <td>8.922658</td>\n",
       "    </tr>\n",
       "    <tr>\n",
       "      <th>373701</th>\n",
       "      <td>Sailor Moon Sailor Senshi Enamel Pin Kickstarter</td>\n",
       "      <td>Art</td>\n",
       "      <td>Illustration</td>\n",
       "      <td>Canada</td>\n",
       "      <td>2017-12-15 20:39:21</td>\n",
       "      <td>2017-12-31</td>\n",
       "      <td>1679</td>\n",
       "      <td>930</td>\n",
       "      <td>31</td>\n",
       "      <td>0</td>\n",
       "      <td>2017-12-15</td>\n",
       "      <td>20:39:21</td>\n",
       "      <td>4</td>\n",
       "      <td>15</td>\n",
       "      <td>7.425954</td>\n",
       "    </tr>\n",
       "    <tr>\n",
       "      <th>374259</th>\n",
       "      <td>The Dumbest Thing In Your Mailbox - Part 5.5 -...</td>\n",
       "      <td>Art</td>\n",
       "      <td>Art</td>\n",
       "      <td>United States</td>\n",
       "      <td>2017-12-22 20:25:04</td>\n",
       "      <td>2017-12-29</td>\n",
       "      <td>1</td>\n",
       "      <td>113</td>\n",
       "      <td>24</td>\n",
       "      <td>1</td>\n",
       "      <td>2017-12-22</td>\n",
       "      <td>20:25:04</td>\n",
       "      <td>4</td>\n",
       "      <td>6</td>\n",
       "      <td>0.000000</td>\n",
       "    </tr>\n",
       "  </tbody>\n",
       "</table>\n",
       "<p>22503 rows × 15 columns</p>\n",
       "</div>"
      ],
      "text/plain": [
       "                                                     Name Category   \n",
       "2                                     drawing for dollars      Art  \\\n",
       "20                 Support casting my sculpture in bronze      Art   \n",
       "29                              \"LostLES\" at Tiny's Giant      Art   \n",
       "35                                          365 Postcards      Art   \n",
       "40                                       commissioner.com      Art   \n",
       "...                                                   ...      ...   \n",
       "373556       1st Annual Brian Kesinger Christmas Ornament      Art   \n",
       "373601                        Art Project: For Our Oceans      Art   \n",
       "373643                                         Tabler art      Art   \n",
       "373701   Sailor Moon Sailor Senshi Enamel Pin Kickstarter      Art   \n",
       "374259  The Dumbest Thing In Your Mailbox - Part 5.5 -...      Art   \n",
       "\n",
       "         Subcategory        Country            Launched   Deadline  Goal   \n",
       "2       Illustration  United States 2009-04-24 21:52:03 2009-05-03    20  \\\n",
       "20         Sculpture  United States 2009-05-01 14:22:21 2009-05-31  2000   \n",
       "29          Painting  United States 2009-05-05 01:48:21 2009-06-06  5000   \n",
       "35        Public Art  United States 2009-05-06 18:20:07 2009-07-01   365   \n",
       "40               Art  United States 2009-05-10 03:03:29 2009-07-02   250   \n",
       "...              ...            ...                 ...        ...   ...   \n",
       "373556           Art  United States 2017-12-14 09:01:39 2017-12-15  1000   \n",
       "373601      Painting  United States 2017-12-14 19:42:20 2017-12-29  3000   \n",
       "373643           Art  United States 2017-12-15 02:57:18 2017-12-31  7500   \n",
       "373701  Illustration         Canada 2017-12-15 20:39:21 2017-12-31  1679   \n",
       "374259           Art  United States 2017-12-22 20:25:04 2017-12-29     1   \n",
       "\n",
       "        Pledged  Backers  State lon_launched time_launched  day_launched   \n",
       "2            35        3      1   2009-04-24      21:52:03             4  \\\n",
       "20           25        1      0   2009-05-01      14:22:21             4   \n",
       "29         5045       44      1   2009-05-05      01:48:21             1   \n",
       "35          626       54      1   2009-05-06      18:20:07             2   \n",
       "40            2        2      0   2009-05-10      03:03:29             6   \n",
       "...         ...      ...    ...          ...           ...           ...   \n",
       "373556     9244       59      1   2017-12-14      09:01:39             3   \n",
       "373601        0        0      0   2017-12-14      19:42:20             3   \n",
       "373643      280        6      0   2017-12-15      02:57:18             4   \n",
       "373701      930       31      0   2017-12-15      20:39:21             4   \n",
       "374259      113       24      1   2017-12-22      20:25:04             4   \n",
       "\n",
       "        duration  goal_log  \n",
       "2              8  2.995732  \n",
       "20            29  7.600902  \n",
       "29            31  8.517193  \n",
       "35            55  5.899897  \n",
       "40            52  5.521461  \n",
       "...          ...       ...  \n",
       "373556         0  6.907755  \n",
       "373601        14  8.006368  \n",
       "373643        15  8.922658  \n",
       "373701        15  7.425954  \n",
       "374259         6  0.000000  \n",
       "\n",
       "[22503 rows x 15 columns]"
      ]
     },
     "execution_count": 140,
     "metadata": {},
     "output_type": "execute_result"
    }
   ],
   "source": [
    "df_filter.query(\"Category == 'Art'\")[df_filter.query(\"Category == 'Art'\").Goal <= outliers[\"Art\"]]\n",
    "# output: data for Category Art where Goal is below category-specific threshold"
   ]
  },
  {
   "cell_type": "code",
   "execution_count": 141,
   "metadata": {},
   "outputs": [
    {
     "data": {
      "text/plain": [
       "46307     1\n",
       "310235    1\n",
       "189506    1\n",
       "56271     1\n",
       "21187     1\n",
       "         ..\n",
       "317041    1\n",
       "70445     0\n",
       "14703     0\n",
       "219850    0\n",
       "347083    0\n",
       "Name: State, Length: 20265, dtype: int64"
      ]
     },
     "execution_count": 141,
     "metadata": {},
     "output_type": "execute_result"
    }
   ],
   "source": [
    "y_train[\"Art\"]"
   ]
  },
  {
   "cell_type": "code",
   "execution_count": 151,
   "metadata": {},
   "outputs": [],
   "source": [
    "df_train_wo_outlier = {}\n",
    "y_train_wo_outlier = {}\n",
    "X_train_wo_outlier = {}\n",
    "for category in categories:\n",
    "    df_train_wo_outlier[category] = X_train[category][(outliers_log_below[category] <= X_train[category].goal_log) & (X_train[category].goal_log <= outliers_log_above[category])]\n",
    "    df_train_wo_outlier[category] = pd.merge(df_train_wo_outlier[category], y_train[category], left_index=True, right_index=True)\n",
    "    y_train_wo_outlier[category] = df_train_wo_outlier[category]['State']\n",
    "    X_train_wo_outlier[category] = df_train_wo_outlier[category].drop('State', axis=1)"
   ]
  },
  {
   "cell_type": "code",
   "execution_count": 144,
   "metadata": {},
   "outputs": [
    {
     "data": {
      "text/plain": [
       "<Axes: xlabel='goal_log', ylabel='Count'>"
      ]
     },
     "execution_count": 144,
     "metadata": {},
     "output_type": "execute_result"
    },
    {
     "data": {
      "image/png": "[encoded data removed]",
      "text/plain": [
       "<Figure size 640x480 with 1 Axes>"
      ]
     },
     "metadata": {},
     "output_type": "display_data"
    }
   ],
   "source": [
    "sns.histplot(data = X_train[\"Art\"].query(\"Goal > 0\"), x = \"goal_log\")"
   ]
  },
  {
   "cell_type": "code",
   "execution_count": 152,
   "metadata": {},
   "outputs": [
    {
     "data": {
      "text/plain": [
       "<Axes: xlabel='goal_log', ylabel='Count'>"
      ]
     },
     "execution_count": 152,
     "metadata": {},
     "output_type": "execute_result"
    },
    {
     "data": {
      "image/png": "[encoded data removed]",
      "text/plain": [
       "<Figure size 640x480 with 1 Axes>"
      ]
     },
     "metadata": {},
     "output_type": "display_data"
    }
   ],
   "source": [
    "sns.histplot(data = X_train_wo_outlier[\"Art\"].query(\"Goal > 0\"), x = \"goal_log\")"
   ]
  },
  {
   "cell_type": "code",
   "execution_count": 143,
   "metadata": {},
   "outputs": [
    {
     "data": {
      "text/plain": [
       "<Axes: xlabel='Goal', ylabel='Count'>"
      ]
     },
     "execution_count": 143,
     "metadata": {},
     "output_type": "execute_result"
    },
    {
     "data": {
      "image/png": "[encoded data removed]",
      "text/plain": [
       "<Figure size 640x480 with 1 Axes>"
      ]
     },
     "metadata": {},
     "output_type": "display_data"
    }
   ],
   "source": [
    "sns.histplot(data = X_train[\"Art\"].query(\"Goal > 0\"), x = \"Goal\", log_scale = True)"
   ]
  },
  {
   "cell_type": "code",
   "execution_count": 122,
   "metadata": {},
   "outputs": [
    {
     "data": {
      "text/plain": [
       "<Axes: xlabel='Goal', ylabel='Count'>"
      ]
     },
     "execution_count": 122,
     "metadata": {},
     "output_type": "execute_result"
    },
    {
     "data": {
      "image/png": "[encoded data removed]",
      "text/plain": [
       "<Figure size 640x480 with 1 Axes>"
      ]
     },
     "metadata": {},
     "output_type": "display_data"
    }
   ],
   "source": [
    "sns.histplot(data = X_train[\"Technology\"].query(\"Goal > 0\"), x = \"Goal\", log_scale = True)"
   ]
  },
  {
   "cell_type": "code",
   "execution_count": 120,
   "metadata": {},
   "outputs": [
    {
     "data": {
      "text/plain": [
       "<Axes: xlabel='Goal', ylabel='Count'>"
      ]
     },
     "execution_count": 120,
     "metadata": {},
     "output_type": "execute_result"
    },
    {
     "data": {
      "image/png": "[encoded data removed]",
      "text/plain": [
       "<Figure size 640x480 with 1 Axes>"
      ]
     },
     "metadata": {},
     "output_type": "display_data"
    }
   ],
   "source": [
    "sns.histplot(data = X_train_wo_outlier[\"Art\"].query(\"Goal > 0\"), x = \"Goal\", log_scale = True)"
   ]
  },
  {
   "cell_type": "markdown",
   "metadata": {},
   "source": [
    "we now have X- and y-test data with outliers for the goal level removed at a category level\n",
    "next: scaling?"
   ]
  },
  {
   "cell_type": "markdown",
   "metadata": {},
   "source": [
    "# next: remove o"
   ]
  },
  {
   "cell_type": "code",
   "execution_count": 145,
   "metadata": {},
   "outputs": [
    {
     "data": {
      "image/png": "[encoded data removed]",
      "text/plain": [
       "<Figure size 640x480 with 1 Axes>"
      ]
     },
     "metadata": {},
     "output_type": "display_data"
    },
    {
     "data": {
      "image/png": "[encoded data removed]",
      "text/plain": [
       "<Figure size 640x480 with 1 Axes>"
      ]
     },
     "metadata": {},
     "output_type": "display_data"
    },
    {
     "data": {
      "image/png": "[encoded data removed]",
      "text/plain": [
       "<Figure size 640x480 with 1 Axes>"
      ]
     },
     "metadata": {},
     "output_type": "display_data"
    },
    {
     "data": {
      "image/png": "[encoded data removed]",
      "text/plain": [
       "<Figure size 640x480 with 1 Axes>"
      ]
     },
     "metadata": {},
     "output_type": "display_data"
    },
    {
     "data": {
      "image/png": "[encoded data removed]",
      "text/plain": [
       "<Figure size 640x480 with 1 Axes>"
      ]
     },
     "metadata": {},
     "output_type": "display_data"
    },
    {
     "data": {
      "image/png": "[encoded data removed]",
      "text/plain": [
       "<Figure size 640x480 with 1 Axes>"
      ]
     },
     "metadata": {},
     "output_type": "display_data"
    },
    {
     "data": {
      "image/png": "[encoded data removed]",
      "text/plain": [
       "<Figure size 640x480 with 1 Axes>"
      ]
     },
     "metadata": {},
     "output_type": "display_data"
    },
    {
     "data": {
      "image/png": "[encoded data removed]",
      "text/plain": [
       "<Figure size 640x480 with 1 Axes>"
      ]
     },
     "metadata": {},
     "output_type": "display_data"
    },
    {
     "data": {
      "image/png": "[encoded data removed]",
      "text/plain": [
       "<Figure size 640x480 with 1 Axes>"
      ]
     },
     "metadata": {},
     "output_type": "display_data"
    },
    {
     "data": {
      "image/png": "[encoded data removed]",
      "text/plain": [
       "<Figure size 640x480 with 1 Axes>"
      ]
     },
     "metadata": {},
     "output_type": "display_data"
    },
    {
     "data": {
      "image/png": "[encoded data removed]",
      "text/plain": [
       "<Figure size 640x480 with 1 Axes>"
      ]
     },
     "metadata": {},
     "output_type": "display_data"
    },
    {
     "data": {
      "image/png": "[encoded data removed]",
      "text/plain": [
       "<Figure size 640x480 with 1 Axes>"
      ]
     },
     "metadata": {},
     "output_type": "display_data"
    },
    {
     "data": {
      "image/png": "[encoded data removed]",
      "text/plain": [
       "<Figure size 640x480 with 1 Axes>"
      ]
     },
     "metadata": {},
     "output_type": "display_data"
    },
    {
     "data": {
      "image/png": "[encoded data removed]",
      "text/plain": [
       "<Figure size 640x480 with 1 Axes>"
      ]
     },
     "metadata": {},
     "output_type": "display_data"
    },
    {
     "data": {
      "image/png": "[encoded data removed]",
      "text/plain": [
       "<Figure size 640x480 with 1 Axes>"
      ]
     },
     "metadata": {},
     "output_type": "display_data"
    }
   ],
   "source": [
    "for category in categories:\n",
    "    sns.boxplot(data = df_filter.query('Category == @category'), x = 'goal_log')\n",
    "    plt.title(category)\n",
    "    plt.show()"
   ]
  },
  {
   "cell_type": "code",
   "execution_count": 89,
   "metadata": {},
   "outputs": [
    {
     "data": {
      "image/png": "[encoded data removed]",
      "text/plain": [
       "<Figure size 640x480 with 1 Axes>"
      ]
     },
     "metadata": {},
     "output_type": "display_data"
    },
    {
     "data": {
      "image/png": "[encoded data removed]",
      "text/plain": [
       "<Figure size 640x480 with 1 Axes>"
      ]
     },
     "metadata": {},
     "output_type": "display_data"
    },
    {
     "data": {
      "image/png": "[encoded data removed]",
      "text/plain": [
       "<Figure size 640x480 with 1 Axes>"
      ]
     },
     "metadata": {},
     "output_type": "display_data"
    },
    {
     "data": {
      "image/png": "[encoded data removed]",
      "text/plain": [
       "<Figure size 640x480 with 1 Axes>"
      ]
     },
     "metadata": {},
     "output_type": "display_data"
    },
    {
     "data": {
      "image/png": "[encoded data removed]",
      "text/plain": [
       "<Figure size 640x480 with 1 Axes>"
      ]
     },
     "metadata": {},
     "output_type": "display_data"
    },
    {
     "data": {
      "image/png": "[encoded data removed]",
      "text/plain": [
       "<Figure size 640x480 with 1 Axes>"
      ]
     },
     "metadata": {},
     "output_type": "display_data"
    },
    {
     "data": {
      "image/png": "[encoded data removed]",
      "text/plain": [
       "<Figure size 640x480 with 1 Axes>"
      ]
     },
     "metadata": {},
     "output_type": "display_data"
    },
    {
     "data": {
      "image/png": "[encoded data removed]",
      "text/plain": [
       "<Figure size 640x480 with 1 Axes>"
      ]
     },
     "metadata": {},
     "output_type": "display_data"
    },
    {
     "data": {
      "image/png": "[encoded data removed]",
      "text/plain": [
       "<Figure size 640x480 with 1 Axes>"
      ]
     },
     "metadata": {},
     "output_type": "display_data"
    },
    {
     "data": {
      "image/png": "[encoded data removed]",
      "text/plain": [
       "<Figure size 640x480 with 1 Axes>"
      ]
     },
     "metadata": {},
     "output_type": "display_data"
    },
    {
     "data": {
      "image/png": "[encoded data removed]",
      "text/plain": [
       "<Figure size 640x480 with 1 Axes>"
      ]
     },
     "metadata": {},
     "output_type": "display_data"
    },
    {
     "data": {
      "image/png": "[encoded data removed]",
      "text/plain": [
       "<Figure size 640x480 with 1 Axes>"
      ]
     },
     "metadata": {},
     "output_type": "display_data"
    },
    {
     "data": {
      "image/png": "[encoded data removed]",
      "text/plain": [
       "<Figure size 640x480 with 1 Axes>"
      ]
     },
     "metadata": {},
     "output_type": "display_data"
    },
    {
     "data": {
      "image/png": "[encoded data removed]",
      "text/plain": [
       "<Figure size 640x480 with 1 Axes>"
      ]
     },
     "metadata": {},
     "output_type": "display_data"
    },
    {
     "data": {
      "image/png": "[encoded data removed]",
      "text/plain": [
       "<Figure size 640x480 with 1 Axes>"
      ]
     },
     "metadata": {},
     "output_type": "display_data"
    }
   ],
   "source": [
    "for category in categories:\n",
    "    sns.boxplot(data = df_filter.query('Category == @category'), x = 'Goal')\n",
    "    plt.xscale('log')\n",
    "    plt.title(category)\n",
    "    plt.show()"
   ]
  },
  {
   "cell_type": "markdown",
   "metadata": {},
   "source": [
    "### manual approach"
   ]
  },
  {
   "cell_type": "code",
   "execution_count": 40,
   "metadata": {},
   "outputs": [],
   "source": [
    "#define X and y\n",
    "X = df_film.drop(columns='State')\n",
    "Y = df_film.State"
   ]
  },
  {
   "cell_type": "code",
   "execution_count": 41,
   "metadata": {},
   "outputs": [],
   "source": [
    "from sklearn.model_selection import train_test_split\n",
    "\n",
    "X_train, X_test, y_train, y_test = train_test_split(X, Y, test_size=0.20, random_state=42)"
   ]
  },
  {
   "cell_type": "code",
   "execution_count": 42,
   "metadata": {},
   "outputs": [],
   "source": [
    "y_baseline = X_test.duration.apply(lambda x:0 if x  > 29 else 1).values\n"
   ]
  },
  {
   "cell_type": "code",
   "execution_count": 43,
   "metadata": {},
   "outputs": [
    {
     "name": "stdout",
     "output_type": "stream",
     "text": [
      "Recall: 0.648607150690941\n"
     ]
    }
   ],
   "source": [
    "from sklearn.metrics import recall_score\n",
    "recall = recall_score(y_test, y_baseline, average='binary')  # Adjust 'average' as needed\n",
    "print(f\"Recall: {recall}\")"
   ]
  },
  {
   "cell_type": "code",
   "execution_count": 44,
   "metadata": {},
   "outputs": [
    {
     "name": "stdout",
     "output_type": "stream",
     "text": [
      "Recall: 0.6095338983050848\n"
     ]
    }
   ],
   "source": [
    "Xm = df_music.drop(columns='State')\n",
    "Ym = df_music.State\n",
    "X_train_m, X_test_m, y_train_m, y_test_m = train_test_split(Xm, Ym, test_size=0.20, random_state=42)\n",
    "y_baseline_m = X_test_m.duration.apply(lambda x:0 if x  > 29 else 1).values\n",
    "recall_m = recall_score(y_test_m, y_baseline_m, average='binary')  # Adjust 'average' as needed\n",
    "print(f\"Recall: {recall_m}\")"
   ]
  },
  {
   "cell_type": "code",
   "execution_count": 45,
   "metadata": {},
   "outputs": [
    {
     "name": "stdout",
     "output_type": "stream",
     "text": [
      "Recall: 0.6603697749196141\n"
     ]
    }
   ],
   "source": [
    "Xp = df_publishing.drop(columns='State')\n",
    "Yp = df_publishing.State\n",
    "X_train_p, X_test_p, y_train_p, y_test_p = train_test_split(Xp, Yp, test_size=0.20, random_state=42)\n",
    "y_baseline_p = X_test_p.duration.apply(lambda x:0 if x  > 29 else 1).values\n",
    "recall_p = recall_score(y_test_p, y_baseline_p, average='binary')  # Adjust 'average' as needed\n",
    "print(f\"Recall: {recall_p}\")"
   ]
  },
  {
   "cell_type": "markdown",
   "metadata": {},
   "source": [
    "## coffee stuff"
   ]
  },
  {
   "cell_type": "code",
   "execution_count": null,
   "metadata": {},
   "outputs": [],
   "source": [
    "altitude_low_meters_mean = X_train[\"altitude_low_meters\"].mean()\n",
    "altitude_high_meters_mean = X_train[\"altitude_high_meters\"].mean()\n",
    "altitude_mean_log_mean = X_train[\"altitude_mean_log\"].mean()"
   ]
  },
  {
   "cell_type": "code",
   "execution_count": null,
   "metadata": {},
   "outputs": [],
   "source": [
    "# fillna with mean.. \n",
    "X_train[\"altitude_low_meters\"] = X_train[\"altitude_low_meters\"].fillna(altitude_low_meters_mean)\n",
    "X_train[\"altitude_high_meters\"] = X_train[\"altitude_high_meters\"].fillna(altitude_high_meters_mean)\n",
    "X_train[\"altitude_mean_log\"] = X_train[\"altitude_mean_log\"].fillna(altitude_mean_log_mean)"
   ]
  },
  {
   "cell_type": "code",
   "execution_count": null,
   "metadata": {},
   "outputs": [
    {
     "name": "stdout",
     "output_type": "stream",
     "text": [
      "altitude low meters mean is 1500.3684210526317\n",
      "altitude_high_meters_mean is 1505.6315789473683\n",
      "altitude_mean_log_mean is 7.0571530664031155\n"
     ]
    }
   ],
   "source": [
    "print(f\"altitude low meters mean is {altitude_low_meters_mean}\")\n",
    "print(f\"altitude_high_meters_mean is {altitude_high_meters_mean}\")\n",
    "print(f\"altitude_mean_log_mean is {altitude_mean_log_mean}\")"
   ]
  },
  {
   "cell_type": "markdown",
   "metadata": {},
   "source": [
    "## Trainining the model"
   ]
  },
  {
   "cell_type": "code",
   "execution_count": null,
   "metadata": {},
   "outputs": [],
   "source": [
    "## in order to exemplify how the predict will work.. we will save the y_train\n",
    "X_test.to_csv(\"data/X_test.csv\")\n",
    "y_test.to_csv(\"data/y_test.csv\")"
   ]
  },
  {
   "cell_type": "code",
   "execution_count": null,
   "metadata": {},
   "outputs": [],
   "source": [
    "#training the model\n",
    "from sklearn.linear_model import LinearRegression\n",
    "reg = LinearRegression().fit(X_train, y_train)"
   ]
  },
  {
   "cell_type": "code",
   "execution_count": null,
   "metadata": {},
   "outputs": [
    {
     "name": "stdout",
     "output_type": "stream",
     "text": [
      "6.701014816713759e-28\n"
     ]
    }
   ],
   "source": [
    "from sklearn.metrics import mean_squared_error\n",
    "y_train_pred = reg.predict(X_train)\n",
    "mse = mean_squared_error(y_train, y_train_pred)\n",
    "print(mse)"
   ]
  },
  {
   "cell_type": "code",
   "execution_count": null,
   "metadata": {},
   "outputs": [],
   "source": [
    "#dropping Quakers column and unnamed\n",
    "#changing one of the altitude to log and droping the original\n",
    "X_test[\"altitude_mean_log\"] = np.log(X_test[\"altitude_mean_meters\"])\n",
    "X_test.drop(['altitude_mean_meters'], axis=1, inplace=True)\n",
    "X_test.drop(['Quakers'], axis=1, inplace=True)\n",
    "X_test.drop(['Unnamed: 0'], axis=1, inplace=True)\n",
    "# fillna with mean.. \n",
    "X_test[\"altitude_low_meters\"] = X_test[\"altitude_low_meters\"].fillna(altitude_low_meters_mean)\n",
    "X_test[\"altitude_high_meters\"] = X_test[\"altitude_high_meters\"].fillna(altitude_high_meters_mean)\n",
    "X_test[\"altitude_mean_log\"] = X_test[\"altitude_mean_log\"].fillna(altitude_mean_log_mean)"
   ]
  },
  {
   "cell_type": "code",
   "execution_count": null,
   "metadata": {},
   "outputs": [
    {
     "name": "stdout",
     "output_type": "stream",
     "text": [
      "2.08680004794465e-27\n"
     ]
    }
   ],
   "source": [
    "y_test_pred = reg.predict(X_test)\n",
    "mse = mean_squared_error(y_test, y_test_pred)\n",
    "print(mse)"
   ]
  }
 ],
 "metadata": {
  "kernelspec": {
   "display_name": ".venv",
   "language": "python",
   "name": "python3"
  },
  "language_info": {
   "codemirror_mode": {
    "name": "ipython",
    "version": 3
   },
   "file_extension": ".py",
   "mimetype": "text/x-python",
   "name": "python",
   "nbconvert_exporter": "python",
   "pygments_lexer": "ipython3",
   "version": "3.11.3"
  }
 },
 "nbformat": 4,
 "nbformat_minor": 4
}
